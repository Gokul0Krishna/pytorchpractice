{
 "cells": [
  {
   "cell_type": "code",
   "execution_count": 3,
   "id": "a06627ff",
   "metadata": {},
   "outputs": [],
   "source": [
    "Audiolist=[]\n",
    "lables=[]\n",
    "l=[]\n",
    "\n",
    "import os\n",
    "for i in os.listdir(r\"C:\\Users\\ASUS\\OneDrive\\Desktop\\code\\datasets\\Audio_Files\"):\n",
    "    a=0\n",
    "    for j in os.listdir(f\"C:/Users/ASUS/OneDrive/Desktop/code/datasets/Audio_Files/{i}\"):\n",
    "        if a>200:\n",
    "            break\n",
    "        Audiolist.append(f\"C:/Users/ASUS/OneDrive/Desktop/code/datasets/Audio_Files/{i}/{j}\")\n",
    "        lables.append(i)\n",
    "        a+=1\n",
    "    l.append(i)"
   ]
  },
  {
   "cell_type": "code",
   "execution_count": 4,
   "id": "92b22e24",
   "metadata": {},
   "outputs": [
    {
     "data": {
      "text/plain": [
       "402"
      ]
     },
     "execution_count": 4,
     "metadata": {},
     "output_type": "execute_result"
    }
   ],
   "source": [
    "len(lables)"
   ]
  },
  {
   "cell_type": "code",
   "execution_count": 8,
   "id": "617c254d",
   "metadata": {},
   "outputs": [
    {
     "data": {
      "text/html": [
       "<div>\n",
       "<style scoped>\n",
       "    .dataframe tbody tr th:only-of-type {\n",
       "        vertical-align: middle;\n",
       "    }\n",
       "\n",
       "    .dataframe tbody tr th {\n",
       "        vertical-align: top;\n",
       "    }\n",
       "\n",
       "    .dataframe thead th {\n",
       "        text-align: right;\n",
       "    }\n",
       "</style>\n",
       "<table border=\"1\" class=\"dataframe\">\n",
       "  <thead>\n",
       "    <tr style=\"text-align: right;\">\n",
       "      <th></th>\n",
       "      <th>X</th>\n",
       "      <th>Major</th>\n",
       "      <th>Minor</th>\n",
       "    </tr>\n",
       "  </thead>\n",
       "  <tbody>\n",
       "    <tr>\n",
       "      <th>0</th>\n",
       "      <td>C:/Users/ASUS/OneDrive/Desktop/code/datasets/A...</td>\n",
       "      <td>1.0</td>\n",
       "      <td>0.0</td>\n",
       "    </tr>\n",
       "    <tr>\n",
       "      <th>1</th>\n",
       "      <td>C:/Users/ASUS/OneDrive/Desktop/code/datasets/A...</td>\n",
       "      <td>1.0</td>\n",
       "      <td>0.0</td>\n",
       "    </tr>\n",
       "    <tr>\n",
       "      <th>2</th>\n",
       "      <td>C:/Users/ASUS/OneDrive/Desktop/code/datasets/A...</td>\n",
       "      <td>1.0</td>\n",
       "      <td>0.0</td>\n",
       "    </tr>\n",
       "    <tr>\n",
       "      <th>3</th>\n",
       "      <td>C:/Users/ASUS/OneDrive/Desktop/code/datasets/A...</td>\n",
       "      <td>1.0</td>\n",
       "      <td>0.0</td>\n",
       "    </tr>\n",
       "    <tr>\n",
       "      <th>4</th>\n",
       "      <td>C:/Users/ASUS/OneDrive/Desktop/code/datasets/A...</td>\n",
       "      <td>1.0</td>\n",
       "      <td>0.0</td>\n",
       "    </tr>\n",
       "  </tbody>\n",
       "</table>\n",
       "</div>"
      ],
      "text/plain": [
       "                                                   X  Major  Minor\n",
       "0  C:/Users/ASUS/OneDrive/Desktop/code/datasets/A...    1.0    0.0\n",
       "1  C:/Users/ASUS/OneDrive/Desktop/code/datasets/A...    1.0    0.0\n",
       "2  C:/Users/ASUS/OneDrive/Desktop/code/datasets/A...    1.0    0.0\n",
       "3  C:/Users/ASUS/OneDrive/Desktop/code/datasets/A...    1.0    0.0\n",
       "4  C:/Users/ASUS/OneDrive/Desktop/code/datasets/A...    1.0    0.0"
      ]
     },
     "execution_count": 8,
     "metadata": {},
     "output_type": "execute_result"
    }
   ],
   "source": [
    "import pandas as pd\n",
    "d={\n",
    "    \"X\":Audiolist,\n",
    "    \"Y\":lables\n",
    "}\n",
    "df=pd.DataFrame(d)\n",
    "df=pd.get_dummies(df,columns=[\"Y\"],dtype=float)\n",
    "df.columns = df.columns.str.replace(\"Y_\", \"\")\n",
    "df.head()"
   ]
  },
  {
   "cell_type": "code",
   "execution_count": 9,
   "id": "43a3c5b6",
   "metadata": {},
   "outputs": [],
   "source": [
    "from sklearn.model_selection import train_test_split\n",
    "xtrain,xtest,ytrain,ytest=train_test_split(df['X'],df[lables],random_state=69,test_size=0.3)\n",
    "xtest,xval,ytest,yval=train_test_split(xtest,ytest,random_state=69,test_size=0.5)"
   ]
  },
  {
   "cell_type": "code",
   "execution_count": null,
   "id": "2db7bfc5",
   "metadata": {},
   "outputs": [],
   "source": [
    "from torch.utils.data import DataLoader,Dataset\n",
    "\n",
    "class custom_dataset(Dataset):\n",
    "    "
   ]
  }
 ],
 "metadata": {
  "kernelspec": {
   "display_name": "PyTorch",
   "language": "python",
   "name": "python3"
  },
  "language_info": {
   "codemirror_mode": {
    "name": "ipython",
    "version": 3
   },
   "file_extension": ".py",
   "mimetype": "text/x-python",
   "name": "python",
   "nbconvert_exporter": "python",
   "pygments_lexer": "ipython3",
   "version": "3.9.23"
  }
 },
 "nbformat": 4,
 "nbformat_minor": 5
}
