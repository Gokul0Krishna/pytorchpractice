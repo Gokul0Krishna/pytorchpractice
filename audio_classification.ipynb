{
 "cells": [
  {
   "cell_type": "code",
   "execution_count": 4,
   "id": "a06627ff",
   "metadata": {},
   "outputs": [],
   "source": [
    "Audiolist=[]\n",
    "lables=[]\n",
    "l=[]\n",
    "\n",
    "import os\n",
    "for i in os.listdir(r\"C:\\Users\\ASUS\\OneDrive\\Desktop\\code\\datasets\\Audio_Files\"):\n",
    "    a=0\n",
    "    for j in os.listdir(f\"C:/Users/ASUS/OneDrive/Desktop/code/datasets/Audio_Files/{i}\"):\n",
    "        if a>200:\n",
    "            break\n",
    "        Audiolist.append(f\"C:/Users/ASUS/OneDrive/Desktop/code/datasets/Audio_Files/{i}/{j}\")\n",
    "        lables.append(i)\n",
    "        a+=1\n",
    "    l.append(i)"
   ]
  },
  {
   "cell_type": "code",
   "execution_count": 5,
   "id": "92b22e24",
   "metadata": {},
   "outputs": [
    {
     "data": {
      "text/plain": [
       "402"
      ]
     },
     "execution_count": 5,
     "metadata": {},
     "output_type": "execute_result"
    }
   ],
   "source": [
    "len(lables)"
   ]
  },
  {
   "cell_type": "code",
   "execution_count": 6,
   "id": "617c254d",
   "metadata": {},
   "outputs": [
    {
     "data": {
      "text/html": [
       "<div>\n",
       "<style scoped>\n",
       "    .dataframe tbody tr th:only-of-type {\n",
       "        vertical-align: middle;\n",
       "    }\n",
       "\n",
       "    .dataframe tbody tr th {\n",
       "        vertical-align: top;\n",
       "    }\n",
       "\n",
       "    .dataframe thead th {\n",
       "        text-align: right;\n",
       "    }\n",
       "</style>\n",
       "<table border=\"1\" class=\"dataframe\">\n",
       "  <thead>\n",
       "    <tr style=\"text-align: right;\">\n",
       "      <th></th>\n",
       "      <th>X</th>\n",
       "      <th>Major</th>\n",
       "      <th>Minor</th>\n",
       "    </tr>\n",
       "  </thead>\n",
       "  <tbody>\n",
       "    <tr>\n",
       "      <th>0</th>\n",
       "      <td>C:/Users/ASUS/OneDrive/Desktop/code/datasets/A...</td>\n",
       "      <td>1.0</td>\n",
       "      <td>0.0</td>\n",
       "    </tr>\n",
       "    <tr>\n",
       "      <th>1</th>\n",
       "      <td>C:/Users/ASUS/OneDrive/Desktop/code/datasets/A...</td>\n",
       "      <td>1.0</td>\n",
       "      <td>0.0</td>\n",
       "    </tr>\n",
       "    <tr>\n",
       "      <th>2</th>\n",
       "      <td>C:/Users/ASUS/OneDrive/Desktop/code/datasets/A...</td>\n",
       "      <td>1.0</td>\n",
       "      <td>0.0</td>\n",
       "    </tr>\n",
       "    <tr>\n",
       "      <th>3</th>\n",
       "      <td>C:/Users/ASUS/OneDrive/Desktop/code/datasets/A...</td>\n",
       "      <td>1.0</td>\n",
       "      <td>0.0</td>\n",
       "    </tr>\n",
       "    <tr>\n",
       "      <th>4</th>\n",
       "      <td>C:/Users/ASUS/OneDrive/Desktop/code/datasets/A...</td>\n",
       "      <td>1.0</td>\n",
       "      <td>0.0</td>\n",
       "    </tr>\n",
       "  </tbody>\n",
       "</table>\n",
       "</div>"
      ],
      "text/plain": [
       "                                                   X  Major  Minor\n",
       "0  C:/Users/ASUS/OneDrive/Desktop/code/datasets/A...    1.0    0.0\n",
       "1  C:/Users/ASUS/OneDrive/Desktop/code/datasets/A...    1.0    0.0\n",
       "2  C:/Users/ASUS/OneDrive/Desktop/code/datasets/A...    1.0    0.0\n",
       "3  C:/Users/ASUS/OneDrive/Desktop/code/datasets/A...    1.0    0.0\n",
       "4  C:/Users/ASUS/OneDrive/Desktop/code/datasets/A...    1.0    0.0"
      ]
     },
     "execution_count": 6,
     "metadata": {},
     "output_type": "execute_result"
    }
   ],
   "source": [
    "import pandas as pd\n",
    "d={\n",
    "    \"X\":Audiolist,\n",
    "    \"Y\":lables\n",
    "}\n",
    "df=pd.DataFrame(d)\n",
    "df=pd.get_dummies(df,columns=[\"Y\"],dtype=float)\n",
    "df.columns = df.columns.str.replace(\"Y_\", \"\")\n",
    "df.head()"
   ]
  },
  {
   "cell_type": "code",
   "execution_count": 7,
   "id": "43a3c5b6",
   "metadata": {},
   "outputs": [],
   "source": [
    "from sklearn.model_selection import train_test_split\n",
    "xtrain,xtest,ytrain,ytest=train_test_split(df['X'],df[lables],random_state=69,test_size=0.3)\n",
    "xtest,xval,ytest,yval=train_test_split(xtest,ytest,random_state=69,test_size=0.5)"
   ]
  },
  {
   "cell_type": "code",
   "execution_count": null,
   "id": "2db7bfc5",
   "metadata": {},
   "outputs": [],
   "source": [
    "from torch.utils.data import DataLoader,Dataset\n",
    "import torch\n",
    "class custom_dataset(Dataset):\n",
    "    def __init__(self,X,Y):\n",
    "        self.X=torch.Tensor(self.getspectogram(X).type(torch.FloatTensor))\n",
    "        self.Y=Y\n",
    "\n",
    "    def __len__(self):\n",
    "        return self.X.shape[0]\n",
    "    \n",
    "    def __getitem__(self, index):\n",
    "        return self.X.iloc[index],self.Y.iloc[index,1:2]\n",
    "    \n",
    "    def getspectogram(self,path):\n",
    "        sr=22050\n",
    "        duration= 5\n",
    "        imageh,imagew=128,256\n",
    "\n",
    "        signal,sr ="
   ]
  },
  {
   "cell_type": "code",
   "execution_count": 10,
   "id": "ac22e1c7",
   "metadata": {},
   "outputs": [],
   "source": [
    "traindataset=custom_dataset(xtrain,ytrain)\n",
    "testdataset=custom_dataset(xtest,ytest)\n",
    "valdataset=custom_dataset(xval,yval)\n",
    "\n",
    "trainloader=DataLoader(traindataset,batch_size=64,shuffle=True)\n",
    "valloader=DataLoader(valdataset,batch_size=64,shuffle=True)\n",
    "testloader=DataLoader(testdataset,batch_size=64,shuffle=True)"
   ]
  },
  {
   "cell_type": "code",
   "execution_count": null,
   "id": "eaa1cdf5",
   "metadata": {},
   "outputs": [],
   "source": []
  }
 ],
 "metadata": {
  "kernelspec": {
   "display_name": "PyTorch",
   "language": "python",
   "name": "python3"
  },
  "language_info": {
   "codemirror_mode": {
    "name": "ipython",
    "version": 3
   },
   "file_extension": ".py",
   "mimetype": "text/x-python",
   "name": "python",
   "nbconvert_exporter": "python",
   "pygments_lexer": "ipython3",
   "version": "3.9.23"
  }
 },
 "nbformat": 4,
 "nbformat_minor": 5
}
