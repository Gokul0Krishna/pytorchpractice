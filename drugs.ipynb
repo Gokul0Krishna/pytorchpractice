{
 "cells": [
  {
   "cell_type": "code",
   "execution_count": null,
   "id": "3d0ad264",
   "metadata": {},
   "outputs": [],
   "source": []
  }
 ],
 "metadata": {
  "kernelspec": {
   "display_name": "PyTorch",
   "language": "python",
   "name": "python3"
  },
  "language_info": {
   "name": "python",
   "version": "3.9.23"
  }
 },
 "nbformat": 4,
 "nbformat_minor": 5
}
