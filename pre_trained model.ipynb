{
 "cells": [
  {
   "cell_type": "code",
   "execution_count": 12,
   "id": "3e66632a",
   "metadata": {},
   "outputs": [],
   "source": [
    "import os\n",
    "import pandas as pd"
   ]
  },
  {
   "cell_type": "code",
   "execution_count": 10,
   "id": "1e9ee77c",
   "metadata": {},
   "outputs": [],
   "source": [
    "image=[]\n",
    "labels=[]\n",
    "\n",
    "l=[]\n",
    "\n",
    "for i in os.listdir(f\"C:/Users/ASUS/OneDrive/Desktop/code/datasets/train\"):\n",
    "    for j in os.listdir(f\"C:/Users/ASUS/OneDrive/Desktop/code/datasets/train/{i}\"):\n",
    "        image.append(f\"C:/Users/ASUS/OneDrive/Desktop/code/datasets/train/{i}/{j}\")\n",
    "        labels.append(i)\n",
    "    l.append(i)\n",
    "\n",
    "for i in os.listdir(f\"C:/Users/ASUS/OneDrive/Desktop/code/datasets/val\"):\n",
    "    for j in os.listdir(f\"C:/Users/ASUS/OneDrive/Desktop/code/datasets/val/{i}\"):\n",
    "        image.append(f\"C:/Users/ASUS/OneDrive/Desktop/code/datasets/val/{i}/{j}\")\n",
    "        labels.append(i)"
   ]
  },
  {
   "cell_type": "code",
   "execution_count": 14,
   "id": "7847bc58",
   "metadata": {},
   "outputs": [
    {
     "data": {
      "text/html": [
       "<div>\n",
       "<style scoped>\n",
       "    .dataframe tbody tr th:only-of-type {\n",
       "        vertical-align: middle;\n",
       "    }\n",
       "\n",
       "    .dataframe tbody tr th {\n",
       "        vertical-align: top;\n",
       "    }\n",
       "\n",
       "    .dataframe thead th {\n",
       "        text-align: right;\n",
       "    }\n",
       "</style>\n",
       "<table border=\"1\" class=\"dataframe\">\n",
       "  <thead>\n",
       "    <tr style=\"text-align: right;\">\n",
       "      <th></th>\n",
       "      <th>X</th>\n",
       "      <th>angular_leaf_spot</th>\n",
       "      <th>bean_rust</th>\n",
       "      <th>healthy</th>\n",
       "    </tr>\n",
       "  </thead>\n",
       "  <tbody>\n",
       "    <tr>\n",
       "      <th>0</th>\n",
       "      <td>C:/Users/ASUS/OneDrive/Desktop/code/datasets/t...</td>\n",
       "      <td>1.0</td>\n",
       "      <td>0.0</td>\n",
       "      <td>0.0</td>\n",
       "    </tr>\n",
       "    <tr>\n",
       "      <th>1</th>\n",
       "      <td>C:/Users/ASUS/OneDrive/Desktop/code/datasets/t...</td>\n",
       "      <td>1.0</td>\n",
       "      <td>0.0</td>\n",
       "      <td>0.0</td>\n",
       "    </tr>\n",
       "    <tr>\n",
       "      <th>2</th>\n",
       "      <td>C:/Users/ASUS/OneDrive/Desktop/code/datasets/t...</td>\n",
       "      <td>1.0</td>\n",
       "      <td>0.0</td>\n",
       "      <td>0.0</td>\n",
       "    </tr>\n",
       "    <tr>\n",
       "      <th>3</th>\n",
       "      <td>C:/Users/ASUS/OneDrive/Desktop/code/datasets/t...</td>\n",
       "      <td>1.0</td>\n",
       "      <td>0.0</td>\n",
       "      <td>0.0</td>\n",
       "    </tr>\n",
       "    <tr>\n",
       "      <th>4</th>\n",
       "      <td>C:/Users/ASUS/OneDrive/Desktop/code/datasets/t...</td>\n",
       "      <td>1.0</td>\n",
       "      <td>0.0</td>\n",
       "      <td>0.0</td>\n",
       "    </tr>\n",
       "  </tbody>\n",
       "</table>\n",
       "</div>"
      ],
      "text/plain": [
       "                                                   X  angular_leaf_spot  \\\n",
       "0  C:/Users/ASUS/OneDrive/Desktop/code/datasets/t...                1.0   \n",
       "1  C:/Users/ASUS/OneDrive/Desktop/code/datasets/t...                1.0   \n",
       "2  C:/Users/ASUS/OneDrive/Desktop/code/datasets/t...                1.0   \n",
       "3  C:/Users/ASUS/OneDrive/Desktop/code/datasets/t...                1.0   \n",
       "4  C:/Users/ASUS/OneDrive/Desktop/code/datasets/t...                1.0   \n",
       "\n",
       "   bean_rust  healthy  \n",
       "0        0.0      0.0  \n",
       "1        0.0      0.0  \n",
       "2        0.0      0.0  \n",
       "3        0.0      0.0  \n",
       "4        0.0      0.0  "
      ]
     },
     "execution_count": 14,
     "metadata": {},
     "output_type": "execute_result"
    }
   ],
   "source": [
    "d={\n",
    "    \"X\":image,\n",
    "    \"Y\":labels\n",
    "}\n",
    "df=pd.DataFrame(d)\n",
    "df=pd.get_dummies(df,columns=[\"Y\"],dtype=float)\n",
    "df.columns = df.columns.str.replace(\"Y_\", \"\")\n",
    "df.head()"
   ]
  },
  {
   "cell_type": "code",
   "execution_count": 15,
   "id": "77db33b4",
   "metadata": {},
   "outputs": [],
   "source": [
    "from sklearn.model_selection import train_test_split\n",
    "\n",
    "xtrain,xtest,ytrain,ytest=train_test_split(df[\"X\"],df[l],random_state=69,test_size=0.2)\n",
    "xtest,xval,ytest,yval=train_test_split(xtest,ytest,random_state=69,test_size=0.5)"
   ]
  },
  {
   "cell_type": "code",
   "execution_count": null,
   "id": "68a65c63",
   "metadata": {},
   "outputs": [],
   "source": [
    "import torch\n",
    "import torch.nn as nn\n",
    "import torch.trans"
   ]
  }
 ],
 "metadata": {
  "kernelspec": {
   "display_name": "PyTorch",
   "language": "python",
   "name": "python3"
  },
  "language_info": {
   "codemirror_mode": {
    "name": "ipython",
    "version": 3
   },
   "file_extension": ".py",
   "mimetype": "text/x-python",
   "name": "python",
   "nbconvert_exporter": "python",
   "pygments_lexer": "ipython3",
   "version": "3.9.23"
  }
 },
 "nbformat": 4,
 "nbformat_minor": 5
}
