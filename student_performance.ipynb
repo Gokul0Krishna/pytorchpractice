{
 "cells": [
  {
   "cell_type": "code",
   "execution_count": 1,
   "id": "dc764d90",
   "metadata": {},
   "outputs": [],
   "source": [
    "import pandas as pd"
   ]
  },
  {
   "cell_type": "code",
   "execution_count": 69,
   "id": "d745f5b2",
   "metadata": {},
   "outputs": [
    {
     "data": {
      "application/vnd.microsoft.datawrangler.viewer.v0+json": {
       "columns": [
        {
         "name": "index",
         "rawType": "int64",
         "type": "integer"
        },
        {
         "name": "Hours Studied",
         "rawType": "int64",
         "type": "integer"
        },
        {
         "name": "Previous Scores",
         "rawType": "int64",
         "type": "integer"
        },
        {
         "name": "Extracurricular Activities",
         "rawType": "object",
         "type": "string"
        },
        {
         "name": "Sleep Hours",
         "rawType": "int64",
         "type": "integer"
        },
        {
         "name": "Sample Question Papers Practiced",
         "rawType": "int64",
         "type": "integer"
        },
        {
         "name": "Performance Index",
         "rawType": "float64",
         "type": "float"
        }
       ],
       "ref": "c51795f2-649f-433c-8f4e-d203da648fa7",
       "rows": [
        [
         "0",
         "7",
         "99",
         "Yes",
         "9",
         "1",
         "91.0"
        ],
        [
         "1",
         "4",
         "82",
         "No",
         "4",
         "2",
         "65.0"
        ],
        [
         "2",
         "8",
         "51",
         "Yes",
         "7",
         "2",
         "45.0"
        ],
        [
         "3",
         "5",
         "52",
         "Yes",
         "5",
         "2",
         "36.0"
        ],
        [
         "4",
         "7",
         "75",
         "No",
         "8",
         "5",
         "66.0"
        ]
       ],
       "shape": {
        "columns": 6,
        "rows": 5
       }
      },
      "text/html": [
       "<div>\n",
       "<style scoped>\n",
       "    .dataframe tbody tr th:only-of-type {\n",
       "        vertical-align: middle;\n",
       "    }\n",
       "\n",
       "    .dataframe tbody tr th {\n",
       "        vertical-align: top;\n",
       "    }\n",
       "\n",
       "    .dataframe thead th {\n",
       "        text-align: right;\n",
       "    }\n",
       "</style>\n",
       "<table border=\"1\" class=\"dataframe\">\n",
       "  <thead>\n",
       "    <tr style=\"text-align: right;\">\n",
       "      <th></th>\n",
       "      <th>Hours Studied</th>\n",
       "      <th>Previous Scores</th>\n",
       "      <th>Extracurricular Activities</th>\n",
       "      <th>Sleep Hours</th>\n",
       "      <th>Sample Question Papers Practiced</th>\n",
       "      <th>Performance Index</th>\n",
       "    </tr>\n",
       "  </thead>\n",
       "  <tbody>\n",
       "    <tr>\n",
       "      <th>0</th>\n",
       "      <td>7</td>\n",
       "      <td>99</td>\n",
       "      <td>Yes</td>\n",
       "      <td>9</td>\n",
       "      <td>1</td>\n",
       "      <td>91.0</td>\n",
       "    </tr>\n",
       "    <tr>\n",
       "      <th>1</th>\n",
       "      <td>4</td>\n",
       "      <td>82</td>\n",
       "      <td>No</td>\n",
       "      <td>4</td>\n",
       "      <td>2</td>\n",
       "      <td>65.0</td>\n",
       "    </tr>\n",
       "    <tr>\n",
       "      <th>2</th>\n",
       "      <td>8</td>\n",
       "      <td>51</td>\n",
       "      <td>Yes</td>\n",
       "      <td>7</td>\n",
       "      <td>2</td>\n",
       "      <td>45.0</td>\n",
       "    </tr>\n",
       "    <tr>\n",
       "      <th>3</th>\n",
       "      <td>5</td>\n",
       "      <td>52</td>\n",
       "      <td>Yes</td>\n",
       "      <td>5</td>\n",
       "      <td>2</td>\n",
       "      <td>36.0</td>\n",
       "    </tr>\n",
       "    <tr>\n",
       "      <th>4</th>\n",
       "      <td>7</td>\n",
       "      <td>75</td>\n",
       "      <td>No</td>\n",
       "      <td>8</td>\n",
       "      <td>5</td>\n",
       "      <td>66.0</td>\n",
       "    </tr>\n",
       "  </tbody>\n",
       "</table>\n",
       "</div>"
      ],
      "text/plain": [
       "   Hours Studied  Previous Scores Extracurricular Activities  Sleep Hours  \\\n",
       "0              7               99                        Yes            9   \n",
       "1              4               82                         No            4   \n",
       "2              8               51                        Yes            7   \n",
       "3              5               52                        Yes            5   \n",
       "4              7               75                         No            8   \n",
       "\n",
       "   Sample Question Papers Practiced  Performance Index  \n",
       "0                                 1               91.0  \n",
       "1                                 2               65.0  \n",
       "2                                 2               45.0  \n",
       "3                                 2               36.0  \n",
       "4                                 5               66.0  "
      ]
     },
     "execution_count": 69,
     "metadata": {},
     "output_type": "execute_result"
    }
   ],
   "source": [
    "df=pd.read_csv(r\"C:\\Users\\ASUS\\OneDrive\\Desktop\\code\\datasets\\archive\\Student_Performance.csv\")\n",
    "df.head()"
   ]
  },
  {
   "cell_type": "code",
   "execution_count": 71,
   "id": "f4e45b70",
   "metadata": {},
   "outputs": [
    {
     "data": {
      "application/vnd.microsoft.datawrangler.viewer.v0+json": {
       "columns": [
        {
         "name": "index",
         "rawType": "int64",
         "type": "integer"
        },
        {
         "name": "Hours Studied",
         "rawType": "int64",
         "type": "integer"
        },
        {
         "name": "Previous Scores",
         "rawType": "int64",
         "type": "integer"
        },
        {
         "name": "Extracurricular Activities",
         "rawType": "int8",
         "type": "integer"
        },
        {
         "name": "Sleep Hours",
         "rawType": "int64",
         "type": "integer"
        },
        {
         "name": "Sample Question Papers Practiced",
         "rawType": "int64",
         "type": "integer"
        },
        {
         "name": "Performance Index",
         "rawType": "float64",
         "type": "float"
        }
       ],
       "ref": "14ab8c4a-6984-4ebb-be77-8a504feac5de",
       "rows": [
        [
         "0",
         "7",
         "99",
         "1",
         "9",
         "1",
         "91.0"
        ],
        [
         "1",
         "4",
         "82",
         "0",
         "4",
         "2",
         "65.0"
        ],
        [
         "2",
         "8",
         "51",
         "1",
         "7",
         "2",
         "45.0"
        ],
        [
         "3",
         "5",
         "52",
         "1",
         "5",
         "2",
         "36.0"
        ],
        [
         "4",
         "7",
         "75",
         "0",
         "8",
         "5",
         "66.0"
        ]
       ],
       "shape": {
        "columns": 6,
        "rows": 5
       }
      },
      "text/html": [
       "<div>\n",
       "<style scoped>\n",
       "    .dataframe tbody tr th:only-of-type {\n",
       "        vertical-align: middle;\n",
       "    }\n",
       "\n",
       "    .dataframe tbody tr th {\n",
       "        vertical-align: top;\n",
       "    }\n",
       "\n",
       "    .dataframe thead th {\n",
       "        text-align: right;\n",
       "    }\n",
       "</style>\n",
       "<table border=\"1\" class=\"dataframe\">\n",
       "  <thead>\n",
       "    <tr style=\"text-align: right;\">\n",
       "      <th></th>\n",
       "      <th>Hours Studied</th>\n",
       "      <th>Previous Scores</th>\n",
       "      <th>Extracurricular Activities</th>\n",
       "      <th>Sleep Hours</th>\n",
       "      <th>Sample Question Papers Practiced</th>\n",
       "      <th>Performance Index</th>\n",
       "    </tr>\n",
       "  </thead>\n",
       "  <tbody>\n",
       "    <tr>\n",
       "      <th>0</th>\n",
       "      <td>7</td>\n",
       "      <td>99</td>\n",
       "      <td>1</td>\n",
       "      <td>9</td>\n",
       "      <td>1</td>\n",
       "      <td>91.0</td>\n",
       "    </tr>\n",
       "    <tr>\n",
       "      <th>1</th>\n",
       "      <td>4</td>\n",
       "      <td>82</td>\n",
       "      <td>0</td>\n",
       "      <td>4</td>\n",
       "      <td>2</td>\n",
       "      <td>65.0</td>\n",
       "    </tr>\n",
       "    <tr>\n",
       "      <th>2</th>\n",
       "      <td>8</td>\n",
       "      <td>51</td>\n",
       "      <td>1</td>\n",
       "      <td>7</td>\n",
       "      <td>2</td>\n",
       "      <td>45.0</td>\n",
       "    </tr>\n",
       "    <tr>\n",
       "      <th>3</th>\n",
       "      <td>5</td>\n",
       "      <td>52</td>\n",
       "      <td>1</td>\n",
       "      <td>5</td>\n",
       "      <td>2</td>\n",
       "      <td>36.0</td>\n",
       "    </tr>\n",
       "    <tr>\n",
       "      <th>4</th>\n",
       "      <td>7</td>\n",
       "      <td>75</td>\n",
       "      <td>0</td>\n",
       "      <td>8</td>\n",
       "      <td>5</td>\n",
       "      <td>66.0</td>\n",
       "    </tr>\n",
       "  </tbody>\n",
       "</table>\n",
       "</div>"
      ],
      "text/plain": [
       "   Hours Studied  Previous Scores  Extracurricular Activities  Sleep Hours  \\\n",
       "0              7               99                           1            9   \n",
       "1              4               82                           0            4   \n",
       "2              8               51                           1            7   \n",
       "3              5               52                           1            5   \n",
       "4              7               75                           0            8   \n",
       "\n",
       "   Sample Question Papers Practiced  Performance Index  \n",
       "0                                 1               91.0  \n",
       "1                                 2               65.0  \n",
       "2                                 2               45.0  \n",
       "3                                 2               36.0  \n",
       "4                                 5               66.0  "
      ]
     },
     "execution_count": 71,
     "metadata": {},
     "output_type": "execute_result"
    }
   ],
   "source": [
    "df['Extracurricular Activities']=df['Extracurricular Activities'].astype('category').cat.codes\n",
    "df.head()"
   ]
  },
  {
   "cell_type": "code",
   "execution_count": 73,
   "id": "cf572893",
   "metadata": {},
   "outputs": [
    {
     "data": {
      "application/vnd.microsoft.datawrangler.viewer.v0+json": {
       "columns": [
        {
         "name": "index",
         "rawType": "object",
         "type": "string"
        },
        {
         "name": "Hours Studied",
         "rawType": "float64",
         "type": "float"
        },
        {
         "name": "Previous Scores",
         "rawType": "float64",
         "type": "float"
        },
        {
         "name": "Extracurricular Activities",
         "rawType": "float64",
         "type": "float"
        },
        {
         "name": "Sleep Hours",
         "rawType": "float64",
         "type": "float"
        },
        {
         "name": "Sample Question Papers Practiced",
         "rawType": "float64",
         "type": "float"
        },
        {
         "name": "Performance Index",
         "rawType": "float64",
         "type": "float"
        }
       ],
       "ref": "76aaf409-21b3-4a6a-96bf-349ad3cc3fbe",
       "rows": [
        [
         "Hours Studied",
         "1.0",
         "-0.012389915515782873",
         "0.0038725406742559105",
         "0.0012451983990223517",
         "0.017463167776963075",
         "0.37373035069872307"
        ],
        [
         "Previous Scores",
         "-0.012389915515782873",
         "1.0",
         "0.00836931978410972",
         "0.005944219446099601",
         "0.007888025233099645",
         "0.9151891412264554"
        ],
        [
         "Extracurricular Activities",
         "0.0038725406742559105",
         "0.00836931978410972",
         "1.0",
         "-0.02328364392430249",
         "0.013102781114299666",
         "0.024524946967550563"
        ],
        [
         "Sleep Hours",
         "0.0012451983990223517",
         "0.005944219446099601",
         "-0.02328364392430249",
         "1.0",
         "0.00399022021777753",
         "0.04810583543435246"
        ],
        [
         "Sample Question Papers Practiced",
         "0.017463167776963075",
         "0.007888025233099645",
         "0.013102781114299666",
         "0.00399022021777753",
         "1.0",
         "0.04326832665907999"
        ],
        [
         "Performance Index",
         "0.37373035069872307",
         "0.9151891412264554",
         "0.024524946967550563",
         "0.04810583543435246",
         "0.04326832665907999",
         "1.0"
        ]
       ],
       "shape": {
        "columns": 6,
        "rows": 6
       }
      },
      "text/html": [
       "<div>\n",
       "<style scoped>\n",
       "    .dataframe tbody tr th:only-of-type {\n",
       "        vertical-align: middle;\n",
       "    }\n",
       "\n",
       "    .dataframe tbody tr th {\n",
       "        vertical-align: top;\n",
       "    }\n",
       "\n",
       "    .dataframe thead th {\n",
       "        text-align: right;\n",
       "    }\n",
       "</style>\n",
       "<table border=\"1\" class=\"dataframe\">\n",
       "  <thead>\n",
       "    <tr style=\"text-align: right;\">\n",
       "      <th></th>\n",
       "      <th>Hours Studied</th>\n",
       "      <th>Previous Scores</th>\n",
       "      <th>Extracurricular Activities</th>\n",
       "      <th>Sleep Hours</th>\n",
       "      <th>Sample Question Papers Practiced</th>\n",
       "      <th>Performance Index</th>\n",
       "    </tr>\n",
       "  </thead>\n",
       "  <tbody>\n",
       "    <tr>\n",
       "      <th>Hours Studied</th>\n",
       "      <td>1.000000</td>\n",
       "      <td>-0.012390</td>\n",
       "      <td>0.003873</td>\n",
       "      <td>0.001245</td>\n",
       "      <td>0.017463</td>\n",
       "      <td>0.373730</td>\n",
       "    </tr>\n",
       "    <tr>\n",
       "      <th>Previous Scores</th>\n",
       "      <td>-0.012390</td>\n",
       "      <td>1.000000</td>\n",
       "      <td>0.008369</td>\n",
       "      <td>0.005944</td>\n",
       "      <td>0.007888</td>\n",
       "      <td>0.915189</td>\n",
       "    </tr>\n",
       "    <tr>\n",
       "      <th>Extracurricular Activities</th>\n",
       "      <td>0.003873</td>\n",
       "      <td>0.008369</td>\n",
       "      <td>1.000000</td>\n",
       "      <td>-0.023284</td>\n",
       "      <td>0.013103</td>\n",
       "      <td>0.024525</td>\n",
       "    </tr>\n",
       "    <tr>\n",
       "      <th>Sleep Hours</th>\n",
       "      <td>0.001245</td>\n",
       "      <td>0.005944</td>\n",
       "      <td>-0.023284</td>\n",
       "      <td>1.000000</td>\n",
       "      <td>0.003990</td>\n",
       "      <td>0.048106</td>\n",
       "    </tr>\n",
       "    <tr>\n",
       "      <th>Sample Question Papers Practiced</th>\n",
       "      <td>0.017463</td>\n",
       "      <td>0.007888</td>\n",
       "      <td>0.013103</td>\n",
       "      <td>0.003990</td>\n",
       "      <td>1.000000</td>\n",
       "      <td>0.043268</td>\n",
       "    </tr>\n",
       "    <tr>\n",
       "      <th>Performance Index</th>\n",
       "      <td>0.373730</td>\n",
       "      <td>0.915189</td>\n",
       "      <td>0.024525</td>\n",
       "      <td>0.048106</td>\n",
       "      <td>0.043268</td>\n",
       "      <td>1.000000</td>\n",
       "    </tr>\n",
       "  </tbody>\n",
       "</table>\n",
       "</div>"
      ],
      "text/plain": [
       "                                  Hours Studied  Previous Scores  \\\n",
       "Hours Studied                          1.000000        -0.012390   \n",
       "Previous Scores                       -0.012390         1.000000   \n",
       "Extracurricular Activities             0.003873         0.008369   \n",
       "Sleep Hours                            0.001245         0.005944   \n",
       "Sample Question Papers Practiced       0.017463         0.007888   \n",
       "Performance Index                      0.373730         0.915189   \n",
       "\n",
       "                                  Extracurricular Activities  Sleep Hours  \\\n",
       "Hours Studied                                       0.003873     0.001245   \n",
       "Previous Scores                                     0.008369     0.005944   \n",
       "Extracurricular Activities                          1.000000    -0.023284   \n",
       "Sleep Hours                                        -0.023284     1.000000   \n",
       "Sample Question Papers Practiced                    0.013103     0.003990   \n",
       "Performance Index                                   0.024525     0.048106   \n",
       "\n",
       "                                  Sample Question Papers Practiced  \\\n",
       "Hours Studied                                             0.017463   \n",
       "Previous Scores                                           0.007888   \n",
       "Extracurricular Activities                                0.013103   \n",
       "Sleep Hours                                               0.003990   \n",
       "Sample Question Papers Practiced                          1.000000   \n",
       "Performance Index                                         0.043268   \n",
       "\n",
       "                                  Performance Index  \n",
       "Hours Studied                              0.373730  \n",
       "Previous Scores                            0.915189  \n",
       "Extracurricular Activities                 0.024525  \n",
       "Sleep Hours                                0.048106  \n",
       "Sample Question Papers Practiced           0.043268  \n",
       "Performance Index                          1.000000  "
      ]
     },
     "execution_count": 73,
     "metadata": {},
     "output_type": "execute_result"
    }
   ],
   "source": [
    "correlation_matrix = df.corr()\n",
    "correlation_matrix"
   ]
  },
  {
   "cell_type": "code",
   "execution_count": 67,
   "id": "6eedae86",
   "metadata": {},
   "outputs": [],
   "source": [
    "import numpy as np\n",
    "Y=df['Performance Index']\n",
    "df.drop(columns=['Performance Index'],axis=0,inplace=True)\n",
    "X=df.copy()\n"
   ]
  },
  {
   "cell_type": "code",
   "execution_count": 68,
   "id": "069c998c",
   "metadata": {},
   "outputs": [
    {
     "ename": "ValueError",
     "evalue": "operands could not be broadcast together with shapes (10000,) (10000,5) ",
     "output_type": "error",
     "traceback": [
      "\u001b[1;31m---------------------------------------------------------------------------\u001b[0m",
      "\u001b[1;31mValueError\u001b[0m                                Traceback (most recent call last)",
      "Cell \u001b[1;32mIn[68], line 1\u001b[0m\n\u001b[1;32m----> 1\u001b[0m crr\u001b[38;5;241m=\u001b[39m\u001b[43mY\u001b[49m\u001b[38;5;241;43m.\u001b[39;49m\u001b[43mcorr\u001b[49m\u001b[43m(\u001b[49m\u001b[43mX\u001b[49m\u001b[43m)\u001b[49m\n\u001b[0;32m      2\u001b[0m crr\n",
      "File \u001b[1;32mc:\\Users\\ASUS\\.conda\\envs\\PyTorch\\lib\\site-packages\\pandas\\core\\series.py:2988\u001b[0m, in \u001b[0;36mSeries.corr\u001b[1;34m(self, other, method, min_periods)\u001b[0m\n\u001b[0;32m   2985\u001b[0m other_values \u001b[38;5;241m=\u001b[39m other\u001b[38;5;241m.\u001b[39mto_numpy(dtype\u001b[38;5;241m=\u001b[39m\u001b[38;5;28mfloat\u001b[39m, na_value\u001b[38;5;241m=\u001b[39mnp\u001b[38;5;241m.\u001b[39mnan, copy\u001b[38;5;241m=\u001b[39m\u001b[38;5;28;01mFalse\u001b[39;00m)\n\u001b[0;32m   2987\u001b[0m \u001b[38;5;28;01mif\u001b[39;00m method \u001b[38;5;129;01min\u001b[39;00m [\u001b[38;5;124m\"\u001b[39m\u001b[38;5;124mpearson\u001b[39m\u001b[38;5;124m\"\u001b[39m, \u001b[38;5;124m\"\u001b[39m\u001b[38;5;124mspearman\u001b[39m\u001b[38;5;124m\"\u001b[39m, \u001b[38;5;124m\"\u001b[39m\u001b[38;5;124mkendall\u001b[39m\u001b[38;5;124m\"\u001b[39m] \u001b[38;5;129;01mor\u001b[39;00m \u001b[38;5;28mcallable\u001b[39m(method):\n\u001b[1;32m-> 2988\u001b[0m     \u001b[38;5;28;01mreturn\u001b[39;00m \u001b[43mnanops\u001b[49m\u001b[38;5;241;43m.\u001b[39;49m\u001b[43mnancorr\u001b[49m\u001b[43m(\u001b[49m\n\u001b[0;32m   2989\u001b[0m \u001b[43m        \u001b[49m\u001b[43mthis_values\u001b[49m\u001b[43m,\u001b[49m\u001b[43m \u001b[49m\u001b[43mother_values\u001b[49m\u001b[43m,\u001b[49m\u001b[43m \u001b[49m\u001b[43mmethod\u001b[49m\u001b[38;5;241;43m=\u001b[39;49m\u001b[43mmethod\u001b[49m\u001b[43m,\u001b[49m\u001b[43m \u001b[49m\u001b[43mmin_periods\u001b[49m\u001b[38;5;241;43m=\u001b[39;49m\u001b[43mmin_periods\u001b[49m\n\u001b[0;32m   2990\u001b[0m \u001b[43m    \u001b[49m\u001b[43m)\u001b[49m\n\u001b[0;32m   2992\u001b[0m \u001b[38;5;28;01mraise\u001b[39;00m \u001b[38;5;167;01mValueError\u001b[39;00m(\n\u001b[0;32m   2993\u001b[0m     \u001b[38;5;124m\"\u001b[39m\u001b[38;5;124mmethod must be either \u001b[39m\u001b[38;5;124m'\u001b[39m\u001b[38;5;124mpearson\u001b[39m\u001b[38;5;124m'\u001b[39m\u001b[38;5;124m, \u001b[39m\u001b[38;5;124m\"\u001b[39m\n\u001b[0;32m   2994\u001b[0m     \u001b[38;5;124m\"\u001b[39m\u001b[38;5;124m'\u001b[39m\u001b[38;5;124mspearman\u001b[39m\u001b[38;5;124m'\u001b[39m\u001b[38;5;124m, \u001b[39m\u001b[38;5;124m'\u001b[39m\u001b[38;5;124mkendall\u001b[39m\u001b[38;5;124m'\u001b[39m\u001b[38;5;124m, or a callable, \u001b[39m\u001b[38;5;124m\"\u001b[39m\n\u001b[0;32m   2995\u001b[0m     \u001b[38;5;124mf\u001b[39m\u001b[38;5;124m\"\u001b[39m\u001b[38;5;124m'\u001b[39m\u001b[38;5;132;01m{\u001b[39;00mmethod\u001b[38;5;132;01m}\u001b[39;00m\u001b[38;5;124m'\u001b[39m\u001b[38;5;124m was supplied\u001b[39m\u001b[38;5;124m\"\u001b[39m\n\u001b[0;32m   2996\u001b[0m )\n",
      "File \u001b[1;32mc:\\Users\\ASUS\\.conda\\envs\\PyTorch\\lib\\site-packages\\pandas\\core\\nanops.py:85\u001b[0m, in \u001b[0;36mdisallow.__call__.<locals>._f\u001b[1;34m(*args, **kwargs)\u001b[0m\n\u001b[0;32m     81\u001b[0m     \u001b[38;5;28;01mraise\u001b[39;00m \u001b[38;5;167;01mTypeError\u001b[39;00m(\n\u001b[0;32m     82\u001b[0m         \u001b[38;5;124mf\u001b[39m\u001b[38;5;124m\"\u001b[39m\u001b[38;5;124mreduction operation \u001b[39m\u001b[38;5;124m'\u001b[39m\u001b[38;5;132;01m{\u001b[39;00mf_name\u001b[38;5;132;01m}\u001b[39;00m\u001b[38;5;124m'\u001b[39m\u001b[38;5;124m not allowed for this dtype\u001b[39m\u001b[38;5;124m\"\u001b[39m\n\u001b[0;32m     83\u001b[0m     )\n\u001b[0;32m     84\u001b[0m \u001b[38;5;28;01mtry\u001b[39;00m:\n\u001b[1;32m---> 85\u001b[0m     \u001b[38;5;28;01mreturn\u001b[39;00m f(\u001b[38;5;241m*\u001b[39margs, \u001b[38;5;241m*\u001b[39m\u001b[38;5;241m*\u001b[39mkwargs)\n\u001b[0;32m     86\u001b[0m \u001b[38;5;28;01mexcept\u001b[39;00m \u001b[38;5;167;01mValueError\u001b[39;00m \u001b[38;5;28;01mas\u001b[39;00m e:\n\u001b[0;32m     87\u001b[0m     \u001b[38;5;66;03m# we want to transform an object array\u001b[39;00m\n\u001b[0;32m     88\u001b[0m     \u001b[38;5;66;03m# ValueError message to the more typical TypeError\u001b[39;00m\n\u001b[0;32m     89\u001b[0m     \u001b[38;5;66;03m# e.g. this is normally a disallowed function on\u001b[39;00m\n\u001b[0;32m     90\u001b[0m     \u001b[38;5;66;03m# object arrays that contain strings\u001b[39;00m\n\u001b[0;32m     91\u001b[0m     \u001b[38;5;28;01mif\u001b[39;00m is_object_dtype(args[\u001b[38;5;241m0\u001b[39m]):\n",
      "File \u001b[1;32mc:\\Users\\ASUS\\.conda\\envs\\PyTorch\\lib\\site-packages\\pandas\\core\\nanops.py:1603\u001b[0m, in \u001b[0;36mnancorr\u001b[1;34m(a, b, method, min_periods)\u001b[0m\n\u001b[0;32m   1600\u001b[0m \u001b[38;5;28;01mif\u001b[39;00m min_periods \u001b[38;5;129;01mis\u001b[39;00m \u001b[38;5;28;01mNone\u001b[39;00m:\n\u001b[0;32m   1601\u001b[0m     min_periods \u001b[38;5;241m=\u001b[39m \u001b[38;5;241m1\u001b[39m\n\u001b[1;32m-> 1603\u001b[0m valid \u001b[38;5;241m=\u001b[39m \u001b[43mnotna\u001b[49m\u001b[43m(\u001b[49m\u001b[43ma\u001b[49m\u001b[43m)\u001b[49m\u001b[43m \u001b[49m\u001b[38;5;241;43m&\u001b[39;49m\u001b[43m \u001b[49m\u001b[43mnotna\u001b[49m\u001b[43m(\u001b[49m\u001b[43mb\u001b[49m\u001b[43m)\u001b[49m\n\u001b[0;32m   1604\u001b[0m \u001b[38;5;28;01mif\u001b[39;00m \u001b[38;5;129;01mnot\u001b[39;00m valid\u001b[38;5;241m.\u001b[39mall():\n\u001b[0;32m   1605\u001b[0m     a \u001b[38;5;241m=\u001b[39m a[valid]\n",
      "\u001b[1;31mValueError\u001b[0m: operands could not be broadcast together with shapes (10000,) (10000,5) "
     ]
    }
   ],
   "source": [
    "crr=Y.corr(X)\n",
    "crr"
   ]
  },
  {
   "cell_type": "code",
   "execution_count": 5,
   "id": "2474bb7d",
   "metadata": {},
   "outputs": [],
   "source": [
    "X=np.array(X)\n",
    "Y=np.array(Y)\n",
    "from sklearn.model_selection import train_test_split\n",
    "xtrain,xtest,ytrain,ytest=train_test_split(X,Y,random_state=42,test_size=0.3)\n",
    "xval,xtest,yval,ytest=train_test_split(X,Y,random_state=42,test_size=0.5)\n"
   ]
  },
  {
   "cell_type": "code",
   "execution_count": 6,
   "id": "15b98e7a",
   "metadata": {},
   "outputs": [
    {
     "data": {
      "text/plain": [
       "(10000,)"
      ]
     },
     "execution_count": 6,
     "metadata": {},
     "output_type": "execute_result"
    }
   ],
   "source": [
    "Y.shape"
   ]
  },
  {
   "cell_type": "code",
   "execution_count": 50,
   "id": "d9472736",
   "metadata": {},
   "outputs": [],
   "source": [
    "from torch.utils.data import Dataset,DataLoader\n",
    "import torch\n",
    "class Customdataset(Dataset):\n",
    "    def __init__(self,a,b):\n",
    "        self.x=torch.tensor(a,dtype=torch.float32)\n",
    "        self.y=torch.tensor(b,dtype=torch.float32)\n",
    "\n",
    "    def __len__(self):\n",
    "        return len(self.x)\n",
    "    \n",
    "    def __getitem__(self, index):\n",
    "        return self.x[index],self.y[index]\n",
    "    \n",
    "traindataset=Customdataset(a=xtrain,b=ytrain)\n",
    "valdataset=Customdataset(a=xval,b=yval)\n",
    "testdataset=Customdataset(a=xtest,b=ytest)\n",
    "\n",
    "traindl=DataLoader(traindataset,batch_size=10,shuffle=True)\n",
    "testdl=DataLoader(testdataset,batch_size=10,shuffle=True)\n",
    "valdl=DataLoader(valdataset,batch_size=10,shuffle=True)"
   ]
  },
  {
   "cell_type": "code",
   "execution_count": 60,
   "id": "094ccf57",
   "metadata": {},
   "outputs": [],
   "source": [
    "import torch.nn as nn\n",
    "\n",
    "class regression(nn.Module):\n",
    "    def __init__(self):\n",
    "        super(regression,self).__init__()\n",
    "        self.Linear1=nn.Linear(X.shape[1],20)\n",
    "        self.Linear2=nn.Linear(20,1)\n",
    "\n",
    "    def forward(self,x):\n",
    "        x=self.Linear1(x)\n",
    "        x=self.Linear2(x)\n",
    "        return x\n",
    "\n",
    "model=regression()"
   ]
  },
  {
   "cell_type": "code",
   "execution_count": 61,
   "id": "8c646daa",
   "metadata": {},
   "outputs": [],
   "source": [
    "import torch.optim as optim\n",
    "optimizer=optim.Adam(model.parameters(),lr=1e-3)\n",
    "loss=nn.MSELoss()"
   ]
  },
  {
   "cell_type": "code",
   "execution_count": 63,
   "id": "d7ac8a58",
   "metadata": {},
   "outputs": [
    {
     "name": "stderr",
     "output_type": "stream",
     "text": [
      "c:\\Users\\ASUS\\.conda\\envs\\PyTorch\\lib\\site-packages\\torch\\nn\\modules\\loss.py:608: UserWarning: Using a target size (torch.Size([10])) that is different to the input size (torch.Size([10, 1])). This will likely lead to incorrect results due to broadcasting. Please ensure they have the same size.\n",
      "  return F.mse_loss(input, target, reduction=self.reduction)\n"
     ]
    },
    {
     "name": "stdout",
     "output_type": "stream",
     "text": [
      "\n",
      "    train:\n",
      "          MSE:116.26485639943255,MAE:8.94180691419329,R2:0.6835622354961416\n",
      "    \n",
      "\n",
      "    val:\n",
      "          MSE:139.38115512093898,MAE:9.881051323318482,R2:0.6196484346929914\n",
      "    \n"
     ]
    },
    {
     "name": "stderr",
     "output_type": "stream",
     "text": [
      "c:\\Users\\ASUS\\.conda\\envs\\PyTorch\\lib\\site-packages\\torch\\nn\\modules\\loss.py:608: UserWarning: Using a target size (torch.Size([10])) that is different to the input size (torch.Size([10, 1])). This will likely lead to incorrect results due to broadcasting. Please ensure they have the same size.\n",
      "  return F.mse_loss(input, target, reduction=self.reduction)\n"
     ]
    },
    {
     "name": "stdout",
     "output_type": "stream",
     "text": [
      "\n",
      "    train:\n",
      "          MSE:143.98312639192582,MAE:10.053192298344204,R2:0.6088508864680581\n",
      "    \n",
      "\n",
      "    val:\n",
      "          MSE:164.18153990095468,MAE:10.722393339920043,R2:0.5515170779387426\n",
      "    \n"
     ]
    },
    {
     "name": "stderr",
     "output_type": "stream",
     "text": [
      "c:\\Users\\ASUS\\.conda\\envs\\PyTorch\\lib\\site-packages\\torch\\nn\\modules\\loss.py:608: UserWarning: Using a target size (torch.Size([10])) that is different to the input size (torch.Size([10, 1])). This will likely lead to incorrect results due to broadcasting. Please ensure they have the same size.\n",
      "  return F.mse_loss(input, target, reduction=self.reduction)\n"
     ]
    },
    {
     "name": "stdout",
     "output_type": "stream",
     "text": [
      "\n",
      "    train:\n",
      "          MSE:159.21943877597522,MAE:10.575785096304758,R2:0.5675450380847339\n",
      "    \n",
      "\n",
      "    val:\n",
      "          MSE:170.0450936333562,MAE:10.922333819580079,R2:0.5356359758365462\n",
      "    \n"
     ]
    },
    {
     "name": "stderr",
     "output_type": "stream",
     "text": [
      "c:\\Users\\ASUS\\.conda\\envs\\PyTorch\\lib\\site-packages\\torch\\nn\\modules\\loss.py:608: UserWarning: Using a target size (torch.Size([10])) that is different to the input size (torch.Size([10, 1])). This will likely lead to incorrect results due to broadcasting. Please ensure they have the same size.\n",
      "  return F.mse_loss(input, target, reduction=self.reduction)\n"
     ]
    },
    {
     "name": "stdout",
     "output_type": "stream",
     "text": [
      "\n",
      "    train:\n",
      "          MSE:170.7311503557245,MAE:10.944866052627564,R2:0.5356825739244984\n",
      "    \n",
      "\n",
      "    val:\n",
      "          MSE:173.03596836071554,MAE:11.031314567947387,R2:0.5272800915762026\n",
      "    \n"
     ]
    },
    {
     "name": "stderr",
     "output_type": "stream",
     "text": [
      "c:\\Users\\ASUS\\.conda\\envs\\PyTorch\\lib\\site-packages\\torch\\nn\\modules\\loss.py:608: UserWarning: Using a target size (torch.Size([10])) that is different to the input size (torch.Size([10, 1])). This will likely lead to incorrect results due to broadcasting. Please ensure they have the same size.\n",
      "  return F.mse_loss(input, target, reduction=self.reduction)\n"
     ]
    },
    {
     "name": "stdout",
     "output_type": "stream",
     "text": [
      "\n",
      "    train:\n",
      "          MSE:176.87796217762371,MAE:11.132814077104841,R2:0.5195730035132453\n",
      "    \n",
      "\n",
      "    val:\n",
      "          MSE:174.3188236062296,MAE:11.07755630340576,R2:0.5239977242468093\n",
      "    \n"
     ]
    },
    {
     "name": "stderr",
     "output_type": "stream",
     "text": [
      "c:\\Users\\ASUS\\.conda\\envs\\PyTorch\\lib\\site-packages\\torch\\nn\\modules\\loss.py:608: UserWarning: Using a target size (torch.Size([10])) that is different to the input size (torch.Size([10, 1])). This will likely lead to incorrect results due to broadcasting. Please ensure they have the same size.\n",
      "  return F.mse_loss(input, target, reduction=self.reduction)\n"
     ]
    },
    {
     "name": "stdout",
     "output_type": "stream",
     "text": [
      "\n",
      "    train:\n",
      "          MSE:183.12274373521495,MAE:11.325753210067749,R2:0.5028147735364358\n",
      "    \n",
      "\n",
      "    val:\n",
      "          MSE:169.05627824582712,MAE:10.84742766571045,R2:0.5382771024237739\n",
      "    \n"
     ]
    },
    {
     "name": "stderr",
     "output_type": "stream",
     "text": [
      "c:\\Users\\ASUS\\.conda\\envs\\PyTorch\\lib\\site-packages\\torch\\nn\\modules\\loss.py:608: UserWarning: Using a target size (torch.Size([10])) that is different to the input size (torch.Size([10, 1])). This will likely lead to incorrect results due to broadcasting. Please ensure they have the same size.\n",
      "  return F.mse_loss(input, target, reduction=self.reduction)\n"
     ]
    },
    {
     "name": "stdout",
     "output_type": "stream",
     "text": [
      "\n",
      "    train:\n",
      "          MSE:187.98468930427242,MAE:11.477009340558732,R2:0.4898755754305598\n",
      "    \n",
      "\n",
      "    val:\n",
      "          MSE:183.52469427627926,MAE:11.36459464187622,R2:0.4994559579451609\n",
      "    \n"
     ]
    },
    {
     "name": "stderr",
     "output_type": "stream",
     "text": [
      "c:\\Users\\ASUS\\.conda\\envs\\PyTorch\\lib\\site-packages\\torch\\nn\\modules\\loss.py:608: UserWarning: Using a target size (torch.Size([10])) that is different to the input size (torch.Size([10, 1])). This will likely lead to incorrect results due to broadcasting. Please ensure they have the same size.\n",
      "  return F.mse_loss(input, target, reduction=self.reduction)\n"
     ]
    },
    {
     "name": "stdout",
     "output_type": "stream",
     "text": [
      "\n",
      "    train:\n",
      "          MSE:192.85040107906931,MAE:11.63987928227016,R2:0.47609523184156155\n",
      "    \n",
      "\n",
      "    val:\n",
      "          MSE:205.20686213225162,MAE:12.013291976165771,R2:0.440469755104209\n",
      "    \n"
     ]
    },
    {
     "name": "stderr",
     "output_type": "stream",
     "text": [
      "c:\\Users\\ASUS\\.conda\\envs\\PyTorch\\lib\\site-packages\\torch\\nn\\modules\\loss.py:608: UserWarning: Using a target size (torch.Size([10])) that is different to the input size (torch.Size([10, 1])). This will likely lead to incorrect results due to broadcasting. Please ensure they have the same size.\n",
      "  return F.mse_loss(input, target, reduction=self.reduction)\n"
     ]
    },
    {
     "name": "stdout",
     "output_type": "stream",
     "text": [
      "\n",
      "    train:\n",
      "          MSE:198.30401991394848,MAE:11.802153497423447,R2:0.4610067093526381\n",
      "    \n",
      "\n",
      "    val:\n",
      "          MSE:187.5257439345615,MAE:11.498472415924073,R2:0.48851506627576563\n",
      "    \n"
     ]
    },
    {
     "name": "stderr",
     "output_type": "stream",
     "text": [
      "c:\\Users\\ASUS\\.conda\\envs\\PyTorch\\lib\\site-packages\\torch\\nn\\modules\\loss.py:608: UserWarning: Using a target size (torch.Size([10])) that is different to the input size (torch.Size([10, 1])). This will likely lead to incorrect results due to broadcasting. Please ensure they have the same size.\n",
      "  return F.mse_loss(input, target, reduction=self.reduction)\n"
     ]
    },
    {
     "name": "stdout",
     "output_type": "stream",
     "text": [
      "\n",
      "    train:\n",
      "          MSE:194.75680164384326,MAE:11.677412817273822,R2:0.469942813148037\n",
      "    \n",
      "\n",
      "    val:\n",
      "          MSE:190.36724599493098,MAE:11.594106058502197,R2:0.48042519163970787\n",
      "    \n"
     ]
    }
   ],
   "source": [
    "from sklearn.metrics import mean_squared_error,mean_absolute_error,r2_score\n",
    "\n",
    "for epoch in range(10):\n",
    "    model.train()\n",
    "    ttruth,ttrial=[],[]\n",
    "    for values,lables in traindl:\n",
    "        optimizer.zero_grad()\n",
    "        output=model(values)\n",
    "        bloss=loss(output,lables).squeeze()\n",
    "        ttruth.append((lables.detach().numpy()).flatten())\n",
    "        ttrial.append((output.detach().numpy()).flatten())\n",
    "        bloss.backward()\n",
    "        optimizer.step()\n",
    "        optimizer.zero_grad()\n",
    "    vtruth,vtrial=[],[]\n",
    "    model.eval()\n",
    "    with torch.no_grad():\n",
    "        for values,lables in valdl:\n",
    "            output=model(values).squeeze()\n",
    "            vtruth.append((lables.detach().numpy()).flatten())\n",
    "            vtrial.append((output.detach().numpy()).flatten())\n",
    "    print(f'''\n",
    "    train:\n",
    "          MSE:{mean_squared_error(ttruth,ttrial)},MAE:{mean_absolute_error(ttruth,ttrial)},R2:{r2_score(ttruth,ttrial)}\n",
    "    ''')\n",
    "    print(f'''\n",
    "    val:\n",
    "          MSE:{mean_squared_error(vtruth,vtrial)},MAE:{mean_absolute_error(vtruth,vtrial)},R2:{r2_score(vtruth,vtrial)}\n",
    "    ''')\n"
   ]
  },
  {
   "cell_type": "code",
   "execution_count": 74,
   "id": "7ed8fc64",
   "metadata": {},
   "outputs": [
    {
     "name": "stdout",
     "output_type": "stream",
     "text": [
      "\n",
      "    val:\n",
      "          MSE:192.68932338939004,MAE:11.637257965087892,R2:0.4789810034302599\n",
      "    \n"
     ]
    }
   ],
   "source": [
    "vtruth,vtrial=[],[]\n",
    "with torch.no_grad():\n",
    "    for values,lables in testdl:\n",
    "            output=model(values).squeeze()\n",
    "            vtruth.append((lables.detach().numpy()).flatten())\n",
    "            vtrial.append((output.detach().numpy()).flatten())\n",
    "    print(f'''\n",
    "    val:\n",
    "          MSE:{mean_squared_error(vtruth,vtrial)},MAE:{mean_absolute_error(vtruth,vtrial)},R2:{r2_score(vtruth,vtrial)}\n",
    "    ''')"
   ]
  },
  {
   "cell_type": "code",
   "execution_count": 75,
   "id": "6b0fcb9e",
   "metadata": {},
   "outputs": [],
   "source": [
    "model_state = model.state_dict()\n",
    "torch.save(model_state, 'model_saved_weights.pt')"
   ]
  }
 ],
 "metadata": {
  "kernelspec": {
   "display_name": "PyTorch",
   "language": "python",
   "name": "python3"
  },
  "language_info": {
   "codemirror_mode": {
    "name": "ipython",
    "version": 3
   },
   "file_extension": ".py",
   "mimetype": "text/x-python",
   "name": "python",
   "nbconvert_exporter": "python",
   "pygments_lexer": "ipython3",
   "version": "3.9.23"
  }
 },
 "nbformat": 4,
 "nbformat_minor": 5
}
