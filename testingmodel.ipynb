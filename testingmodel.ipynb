{
  "nbformat": 4,
  "nbformat_minor": 0,
  "metadata": {
    "colab": {
      "provenance": [],
      "authorship_tag": "ABX9TyOLtRlTHCgI+ylvjZPjljId",
      "include_colab_link": true
    },
    "kernelspec": {
      "name": "python3",
      "display_name": "Python 3"
    },
    "language_info": {
      "name": "python"
    }
  },
  "cells": [
    {
      "cell_type": "markdown",
      "metadata": {
        "id": "view-in-github",
        "colab_type": "text"
      },
      "source": [
        "<a href=\"https://colab.research.google.com/github/Gokul0Krishna/pytorchpractice/blob/master/testingmodel.ipynb\" target=\"_parent\"><img src=\"https://colab.research.google.com/assets/colab-badge.svg\" alt=\"Open In Colab\"/></a>"
      ]
    },
    {
      "cell_type": "code",
      "execution_count": null,
      "metadata": {
        "colab": {
          "base_uri": "https://localhost:8080/"
        },
        "id": "EWhLVYLoTuM6",
        "outputId": "cd5b9c00-3981-4318-fd94-d9c388e45712",
        "collapsed": true
      },
      "outputs": [
        {
          "output_type": "stream",
          "name": "stdout",
          "text": [
            "Archive:  /content/the precious.zip\n",
            "   creating: the precious/\n",
            "  inflating: the precious/classifier.pth  \n",
            "  inflating: the precious/classifier_state_dict.pth  \n"
          ]
        }
      ],
      "source": [
        "!unzip \"/content/the precious.zip\""
      ]
    },
    {
      "cell_type": "code",
      "source": [
        "!unzip \"/content/fmodeltest.zip\""
      ],
      "metadata": {
        "colab": {
          "base_uri": "https://localhost:8080/"
        },
        "id": "Opza4gBwUE6p",
        "outputId": "d0e6042d-99d7-416a-9cd1-d84a71e850b9",
        "collapsed": true
      },
      "execution_count": 1,
      "outputs": [
        {
          "output_type": "stream",
          "name": "stdout",
          "text": [
            "Archive:  /content/fmodeltest.zip\n",
            "   creating: test/\n",
            "  inflating: test/P6171199_JPG.rf.5f2c7de501bbedda9884c60099ee72f0.jpg  \n",
            "  inflating: test/P6171216_JPG.rf.a064710a27823ae8f08530e8ad651350.jpg  \n",
            "  inflating: test/P6171222_JPG.rf.e6934a90f741c1c5d9c1352ebb619caf.jpg  \n",
            "  inflating: test/P6171226_JPG.rf.d20a1bb2d1e46edd89e8031e2e66bbfe.jpg  \n",
            "  inflating: test/P6171230_JPG.rf.690bf86e09c1569d8f61b1d6be04284f.jpg  \n",
            "  inflating: test/P6171239_JPG.rf.b5e48a8a6e8bcd81ded841a0d242568a.jpg  \n",
            "  inflating: test/P6171248_JPG.rf.63fc65e35fa46ed9d37b367da2feaebe.jpg  \n",
            "  inflating: test/P6171258_JPG.rf.2911f0955a7aec5fa711486c74bebab1.jpg  \n",
            "  inflating: test/P6171263_JPG.rf.d12d03d14c69d7a278f0bfac95369ea2.jpg  \n",
            "  inflating: test/P6171297_JPG.rf.cb4496e6a764fceb265d2829e94db018.jpg  \n",
            "  inflating: test/P6171301_JPG.rf.ed2eec04f64e5e3440771c80ab08f053.jpg  \n",
            "  inflating: test/P6171312_JPG.rf.650fa1ca82dc1d1669befab5860c3006.jpg  \n",
            "  inflating: test/P6171333_JPG.rf.30b10d6d932866b880f463a96cff2327.jpg  \n",
            "  inflating: test/P6171339_JPG.rf.d3a721f8bba5c44c3f9c1a210ed08fdc.jpg  \n",
            "  inflating: test/P6171344_JPG.rf.7224baff90b4d7a733c3930c9df2629f.jpg  \n",
            "  inflating: test/P6171346_JPG.rf.b85dd5f683223aaf52ece205d6a12522.jpg  \n",
            "  inflating: test/P6171353_JPG.rf.739351d214a4c8b22fa27d9cdc48a5ae.jpg  \n",
            "  inflating: test/P6171358_JPG.rf.e6d801f9881fad159fe57cda4009048d.jpg  \n",
            "  inflating: test/P6171392_JPG.rf.9dd20779b9fcd2b3289b5393ac9ba46c.jpg  \n",
            "  inflating: test/P6171397_JPG.rf.af0ad0d11bf90a2a2e196aaf64ea4da6.jpg  \n",
            "  inflating: test/P6171403_JPG.rf.3d8b97019ae5fc7738788cd6df0ebec4.jpg  \n",
            "  inflating: test/P6171407_JPG.rf.e9cf1f9ded6f1bf506e64f17f1fc12e2.jpg  \n",
            "  inflating: test/P6171412_JPG.rf.e6e3e4ff0302185be7a91f72d11946d7.jpg  \n",
            "  inflating: test/P6171425_JPG.rf.531b0eb0cf841220b7f3eccf7731c029.jpg  \n",
            "  inflating: test/P6171447_JPG.rf.1e3609edeb3666bdfcab415cd8f71cc4.jpg  \n",
            "  inflating: test/P6171462_JPG.rf.64db110f3d99d6b756f15ffdbfd030d6.jpg  \n",
            "  inflating: test/P6171464_JPG.rf.3441be149d630c094ddfebf6c9e4ea92.jpg  \n",
            "  inflating: test/P6171481_JPG.rf.5420e6037c34e35c0c07b809fee8155d.jpg  \n",
            "  inflating: test/P6171491_JPG.rf.19e938b88b3425361e23f15ec5bdba12.jpg  \n",
            "  inflating: test/P6171493_JPG.rf.4d1d0e27cf7953769296eb607ab2dba2.jpg  \n",
            "  inflating: test/P6171506_JPG.rf.7de2def1a0a436eee2024138d9626717.jpg  \n",
            "  inflating: test/P6171511_JPG.rf.531a8ab8dde522f045b7cc4af4893a77.jpg  \n",
            "  inflating: test/P6171517_JPG.rf.644bea307bf3945f208a3d7c7a6723fe.jpg  \n",
            "  inflating: test/P6171524_JPG.rf.cca6ab44dfecd6ab5d68168a8c446d00.jpg  \n",
            "  inflating: test/P6171525_JPG.rf.d8c15f4ecb3bfe5aee27ab1513f394d5.jpg  \n",
            "  inflating: test/P6171549_JPG.rf.1e8fe89f1065fe8bebd0f8d44d88d8bc.jpg  \n",
            "  inflating: test/P6171559_JPG.rf.1074bbd96eaf0c929af5dd93c8891813.jpg  \n",
            "  inflating: test/P6171572_JPG.rf.0ace34380c3b481a42cc3caaba969cd8.jpg  \n",
            "  inflating: test/P6171576_JPG.rf.d748999b396f25a03338bda87ba495c0.jpg  \n",
            "  inflating: test/P6171584_JPG.rf.42af6c5d22bc22d17698c4b5c2cf1de3.jpg  \n",
            "  inflating: test/P6171587_JPG.rf.eb88e6d040b9f6f160483911ac951e0e.jpg  \n",
            "  inflating: test/P6171591_JPG.rf.d4f32a6607504dbebe2c40b58873b4c3.jpg  \n",
            "  inflating: test/P6171618_JPG.rf.ef7049ba68826addc52d946d0fc28100.jpg  \n",
            "  inflating: test/P6171640_JPG.rf.dba50a4b7fe05aa0ca09df437a2edebc.jpg  \n",
            "  inflating: test/P6171652_JPG.rf.d370c6314449dfeb01c9953bf5c91963.jpg  \n",
            "  inflating: test/P6171655_JPG.rf.4fb52f5ea4403f2b272ffa0281a33fa1.jpg  \n",
            "  inflating: test/P6171657_JPG.rf.bcf26c6d64c9a8ae7a8e4c544e1c96cf.jpg  \n",
            "  inflating: test/P6181722_JPG.rf.f21304384e6391874098137429bbdd32.jpg  \n",
            "  inflating: test/P6181733_JPG.rf.d2f11b5868f126951118fe41631efab6.jpg  \n",
            "  inflating: test/P6181740_JPG.rf.d70c93054b02a18988840751ffe0dc77.jpg  \n",
            "  inflating: test/P6181747_JPG.rf.2a1e2c89b2ddaacaefcc4b2605f43a7c.jpg  \n",
            "  inflating: test/_classes.csv       \n"
          ]
        }
      ]
    },
    {
      "cell_type": "code",
      "source": [
        "!pip uninstall opencv-python opencv-python-headless opencv-contrib-python opencv-contrib-python-headless\n",
        "!ypip install opencv-contrib-python"
      ],
      "metadata": {
        "collapsed": true,
        "id": "zVIw4YTLi8qG",
        "outputId": "17fe2ea7-1724-4d3c-c791-d3afd43bb0e8",
        "colab": {
          "base_uri": "https://localhost:8080/",
          "height": 1000
        }
      },
      "execution_count": 30,
      "outputs": [
        {
          "output_type": "stream",
          "name": "stdout",
          "text": [
            "Found existing installation: opencv-python 4.12.0.88\n",
            "Uninstalling opencv-python-4.12.0.88:\n",
            "  Would remove:\n",
            "    /usr/local/lib/python3.11/dist-packages/cv2/*\n",
            "    /usr/local/lib/python3.11/dist-packages/opencv_python-4.12.0.88.dist-info/*\n",
            "    /usr/local/lib/python3.11/dist-packages/opencv_python.libs/libQt5Core-e7f476e2.so.5.15.16\n",
            "    /usr/local/lib/python3.11/dist-packages/opencv_python.libs/libQt5Gui-3e966859.so.5.15.16\n",
            "    /usr/local/lib/python3.11/dist-packages/opencv_python.libs/libQt5Test-9ac3ed15.so.5.15.16\n",
            "    /usr/local/lib/python3.11/dist-packages/opencv_python.libs/libQt5Widgets-cd430389.so.5.15.16\n",
            "    /usr/local/lib/python3.11/dist-packages/opencv_python.libs/libQt5XcbQpa-3cfa6167.so.5.15.16\n",
            "    /usr/local/lib/python3.11/dist-packages/opencv_python.libs/libX11-xcb-0e257303.so.1.0.0\n",
            "    /usr/local/lib/python3.11/dist-packages/opencv_python.libs/libXau-00ec42fe.so.6.0.0\n",
            "    /usr/local/lib/python3.11/dist-packages/opencv_python.libs/libaom-49d00b71.so.3.12.1\n",
            "    /usr/local/lib/python3.11/dist-packages/opencv_python.libs/libavcodec-e0dd92b8.so.59.37.100\n",
            "    /usr/local/lib/python3.11/dist-packages/opencv_python.libs/libavformat-d296e685.so.59.27.100\n",
            "    /usr/local/lib/python3.11/dist-packages/opencv_python.libs/libavif-850e7649.so.16.3.0\n",
            "    /usr/local/lib/python3.11/dist-packages/opencv_python.libs/libavutil-734d06dd.so.57.28.100\n",
            "    /usr/local/lib/python3.11/dist-packages/opencv_python.libs/libcrypto-01067bc0.so.1.1\n",
            "    /usr/local/lib/python3.11/dist-packages/opencv_python.libs/libgfortran-91cc3cb1.so.3.0.0\n",
            "    /usr/local/lib/python3.11/dist-packages/opencv_python.libs/libopenblas-r0-f650aae0.3.3.so\n",
            "    /usr/local/lib/python3.11/dist-packages/opencv_python.libs/libpng16-04239421.so.16.48.0\n",
            "    /usr/local/lib/python3.11/dist-packages/opencv_python.libs/libquadmath-96973f99.so.0.0.0\n",
            "    /usr/local/lib/python3.11/dist-packages/opencv_python.libs/libssl-28bef1ac.so.1.1\n",
            "    /usr/local/lib/python3.11/dist-packages/opencv_python.libs/libswresample-3e7db482.so.4.7.100\n",
            "    /usr/local/lib/python3.11/dist-packages/opencv_python.libs/libswscale-95ddd674.so.6.7.100\n",
            "    /usr/local/lib/python3.11/dist-packages/opencv_python.libs/libvpx-127417df.so.11.0.0\n",
            "    /usr/local/lib/python3.11/dist-packages/opencv_python.libs/libxcb-icccm-413c9f41.so.4.0.0\n",
            "    /usr/local/lib/python3.11/dist-packages/opencv_python.libs/libxcb-image-e82a276d.so.0.0.0\n",
            "    /usr/local/lib/python3.11/dist-packages/opencv_python.libs/libxcb-keysyms-21015570.so.1.0.0\n",
            "    /usr/local/lib/python3.11/dist-packages/opencv_python.libs/libxcb-randr-a96a5a87.so.0.1.0\n",
            "    /usr/local/lib/python3.11/dist-packages/opencv_python.libs/libxcb-render-637b984a.so.0.0.0\n",
            "    /usr/local/lib/python3.11/dist-packages/opencv_python.libs/libxcb-render-util-43ce00f5.so.0.0.0\n",
            "    /usr/local/lib/python3.11/dist-packages/opencv_python.libs/libxcb-shape-25c2b258.so.0.0.0\n",
            "    /usr/local/lib/python3.11/dist-packages/opencv_python.libs/libxcb-shm-7a199f70.so.0.0.0\n",
            "    /usr/local/lib/python3.11/dist-packages/opencv_python.libs/libxcb-sync-89374f40.so.1.0.0\n",
            "    /usr/local/lib/python3.11/dist-packages/opencv_python.libs/libxcb-util-4d666913.so.1.0.0\n",
            "    /usr/local/lib/python3.11/dist-packages/opencv_python.libs/libxcb-xfixes-9be3ba6f.so.0.0.0\n",
            "    /usr/local/lib/python3.11/dist-packages/opencv_python.libs/libxcb-xinerama-ae147f87.so.0.0.0\n",
            "    /usr/local/lib/python3.11/dist-packages/opencv_python.libs/libxcb-xkb-9ba31ab3.so.1.0.0\n",
            "    /usr/local/lib/python3.11/dist-packages/opencv_python.libs/libxkbcommon-71ae2972.so.0.0.0\n",
            "    /usr/local/lib/python3.11/dist-packages/opencv_python.libs/libxkbcommon-x11-c65ed502.so.0.0.0\n",
            "  Would not remove (might be manually added):\n",
            "    /usr/local/lib/python3.11/dist-packages/cv2/bgsegm/__init__.pyi\n",
            "    /usr/local/lib/python3.11/dist-packages/cv2/bioinspired/__init__.pyi\n",
            "    /usr/local/lib/python3.11/dist-packages/cv2/ccm/__init__.pyi\n",
            "    /usr/local/lib/python3.11/dist-packages/cv2/colored_kinfu/__init__.pyi\n",
            "    /usr/local/lib/python3.11/dist-packages/cv2/datasets/__init__.pyi\n",
            "    /usr/local/lib/python3.11/dist-packages/cv2/dnn_superres/__init__.pyi\n",
            "    /usr/local/lib/python3.11/dist-packages/cv2/dpm/__init__.pyi\n",
            "    /usr/local/lib/python3.11/dist-packages/cv2/dynafu/__init__.pyi\n",
            "    /usr/local/lib/python3.11/dist-packages/cv2/face/__init__.pyi\n",
            "    /usr/local/lib/python3.11/dist-packages/cv2/ft/__init__.pyi\n",
            "    /usr/local/lib/python3.11/dist-packages/cv2/hfs/__init__.pyi\n",
            "    /usr/local/lib/python3.11/dist-packages/cv2/img_hash/__init__.pyi\n",
            "    /usr/local/lib/python3.11/dist-packages/cv2/intensity_transform/__init__.pyi\n",
            "    /usr/local/lib/python3.11/dist-packages/cv2/kinfu/__init__.pyi\n",
            "    /usr/local/lib/python3.11/dist-packages/cv2/kinfu/detail/__init__.pyi\n",
            "    /usr/local/lib/python3.11/dist-packages/cv2/large_kinfu/__init__.pyi\n",
            "    /usr/local/lib/python3.11/dist-packages/cv2/legacy/__init__.pyi\n",
            "    /usr/local/lib/python3.11/dist-packages/cv2/line_descriptor/__init__.pyi\n",
            "    /usr/local/lib/python3.11/dist-packages/cv2/linemod/__init__.pyi\n",
            "    /usr/local/lib/python3.11/dist-packages/cv2/mcc/__init__.pyi\n",
            "    /usr/local/lib/python3.11/dist-packages/cv2/motempl/__init__.pyi\n",
            "    /usr/local/lib/python3.11/dist-packages/cv2/multicalib/__init__.pyi\n",
            "    /usr/local/lib/python3.11/dist-packages/cv2/omnidir/__init__.pyi\n",
            "    /usr/local/lib/python3.11/dist-packages/cv2/optflow/__init__.pyi\n",
            "    /usr/local/lib/python3.11/dist-packages/cv2/phase_unwrapping/__init__.pyi\n",
            "    /usr/local/lib/python3.11/dist-packages/cv2/plot/__init__.pyi\n",
            "    /usr/local/lib/python3.11/dist-packages/cv2/ppf_match_3d/__init__.pyi\n",
            "    /usr/local/lib/python3.11/dist-packages/cv2/quality/__init__.pyi\n",
            "    /usr/local/lib/python3.11/dist-packages/cv2/rapid/__init__.pyi\n",
            "    /usr/local/lib/python3.11/dist-packages/cv2/reg/__init__.pyi\n",
            "    /usr/local/lib/python3.11/dist-packages/cv2/rgbd/__init__.pyi\n",
            "    /usr/local/lib/python3.11/dist-packages/cv2/saliency/__init__.pyi\n",
            "    /usr/local/lib/python3.11/dist-packages/cv2/signal/__init__.pyi\n",
            "    /usr/local/lib/python3.11/dist-packages/cv2/stereo/__init__.pyi\n",
            "    /usr/local/lib/python3.11/dist-packages/cv2/structured_light/__init__.pyi\n",
            "    /usr/local/lib/python3.11/dist-packages/cv2/text/__init__.pyi\n",
            "    /usr/local/lib/python3.11/dist-packages/cv2/videostab/__init__.pyi\n",
            "    /usr/local/lib/python3.11/dist-packages/cv2/wechat_qrcode/__init__.pyi\n",
            "    /usr/local/lib/python3.11/dist-packages/cv2/xfeatures2d/__init__.pyi\n",
            "    /usr/local/lib/python3.11/dist-packages/cv2/ximgproc/__init__.pyi\n",
            "    /usr/local/lib/python3.11/dist-packages/cv2/ximgproc/segmentation/__init__.pyi\n",
            "    /usr/local/lib/python3.11/dist-packages/cv2/xphoto/__init__.pyi\n",
            "Proceed (Y/n)? y\n",
            "  Successfully uninstalled opencv-python-4.12.0.88\n",
            "Found existing installation: opencv-python-headless 4.12.0.88\n",
            "Uninstalling opencv-python-headless-4.12.0.88:\n",
            "  Would remove:\n",
            "    /usr/local/lib/python3.11/dist-packages/opencv_python_headless-4.12.0.88.dist-info/*\n",
            "    /usr/local/lib/python3.11/dist-packages/opencv_python_headless.libs/libaom-49d00b71.so.3.12.1\n",
            "    /usr/local/lib/python3.11/dist-packages/opencv_python_headless.libs/libavcodec-e0dd92b8.so.59.37.100\n",
            "    /usr/local/lib/python3.11/dist-packages/opencv_python_headless.libs/libavformat-d296e685.so.59.27.100\n",
            "    /usr/local/lib/python3.11/dist-packages/opencv_python_headless.libs/libavif-850e7649.so.16.3.0\n",
            "    /usr/local/lib/python3.11/dist-packages/opencv_python_headless.libs/libavutil-734d06dd.so.57.28.100\n",
            "    /usr/local/lib/python3.11/dist-packages/opencv_python_headless.libs/libcrypto-01067bc0.so.1.1\n",
            "    /usr/local/lib/python3.11/dist-packages/opencv_python_headless.libs/libgfortran-91cc3cb1.so.3.0.0\n",
            "    /usr/local/lib/python3.11/dist-packages/opencv_python_headless.libs/libopenblas-r0-f650aae0.3.3.so\n",
            "    /usr/local/lib/python3.11/dist-packages/opencv_python_headless.libs/libpng16-04239421.so.16.48.0\n",
            "    /usr/local/lib/python3.11/dist-packages/opencv_python_headless.libs/libquadmath-96973f99.so.0.0.0\n",
            "    /usr/local/lib/python3.11/dist-packages/opencv_python_headless.libs/libssl-28bef1ac.so.1.1\n",
            "    /usr/local/lib/python3.11/dist-packages/opencv_python_headless.libs/libswresample-3e7db482.so.4.7.100\n",
            "    /usr/local/lib/python3.11/dist-packages/opencv_python_headless.libs/libswscale-95ddd674.so.6.7.100\n",
            "    /usr/local/lib/python3.11/dist-packages/opencv_python_headless.libs/libvpx-127417df.so.11.0.0\n",
            "Proceed (Y/n)? y\n",
            "  Successfully uninstalled opencv-python-headless-4.12.0.88\n",
            "Found existing installation: opencv-contrib-python 4.12.0.88\n",
            "Uninstalling opencv-contrib-python-4.12.0.88:\n",
            "  Would remove:\n",
            "    /usr/local/lib/python3.11/dist-packages/cv2/bgsegm/__init__.pyi\n",
            "    /usr/local/lib/python3.11/dist-packages/cv2/bioinspired/__init__.pyi\n",
            "    /usr/local/lib/python3.11/dist-packages/cv2/ccm/__init__.pyi\n",
            "    /usr/local/lib/python3.11/dist-packages/cv2/colored_kinfu/__init__.pyi\n",
            "    /usr/local/lib/python3.11/dist-packages/cv2/datasets/__init__.pyi\n",
            "    /usr/local/lib/python3.11/dist-packages/cv2/dnn_superres/__init__.pyi\n",
            "    /usr/local/lib/python3.11/dist-packages/cv2/dpm/__init__.pyi\n",
            "    /usr/local/lib/python3.11/dist-packages/cv2/dynafu/__init__.pyi\n",
            "    /usr/local/lib/python3.11/dist-packages/cv2/face/__init__.pyi\n",
            "    /usr/local/lib/python3.11/dist-packages/cv2/ft/__init__.pyi\n",
            "    /usr/local/lib/python3.11/dist-packages/cv2/hfs/__init__.pyi\n",
            "    /usr/local/lib/python3.11/dist-packages/cv2/img_hash/__init__.pyi\n",
            "    /usr/local/lib/python3.11/dist-packages/cv2/intensity_transform/__init__.pyi\n",
            "    /usr/local/lib/python3.11/dist-packages/cv2/kinfu/__init__.pyi\n",
            "    /usr/local/lib/python3.11/dist-packages/cv2/kinfu/detail/__init__.pyi\n",
            "    /usr/local/lib/python3.11/dist-packages/cv2/large_kinfu/__init__.pyi\n",
            "    /usr/local/lib/python3.11/dist-packages/cv2/legacy/__init__.pyi\n",
            "    /usr/local/lib/python3.11/dist-packages/cv2/line_descriptor/__init__.pyi\n",
            "    /usr/local/lib/python3.11/dist-packages/cv2/linemod/__init__.pyi\n",
            "    /usr/local/lib/python3.11/dist-packages/cv2/mcc/__init__.pyi\n",
            "    /usr/local/lib/python3.11/dist-packages/cv2/motempl/__init__.pyi\n",
            "    /usr/local/lib/python3.11/dist-packages/cv2/multicalib/__init__.pyi\n",
            "    /usr/local/lib/python3.11/dist-packages/cv2/omnidir/__init__.pyi\n",
            "    /usr/local/lib/python3.11/dist-packages/cv2/optflow/__init__.pyi\n",
            "    /usr/local/lib/python3.11/dist-packages/cv2/phase_unwrapping/__init__.pyi\n",
            "    /usr/local/lib/python3.11/dist-packages/cv2/plot/__init__.pyi\n",
            "    /usr/local/lib/python3.11/dist-packages/cv2/ppf_match_3d/__init__.pyi\n",
            "    /usr/local/lib/python3.11/dist-packages/cv2/quality/__init__.pyi\n",
            "    /usr/local/lib/python3.11/dist-packages/cv2/rapid/__init__.pyi\n",
            "    /usr/local/lib/python3.11/dist-packages/cv2/reg/__init__.pyi\n",
            "    /usr/local/lib/python3.11/dist-packages/cv2/rgbd/__init__.pyi\n",
            "    /usr/local/lib/python3.11/dist-packages/cv2/saliency/__init__.pyi\n",
            "    /usr/local/lib/python3.11/dist-packages/cv2/signal/__init__.pyi\n",
            "    /usr/local/lib/python3.11/dist-packages/cv2/stereo/__init__.pyi\n",
            "    /usr/local/lib/python3.11/dist-packages/cv2/structured_light/__init__.pyi\n",
            "    /usr/local/lib/python3.11/dist-packages/cv2/text/__init__.pyi\n",
            "    /usr/local/lib/python3.11/dist-packages/cv2/videostab/__init__.pyi\n",
            "    /usr/local/lib/python3.11/dist-packages/cv2/wechat_qrcode/__init__.pyi\n",
            "    /usr/local/lib/python3.11/dist-packages/cv2/xfeatures2d/__init__.pyi\n",
            "    /usr/local/lib/python3.11/dist-packages/cv2/ximgproc/__init__.pyi\n",
            "    /usr/local/lib/python3.11/dist-packages/cv2/ximgproc/segmentation/__init__.pyi\n",
            "    /usr/local/lib/python3.11/dist-packages/cv2/xphoto/__init__.pyi\n",
            "    /usr/local/lib/python3.11/dist-packages/opencv_contrib_python-4.12.0.88.dist-info/*\n",
            "    /usr/local/lib/python3.11/dist-packages/opencv_contrib_python.libs/libQt5Core-e7f476e2.so.5.15.16\n",
            "    /usr/local/lib/python3.11/dist-packages/opencv_contrib_python.libs/libQt5Gui-3e966859.so.5.15.16\n",
            "    /usr/local/lib/python3.11/dist-packages/opencv_contrib_python.libs/libQt5Test-9ac3ed15.so.5.15.16\n",
            "    /usr/local/lib/python3.11/dist-packages/opencv_contrib_python.libs/libQt5Widgets-cd430389.so.5.15.16\n",
            "    /usr/local/lib/python3.11/dist-packages/opencv_contrib_python.libs/libQt5XcbQpa-3cfa6167.so.5.15.16\n",
            "    /usr/local/lib/python3.11/dist-packages/opencv_contrib_python.libs/libX11-xcb-0e257303.so.1.0.0\n",
            "    /usr/local/lib/python3.11/dist-packages/opencv_contrib_python.libs/libXau-00ec42fe.so.6.0.0\n",
            "    /usr/local/lib/python3.11/dist-packages/opencv_contrib_python.libs/libaom-49d00b71.so.3.12.1\n",
            "    /usr/local/lib/python3.11/dist-packages/opencv_contrib_python.libs/libavcodec-e0dd92b8.so.59.37.100\n",
            "    /usr/local/lib/python3.11/dist-packages/opencv_contrib_python.libs/libavformat-d296e685.so.59.27.100\n",
            "    /usr/local/lib/python3.11/dist-packages/opencv_contrib_python.libs/libavif-850e7649.so.16.3.0\n",
            "    /usr/local/lib/python3.11/dist-packages/opencv_contrib_python.libs/libavutil-734d06dd.so.57.28.100\n",
            "    /usr/local/lib/python3.11/dist-packages/opencv_contrib_python.libs/libcrypto-01067bc0.so.1.1\n",
            "    /usr/local/lib/python3.11/dist-packages/opencv_contrib_python.libs/libgfortran-91cc3cb1.so.3.0.0\n",
            "    /usr/local/lib/python3.11/dist-packages/opencv_contrib_python.libs/libopenblas-r0-f650aae0.3.3.so\n",
            "    /usr/local/lib/python3.11/dist-packages/opencv_contrib_python.libs/libpng16-04239421.so.16.48.0\n",
            "    /usr/local/lib/python3.11/dist-packages/opencv_contrib_python.libs/libquadmath-96973f99.so.0.0.0\n",
            "    /usr/local/lib/python3.11/dist-packages/opencv_contrib_python.libs/libssl-28bef1ac.so.1.1\n",
            "    /usr/local/lib/python3.11/dist-packages/opencv_contrib_python.libs/libswresample-3e7db482.so.4.7.100\n",
            "    /usr/local/lib/python3.11/dist-packages/opencv_contrib_python.libs/libswscale-95ddd674.so.6.7.100\n",
            "    /usr/local/lib/python3.11/dist-packages/opencv_contrib_python.libs/libvpx-127417df.so.11.0.0\n",
            "    /usr/local/lib/python3.11/dist-packages/opencv_contrib_python.libs/libxcb-icccm-413c9f41.so.4.0.0\n",
            "    /usr/local/lib/python3.11/dist-packages/opencv_contrib_python.libs/libxcb-image-e82a276d.so.0.0.0\n",
            "    /usr/local/lib/python3.11/dist-packages/opencv_contrib_python.libs/libxcb-keysyms-21015570.so.1.0.0\n",
            "    /usr/local/lib/python3.11/dist-packages/opencv_contrib_python.libs/libxcb-randr-a96a5a87.so.0.1.0\n",
            "    /usr/local/lib/python3.11/dist-packages/opencv_contrib_python.libs/libxcb-render-637b984a.so.0.0.0\n",
            "    /usr/local/lib/python3.11/dist-packages/opencv_contrib_python.libs/libxcb-render-util-43ce00f5.so.0.0.0\n",
            "    /usr/local/lib/python3.11/dist-packages/opencv_contrib_python.libs/libxcb-shape-25c2b258.so.0.0.0\n",
            "    /usr/local/lib/python3.11/dist-packages/opencv_contrib_python.libs/libxcb-shm-7a199f70.so.0.0.0\n",
            "    /usr/local/lib/python3.11/dist-packages/opencv_contrib_python.libs/libxcb-sync-89374f40.so.1.0.0\n",
            "    /usr/local/lib/python3.11/dist-packages/opencv_contrib_python.libs/libxcb-util-4d666913.so.1.0.0\n",
            "    /usr/local/lib/python3.11/dist-packages/opencv_contrib_python.libs/libxcb-xfixes-9be3ba6f.so.0.0.0\n",
            "    /usr/local/lib/python3.11/dist-packages/opencv_contrib_python.libs/libxcb-xinerama-ae147f87.so.0.0.0\n",
            "    /usr/local/lib/python3.11/dist-packages/opencv_contrib_python.libs/libxcb-xkb-9ba31ab3.so.1.0.0\n",
            "    /usr/local/lib/python3.11/dist-packages/opencv_contrib_python.libs/libxkbcommon-71ae2972.so.0.0.0\n",
            "    /usr/local/lib/python3.11/dist-packages/opencv_contrib_python.libs/libxkbcommon-x11-c65ed502.so.0.0.0\n",
            "Proceed (Y/n)? y\n",
            "  Successfully uninstalled opencv-contrib-python-4.12.0.88\n",
            "\u001b[33mWARNING: Skipping opencv-contrib-python-headless as it is not installed.\u001b[0m\u001b[33m\n",
            "\u001b[0mCollecting opencv-contrib-python\n",
            "  Downloading opencv_contrib_python-4.12.0.88-cp37-abi3-manylinux2014_x86_64.manylinux_2_17_x86_64.whl.metadata (19 kB)\n",
            "Requirement already satisfied: numpy<2.3.0,>=2 in /usr/local/lib/python3.11/dist-packages (from opencv-contrib-python) (2.0.2)\n",
            "Downloading opencv_contrib_python-4.12.0.88-cp37-abi3-manylinux2014_x86_64.manylinux_2_17_x86_64.whl (73.2 MB)\n",
            "\u001b[2K   \u001b[90m━━━━━━━━━━━━━━━━━━━━━━━━━━━━━━━━━━━━━━━━\u001b[0m \u001b[32m73.2/73.2 MB\u001b[0m \u001b[31m11.4 MB/s\u001b[0m eta \u001b[36m0:00:00\u001b[0m\n",
            "\u001b[?25hInstalling collected packages: opencv-contrib-python\n",
            "Successfully installed opencv-contrib-python-4.12.0.88\n"
          ]
        },
        {
          "output_type": "display_data",
          "data": {
            "application/vnd.colab-display-data+json": {
              "pip_warning": {
                "packages": [
                  "cv2"
                ]
              },
              "id": "28697ea2292348c59edea13ab7278a63"
            }
          },
          "metadata": {}
        }
      ]
    },
    {
      "cell_type": "code",
      "source": [
        "import pandas as pd\n",
        "df=pd.read_csv(\"/content/test/_classes.csv\")"
      ],
      "metadata": {
        "id": "yn1IUNoEUYVu"
      },
      "execution_count": 2,
      "outputs": []
    },
    {
      "cell_type": "code",
      "source": [
        "df.head()\n",
        "l=[\"Ecrou NOK\"\t,\"Ecrou Ok\"\t,\"Rondelle NOK\"\t,\"Rondelle OK\"\t,\"Vis NOK\"\t,\"Vis OK\"]\n",
        "df.set_index('filename',inplace=True)\n",
        "res =  df[df==1].stack().reset_index().drop(0, axis=1)\n",
        "res.head()"
      ],
      "metadata": {
        "colab": {
          "base_uri": "https://localhost:8080/",
          "height": 206
        },
        "id": "ERmz3HYmUmxR",
        "outputId": "c9d55c94-3703-4a0f-a37a-dcbf5f1f2582",
        "collapsed": true
      },
      "execution_count": 3,
      "outputs": [
        {
          "output_type": "execute_result",
          "data": {
            "text/plain": [
              "                                            filename       level_1\n",
              "0  P6171491_JPG.rf.19e938b88b3425361e23f15ec5bdba...     Ecrou NOK\n",
              "1  P6171353_JPG.rf.739351d214a4c8b22fa27d9cdc48a5...  Rondelle NOK\n",
              "2  P6171239_JPG.rf.b5e48a8a6e8bcd81ded841a0d24256...   Rondelle OK\n",
              "3  P6181722_JPG.rf.f21304384e6391874098137429bbdd...   Rondelle OK\n",
              "4  P6171517_JPG.rf.644bea307bf3945f208a3d7c7a6723...      Ecrou Ok"
            ],
            "text/html": [
              "\n",
              "  <div id=\"df-63695e19-67c1-4922-8608-0c6ff63bac91\" class=\"colab-df-container\">\n",
              "    <div>\n",
              "<style scoped>\n",
              "    .dataframe tbody tr th:only-of-type {\n",
              "        vertical-align: middle;\n",
              "    }\n",
              "\n",
              "    .dataframe tbody tr th {\n",
              "        vertical-align: top;\n",
              "    }\n",
              "\n",
              "    .dataframe thead th {\n",
              "        text-align: right;\n",
              "    }\n",
              "</style>\n",
              "<table border=\"1\" class=\"dataframe\">\n",
              "  <thead>\n",
              "    <tr style=\"text-align: right;\">\n",
              "      <th></th>\n",
              "      <th>filename</th>\n",
              "      <th>level_1</th>\n",
              "    </tr>\n",
              "  </thead>\n",
              "  <tbody>\n",
              "    <tr>\n",
              "      <th>0</th>\n",
              "      <td>P6171491_JPG.rf.19e938b88b3425361e23f15ec5bdba...</td>\n",
              "      <td>Ecrou NOK</td>\n",
              "    </tr>\n",
              "    <tr>\n",
              "      <th>1</th>\n",
              "      <td>P6171353_JPG.rf.739351d214a4c8b22fa27d9cdc48a5...</td>\n",
              "      <td>Rondelle NOK</td>\n",
              "    </tr>\n",
              "    <tr>\n",
              "      <th>2</th>\n",
              "      <td>P6171239_JPG.rf.b5e48a8a6e8bcd81ded841a0d24256...</td>\n",
              "      <td>Rondelle OK</td>\n",
              "    </tr>\n",
              "    <tr>\n",
              "      <th>3</th>\n",
              "      <td>P6181722_JPG.rf.f21304384e6391874098137429bbdd...</td>\n",
              "      <td>Rondelle OK</td>\n",
              "    </tr>\n",
              "    <tr>\n",
              "      <th>4</th>\n",
              "      <td>P6171517_JPG.rf.644bea307bf3945f208a3d7c7a6723...</td>\n",
              "      <td>Ecrou Ok</td>\n",
              "    </tr>\n",
              "  </tbody>\n",
              "</table>\n",
              "</div>\n",
              "    <div class=\"colab-df-buttons\">\n",
              "\n",
              "  <div class=\"colab-df-container\">\n",
              "    <button class=\"colab-df-convert\" onclick=\"convertToInteractive('df-63695e19-67c1-4922-8608-0c6ff63bac91')\"\n",
              "            title=\"Convert this dataframe to an interactive table.\"\n",
              "            style=\"display:none;\">\n",
              "\n",
              "  <svg xmlns=\"http://www.w3.org/2000/svg\" height=\"24px\" viewBox=\"0 -960 960 960\">\n",
              "    <path d=\"M120-120v-720h720v720H120Zm60-500h600v-160H180v160Zm220 220h160v-160H400v160Zm0 220h160v-160H400v160ZM180-400h160v-160H180v160Zm440 0h160v-160H620v160ZM180-180h160v-160H180v160Zm440 0h160v-160H620v160Z\"/>\n",
              "  </svg>\n",
              "    </button>\n",
              "\n",
              "  <style>\n",
              "    .colab-df-container {\n",
              "      display:flex;\n",
              "      gap: 12px;\n",
              "    }\n",
              "\n",
              "    .colab-df-convert {\n",
              "      background-color: #E8F0FE;\n",
              "      border: none;\n",
              "      border-radius: 50%;\n",
              "      cursor: pointer;\n",
              "      display: none;\n",
              "      fill: #1967D2;\n",
              "      height: 32px;\n",
              "      padding: 0 0 0 0;\n",
              "      width: 32px;\n",
              "    }\n",
              "\n",
              "    .colab-df-convert:hover {\n",
              "      background-color: #E2EBFA;\n",
              "      box-shadow: 0px 1px 2px rgba(60, 64, 67, 0.3), 0px 1px 3px 1px rgba(60, 64, 67, 0.15);\n",
              "      fill: #174EA6;\n",
              "    }\n",
              "\n",
              "    .colab-df-buttons div {\n",
              "      margin-bottom: 4px;\n",
              "    }\n",
              "\n",
              "    [theme=dark] .colab-df-convert {\n",
              "      background-color: #3B4455;\n",
              "      fill: #D2E3FC;\n",
              "    }\n",
              "\n",
              "    [theme=dark] .colab-df-convert:hover {\n",
              "      background-color: #434B5C;\n",
              "      box-shadow: 0px 1px 3px 1px rgba(0, 0, 0, 0.15);\n",
              "      filter: drop-shadow(0px 1px 2px rgba(0, 0, 0, 0.3));\n",
              "      fill: #FFFFFF;\n",
              "    }\n",
              "  </style>\n",
              "\n",
              "    <script>\n",
              "      const buttonEl =\n",
              "        document.querySelector('#df-63695e19-67c1-4922-8608-0c6ff63bac91 button.colab-df-convert');\n",
              "      buttonEl.style.display =\n",
              "        google.colab.kernel.accessAllowed ? 'block' : 'none';\n",
              "\n",
              "      async function convertToInteractive(key) {\n",
              "        const element = document.querySelector('#df-63695e19-67c1-4922-8608-0c6ff63bac91');\n",
              "        const dataTable =\n",
              "          await google.colab.kernel.invokeFunction('convertToInteractive',\n",
              "                                                    [key], {});\n",
              "        if (!dataTable) return;\n",
              "\n",
              "        const docLinkHtml = 'Like what you see? Visit the ' +\n",
              "          '<a target=\"_blank\" href=https://colab.research.google.com/notebooks/data_table.ipynb>data table notebook</a>'\n",
              "          + ' to learn more about interactive tables.';\n",
              "        element.innerHTML = '';\n",
              "        dataTable['output_type'] = 'display_data';\n",
              "        await google.colab.output.renderOutput(dataTable, element);\n",
              "        const docLink = document.createElement('div');\n",
              "        docLink.innerHTML = docLinkHtml;\n",
              "        element.appendChild(docLink);\n",
              "      }\n",
              "    </script>\n",
              "  </div>\n",
              "\n",
              "\n",
              "    <div id=\"df-a326ed97-ecd8-46ea-bd18-4d607b9cd41c\">\n",
              "      <button class=\"colab-df-quickchart\" onclick=\"quickchart('df-a326ed97-ecd8-46ea-bd18-4d607b9cd41c')\"\n",
              "                title=\"Suggest charts\"\n",
              "                style=\"display:none;\">\n",
              "\n",
              "<svg xmlns=\"http://www.w3.org/2000/svg\" height=\"24px\"viewBox=\"0 0 24 24\"\n",
              "     width=\"24px\">\n",
              "    <g>\n",
              "        <path d=\"M19 3H5c-1.1 0-2 .9-2 2v14c0 1.1.9 2 2 2h14c1.1 0 2-.9 2-2V5c0-1.1-.9-2-2-2zM9 17H7v-7h2v7zm4 0h-2V7h2v10zm4 0h-2v-4h2v4z\"/>\n",
              "    </g>\n",
              "</svg>\n",
              "      </button>\n",
              "\n",
              "<style>\n",
              "  .colab-df-quickchart {\n",
              "      --bg-color: #E8F0FE;\n",
              "      --fill-color: #1967D2;\n",
              "      --hover-bg-color: #E2EBFA;\n",
              "      --hover-fill-color: #174EA6;\n",
              "      --disabled-fill-color: #AAA;\n",
              "      --disabled-bg-color: #DDD;\n",
              "  }\n",
              "\n",
              "  [theme=dark] .colab-df-quickchart {\n",
              "      --bg-color: #3B4455;\n",
              "      --fill-color: #D2E3FC;\n",
              "      --hover-bg-color: #434B5C;\n",
              "      --hover-fill-color: #FFFFFF;\n",
              "      --disabled-bg-color: #3B4455;\n",
              "      --disabled-fill-color: #666;\n",
              "  }\n",
              "\n",
              "  .colab-df-quickchart {\n",
              "    background-color: var(--bg-color);\n",
              "    border: none;\n",
              "    border-radius: 50%;\n",
              "    cursor: pointer;\n",
              "    display: none;\n",
              "    fill: var(--fill-color);\n",
              "    height: 32px;\n",
              "    padding: 0;\n",
              "    width: 32px;\n",
              "  }\n",
              "\n",
              "  .colab-df-quickchart:hover {\n",
              "    background-color: var(--hover-bg-color);\n",
              "    box-shadow: 0 1px 2px rgba(60, 64, 67, 0.3), 0 1px 3px 1px rgba(60, 64, 67, 0.15);\n",
              "    fill: var(--button-hover-fill-color);\n",
              "  }\n",
              "\n",
              "  .colab-df-quickchart-complete:disabled,\n",
              "  .colab-df-quickchart-complete:disabled:hover {\n",
              "    background-color: var(--disabled-bg-color);\n",
              "    fill: var(--disabled-fill-color);\n",
              "    box-shadow: none;\n",
              "  }\n",
              "\n",
              "  .colab-df-spinner {\n",
              "    border: 2px solid var(--fill-color);\n",
              "    border-color: transparent;\n",
              "    border-bottom-color: var(--fill-color);\n",
              "    animation:\n",
              "      spin 1s steps(1) infinite;\n",
              "  }\n",
              "\n",
              "  @keyframes spin {\n",
              "    0% {\n",
              "      border-color: transparent;\n",
              "      border-bottom-color: var(--fill-color);\n",
              "      border-left-color: var(--fill-color);\n",
              "    }\n",
              "    20% {\n",
              "      border-color: transparent;\n",
              "      border-left-color: var(--fill-color);\n",
              "      border-top-color: var(--fill-color);\n",
              "    }\n",
              "    30% {\n",
              "      border-color: transparent;\n",
              "      border-left-color: var(--fill-color);\n",
              "      border-top-color: var(--fill-color);\n",
              "      border-right-color: var(--fill-color);\n",
              "    }\n",
              "    40% {\n",
              "      border-color: transparent;\n",
              "      border-right-color: var(--fill-color);\n",
              "      border-top-color: var(--fill-color);\n",
              "    }\n",
              "    60% {\n",
              "      border-color: transparent;\n",
              "      border-right-color: var(--fill-color);\n",
              "    }\n",
              "    80% {\n",
              "      border-color: transparent;\n",
              "      border-right-color: var(--fill-color);\n",
              "      border-bottom-color: var(--fill-color);\n",
              "    }\n",
              "    90% {\n",
              "      border-color: transparent;\n",
              "      border-bottom-color: var(--fill-color);\n",
              "    }\n",
              "  }\n",
              "</style>\n",
              "\n",
              "      <script>\n",
              "        async function quickchart(key) {\n",
              "          const quickchartButtonEl =\n",
              "            document.querySelector('#' + key + ' button');\n",
              "          quickchartButtonEl.disabled = true;  // To prevent multiple clicks.\n",
              "          quickchartButtonEl.classList.add('colab-df-spinner');\n",
              "          try {\n",
              "            const charts = await google.colab.kernel.invokeFunction(\n",
              "                'suggestCharts', [key], {});\n",
              "          } catch (error) {\n",
              "            console.error('Error during call to suggestCharts:', error);\n",
              "          }\n",
              "          quickchartButtonEl.classList.remove('colab-df-spinner');\n",
              "          quickchartButtonEl.classList.add('colab-df-quickchart-complete');\n",
              "        }\n",
              "        (() => {\n",
              "          let quickchartButtonEl =\n",
              "            document.querySelector('#df-a326ed97-ecd8-46ea-bd18-4d607b9cd41c button');\n",
              "          quickchartButtonEl.style.display =\n",
              "            google.colab.kernel.accessAllowed ? 'block' : 'none';\n",
              "        })();\n",
              "      </script>\n",
              "    </div>\n",
              "\n",
              "    </div>\n",
              "  </div>\n"
            ],
            "application/vnd.google.colaboratory.intrinsic+json": {
              "type": "dataframe",
              "variable_name": "res",
              "summary": "{\n  \"name\": \"res\",\n  \"rows\": 51,\n  \"fields\": [\n    {\n      \"column\": \"filename\",\n      \"properties\": {\n        \"dtype\": \"string\",\n        \"num_unique_values\": 51,\n        \"samples\": [\n          \"P6171640_JPG.rf.dba50a4b7fe05aa0ca09df437a2edebc.jpg\",\n          \"P6171525_JPG.rf.d8c15f4ecb3bfe5aee27ab1513f394d5.jpg\",\n          \"P6171312_JPG.rf.650fa1ca82dc1d1669befab5860c3006.jpg\"\n        ],\n        \"semantic_type\": \"\",\n        \"description\": \"\"\n      }\n    },\n    {\n      \"column\": \"level_1\",\n      \"properties\": {\n        \"dtype\": \"category\",\n        \"num_unique_values\": 6,\n        \"samples\": [\n          \"Ecrou NOK\",\n          \"Rondelle NOK\",\n          \"Vis NOK\"\n        ],\n        \"semantic_type\": \"\",\n        \"description\": \"\"\n      }\n    }\n  ]\n}"
            }
          },
          "metadata": {},
          "execution_count": 3
        }
      ]
    },
    {
      "cell_type": "code",
      "source": [
        "for i in range(len(res)-1, -1, -1):\n",
        "  if res.iloc[i,1]==\"Vis NOK\" or \tres.iloc[i,1]==\"Vis OK\":\n",
        "    res.drop(i,inplace=True)"
      ],
      "metadata": {
        "id": "vun6Sg_gVvVG"
      },
      "execution_count": 4,
      "outputs": []
    },
    {
      "cell_type": "code",
      "source": [
        "res=res.replace('Ecrou NOK',\"nut\")\n",
        "res=res.replace('Ecrou Ok',\"nut\")\n",
        "\n",
        "res=res.replace('Rondelle NOK',\"washer\")\n",
        "res=res.replace('Rondelle OK',\"washer\")"
      ],
      "metadata": {
        "id": "ttwWiHTrYt78"
      },
      "execution_count": 5,
      "outputs": []
    },
    {
      "cell_type": "code",
      "source": [
        "res['level_1'].unique()"
      ],
      "metadata": {
        "colab": {
          "base_uri": "https://localhost:8080/"
        },
        "id": "iBHQv7I8Z2_e",
        "outputId": "d5cf3ad5-0d83-425b-a6fa-1d7b5875e887"
      },
      "execution_count": 6,
      "outputs": [
        {
          "output_type": "execute_result",
          "data": {
            "text/plain": [
              "array(['nut', 'washer'], dtype=object)"
            ]
          },
          "metadata": {},
          "execution_count": 6
        }
      ]
    },
    {
      "cell_type": "code",
      "source": [
        "for i in res['filename']:\n",
        "  res=res.replace(i,\"/content/test/\"+i)"
      ],
      "metadata": {
        "id": "KMtTAfTZaj4_"
      },
      "execution_count": 7,
      "outputs": []
    },
    {
      "cell_type": "code",
      "source": [
        "res=pd.get_dummies(res,columns=['level_1'],dtype=float)\n",
        "res.columns = res.columns.str.replace(\"level_1_\", \"\")\n",
        "res.head()"
      ],
      "metadata": {
        "colab": {
          "base_uri": "https://localhost:8080/",
          "height": 206
        },
        "id": "o5xAsZnIcwMZ",
        "outputId": "acd0904e-c9ec-40cb-84ba-c6c6cc861a7f",
        "collapsed": true
      },
      "execution_count": 8,
      "outputs": [
        {
          "output_type": "execute_result",
          "data": {
            "text/plain": [
              "                                            filename  nut  washer\n",
              "0  /content/test/P6171491_JPG.rf.19e938b88b342536...  1.0     0.0\n",
              "1  /content/test/P6171353_JPG.rf.739351d214a4c8b2...  0.0     1.0\n",
              "2  /content/test/P6171239_JPG.rf.b5e48a8a6e8bcd81...  0.0     1.0\n",
              "3  /content/test/P6181722_JPG.rf.f21304384e639187...  0.0     1.0\n",
              "4  /content/test/P6171517_JPG.rf.644bea307bf3945f...  1.0     0.0"
            ],
            "text/html": [
              "\n",
              "  <div id=\"df-ba2e878b-256e-4404-9f41-4786844603f3\" class=\"colab-df-container\">\n",
              "    <div>\n",
              "<style scoped>\n",
              "    .dataframe tbody tr th:only-of-type {\n",
              "        vertical-align: middle;\n",
              "    }\n",
              "\n",
              "    .dataframe tbody tr th {\n",
              "        vertical-align: top;\n",
              "    }\n",
              "\n",
              "    .dataframe thead th {\n",
              "        text-align: right;\n",
              "    }\n",
              "</style>\n",
              "<table border=\"1\" class=\"dataframe\">\n",
              "  <thead>\n",
              "    <tr style=\"text-align: right;\">\n",
              "      <th></th>\n",
              "      <th>filename</th>\n",
              "      <th>nut</th>\n",
              "      <th>washer</th>\n",
              "    </tr>\n",
              "  </thead>\n",
              "  <tbody>\n",
              "    <tr>\n",
              "      <th>0</th>\n",
              "      <td>/content/test/P6171491_JPG.rf.19e938b88b342536...</td>\n",
              "      <td>1.0</td>\n",
              "      <td>0.0</td>\n",
              "    </tr>\n",
              "    <tr>\n",
              "      <th>1</th>\n",
              "      <td>/content/test/P6171353_JPG.rf.739351d214a4c8b2...</td>\n",
              "      <td>0.0</td>\n",
              "      <td>1.0</td>\n",
              "    </tr>\n",
              "    <tr>\n",
              "      <th>2</th>\n",
              "      <td>/content/test/P6171239_JPG.rf.b5e48a8a6e8bcd81...</td>\n",
              "      <td>0.0</td>\n",
              "      <td>1.0</td>\n",
              "    </tr>\n",
              "    <tr>\n",
              "      <th>3</th>\n",
              "      <td>/content/test/P6181722_JPG.rf.f21304384e639187...</td>\n",
              "      <td>0.0</td>\n",
              "      <td>1.0</td>\n",
              "    </tr>\n",
              "    <tr>\n",
              "      <th>4</th>\n",
              "      <td>/content/test/P6171517_JPG.rf.644bea307bf3945f...</td>\n",
              "      <td>1.0</td>\n",
              "      <td>0.0</td>\n",
              "    </tr>\n",
              "  </tbody>\n",
              "</table>\n",
              "</div>\n",
              "    <div class=\"colab-df-buttons\">\n",
              "\n",
              "  <div class=\"colab-df-container\">\n",
              "    <button class=\"colab-df-convert\" onclick=\"convertToInteractive('df-ba2e878b-256e-4404-9f41-4786844603f3')\"\n",
              "            title=\"Convert this dataframe to an interactive table.\"\n",
              "            style=\"display:none;\">\n",
              "\n",
              "  <svg xmlns=\"http://www.w3.org/2000/svg\" height=\"24px\" viewBox=\"0 -960 960 960\">\n",
              "    <path d=\"M120-120v-720h720v720H120Zm60-500h600v-160H180v160Zm220 220h160v-160H400v160Zm0 220h160v-160H400v160ZM180-400h160v-160H180v160Zm440 0h160v-160H620v160ZM180-180h160v-160H180v160Zm440 0h160v-160H620v160Z\"/>\n",
              "  </svg>\n",
              "    </button>\n",
              "\n",
              "  <style>\n",
              "    .colab-df-container {\n",
              "      display:flex;\n",
              "      gap: 12px;\n",
              "    }\n",
              "\n",
              "    .colab-df-convert {\n",
              "      background-color: #E8F0FE;\n",
              "      border: none;\n",
              "      border-radius: 50%;\n",
              "      cursor: pointer;\n",
              "      display: none;\n",
              "      fill: #1967D2;\n",
              "      height: 32px;\n",
              "      padding: 0 0 0 0;\n",
              "      width: 32px;\n",
              "    }\n",
              "\n",
              "    .colab-df-convert:hover {\n",
              "      background-color: #E2EBFA;\n",
              "      box-shadow: 0px 1px 2px rgba(60, 64, 67, 0.3), 0px 1px 3px 1px rgba(60, 64, 67, 0.15);\n",
              "      fill: #174EA6;\n",
              "    }\n",
              "\n",
              "    .colab-df-buttons div {\n",
              "      margin-bottom: 4px;\n",
              "    }\n",
              "\n",
              "    [theme=dark] .colab-df-convert {\n",
              "      background-color: #3B4455;\n",
              "      fill: #D2E3FC;\n",
              "    }\n",
              "\n",
              "    [theme=dark] .colab-df-convert:hover {\n",
              "      background-color: #434B5C;\n",
              "      box-shadow: 0px 1px 3px 1px rgba(0, 0, 0, 0.15);\n",
              "      filter: drop-shadow(0px 1px 2px rgba(0, 0, 0, 0.3));\n",
              "      fill: #FFFFFF;\n",
              "    }\n",
              "  </style>\n",
              "\n",
              "    <script>\n",
              "      const buttonEl =\n",
              "        document.querySelector('#df-ba2e878b-256e-4404-9f41-4786844603f3 button.colab-df-convert');\n",
              "      buttonEl.style.display =\n",
              "        google.colab.kernel.accessAllowed ? 'block' : 'none';\n",
              "\n",
              "      async function convertToInteractive(key) {\n",
              "        const element = document.querySelector('#df-ba2e878b-256e-4404-9f41-4786844603f3');\n",
              "        const dataTable =\n",
              "          await google.colab.kernel.invokeFunction('convertToInteractive',\n",
              "                                                    [key], {});\n",
              "        if (!dataTable) return;\n",
              "\n",
              "        const docLinkHtml = 'Like what you see? Visit the ' +\n",
              "          '<a target=\"_blank\" href=https://colab.research.google.com/notebooks/data_table.ipynb>data table notebook</a>'\n",
              "          + ' to learn more about interactive tables.';\n",
              "        element.innerHTML = '';\n",
              "        dataTable['output_type'] = 'display_data';\n",
              "        await google.colab.output.renderOutput(dataTable, element);\n",
              "        const docLink = document.createElement('div');\n",
              "        docLink.innerHTML = docLinkHtml;\n",
              "        element.appendChild(docLink);\n",
              "      }\n",
              "    </script>\n",
              "  </div>\n",
              "\n",
              "\n",
              "    <div id=\"df-86fdc525-065d-4a95-87ba-91f3b44ab04b\">\n",
              "      <button class=\"colab-df-quickchart\" onclick=\"quickchart('df-86fdc525-065d-4a95-87ba-91f3b44ab04b')\"\n",
              "                title=\"Suggest charts\"\n",
              "                style=\"display:none;\">\n",
              "\n",
              "<svg xmlns=\"http://www.w3.org/2000/svg\" height=\"24px\"viewBox=\"0 0 24 24\"\n",
              "     width=\"24px\">\n",
              "    <g>\n",
              "        <path d=\"M19 3H5c-1.1 0-2 .9-2 2v14c0 1.1.9 2 2 2h14c1.1 0 2-.9 2-2V5c0-1.1-.9-2-2-2zM9 17H7v-7h2v7zm4 0h-2V7h2v10zm4 0h-2v-4h2v4z\"/>\n",
              "    </g>\n",
              "</svg>\n",
              "      </button>\n",
              "\n",
              "<style>\n",
              "  .colab-df-quickchart {\n",
              "      --bg-color: #E8F0FE;\n",
              "      --fill-color: #1967D2;\n",
              "      --hover-bg-color: #E2EBFA;\n",
              "      --hover-fill-color: #174EA6;\n",
              "      --disabled-fill-color: #AAA;\n",
              "      --disabled-bg-color: #DDD;\n",
              "  }\n",
              "\n",
              "  [theme=dark] .colab-df-quickchart {\n",
              "      --bg-color: #3B4455;\n",
              "      --fill-color: #D2E3FC;\n",
              "      --hover-bg-color: #434B5C;\n",
              "      --hover-fill-color: #FFFFFF;\n",
              "      --disabled-bg-color: #3B4455;\n",
              "      --disabled-fill-color: #666;\n",
              "  }\n",
              "\n",
              "  .colab-df-quickchart {\n",
              "    background-color: var(--bg-color);\n",
              "    border: none;\n",
              "    border-radius: 50%;\n",
              "    cursor: pointer;\n",
              "    display: none;\n",
              "    fill: var(--fill-color);\n",
              "    height: 32px;\n",
              "    padding: 0;\n",
              "    width: 32px;\n",
              "  }\n",
              "\n",
              "  .colab-df-quickchart:hover {\n",
              "    background-color: var(--hover-bg-color);\n",
              "    box-shadow: 0 1px 2px rgba(60, 64, 67, 0.3), 0 1px 3px 1px rgba(60, 64, 67, 0.15);\n",
              "    fill: var(--button-hover-fill-color);\n",
              "  }\n",
              "\n",
              "  .colab-df-quickchart-complete:disabled,\n",
              "  .colab-df-quickchart-complete:disabled:hover {\n",
              "    background-color: var(--disabled-bg-color);\n",
              "    fill: var(--disabled-fill-color);\n",
              "    box-shadow: none;\n",
              "  }\n",
              "\n",
              "  .colab-df-spinner {\n",
              "    border: 2px solid var(--fill-color);\n",
              "    border-color: transparent;\n",
              "    border-bottom-color: var(--fill-color);\n",
              "    animation:\n",
              "      spin 1s steps(1) infinite;\n",
              "  }\n",
              "\n",
              "  @keyframes spin {\n",
              "    0% {\n",
              "      border-color: transparent;\n",
              "      border-bottom-color: var(--fill-color);\n",
              "      border-left-color: var(--fill-color);\n",
              "    }\n",
              "    20% {\n",
              "      border-color: transparent;\n",
              "      border-left-color: var(--fill-color);\n",
              "      border-top-color: var(--fill-color);\n",
              "    }\n",
              "    30% {\n",
              "      border-color: transparent;\n",
              "      border-left-color: var(--fill-color);\n",
              "      border-top-color: var(--fill-color);\n",
              "      border-right-color: var(--fill-color);\n",
              "    }\n",
              "    40% {\n",
              "      border-color: transparent;\n",
              "      border-right-color: var(--fill-color);\n",
              "      border-top-color: var(--fill-color);\n",
              "    }\n",
              "    60% {\n",
              "      border-color: transparent;\n",
              "      border-right-color: var(--fill-color);\n",
              "    }\n",
              "    80% {\n",
              "      border-color: transparent;\n",
              "      border-right-color: var(--fill-color);\n",
              "      border-bottom-color: var(--fill-color);\n",
              "    }\n",
              "    90% {\n",
              "      border-color: transparent;\n",
              "      border-bottom-color: var(--fill-color);\n",
              "    }\n",
              "  }\n",
              "</style>\n",
              "\n",
              "      <script>\n",
              "        async function quickchart(key) {\n",
              "          const quickchartButtonEl =\n",
              "            document.querySelector('#' + key + ' button');\n",
              "          quickchartButtonEl.disabled = true;  // To prevent multiple clicks.\n",
              "          quickchartButtonEl.classList.add('colab-df-spinner');\n",
              "          try {\n",
              "            const charts = await google.colab.kernel.invokeFunction(\n",
              "                'suggestCharts', [key], {});\n",
              "          } catch (error) {\n",
              "            console.error('Error during call to suggestCharts:', error);\n",
              "          }\n",
              "          quickchartButtonEl.classList.remove('colab-df-spinner');\n",
              "          quickchartButtonEl.classList.add('colab-df-quickchart-complete');\n",
              "        }\n",
              "        (() => {\n",
              "          let quickchartButtonEl =\n",
              "            document.querySelector('#df-86fdc525-065d-4a95-87ba-91f3b44ab04b button');\n",
              "          quickchartButtonEl.style.display =\n",
              "            google.colab.kernel.accessAllowed ? 'block' : 'none';\n",
              "        })();\n",
              "      </script>\n",
              "    </div>\n",
              "\n",
              "    </div>\n",
              "  </div>\n"
            ],
            "application/vnd.google.colaboratory.intrinsic+json": {
              "type": "dataframe",
              "variable_name": "res",
              "summary": "{\n  \"name\": \"res\",\n  \"rows\": 39,\n  \"fields\": [\n    {\n      \"column\": \"filename\",\n      \"properties\": {\n        \"dtype\": \"string\",\n        \"num_unique_values\": 39,\n        \"samples\": [\n          \"/content/test/P6171462_JPG.rf.64db110f3d99d6b756f15ffdbfd030d6.jpg\",\n          \"/content/test/P6171346_JPG.rf.b85dd5f683223aaf52ece205d6a12522.jpg\",\n          \"/content/test/P6171517_JPG.rf.644bea307bf3945f208a3d7c7a6723fe.jpg\"\n        ],\n        \"semantic_type\": \"\",\n        \"description\": \"\"\n      }\n    },\n    {\n      \"column\": \"nut\",\n      \"properties\": {\n        \"dtype\": \"number\",\n        \"std\": 0.5023561221029409,\n        \"min\": 0.0,\n        \"max\": 1.0,\n        \"num_unique_values\": 2,\n        \"samples\": [\n          0.0,\n          1.0\n        ],\n        \"semantic_type\": \"\",\n        \"description\": \"\"\n      }\n    },\n    {\n      \"column\": \"washer\",\n      \"properties\": {\n        \"dtype\": \"number\",\n        \"std\": 0.5023561221029409,\n        \"min\": 0.0,\n        \"max\": 1.0,\n        \"num_unique_values\": 2,\n        \"samples\": [\n          1.0,\n          0.0\n        ],\n        \"semantic_type\": \"\",\n        \"description\": \"\"\n      }\n    }\n  ]\n}"
            }
          },
          "metadata": {},
          "execution_count": 8
        }
      ]
    },
    {
      "cell_type": "code",
      "source": [
        "df=res.copy()"
      ],
      "metadata": {
        "id": "jKKMwCrDayCw"
      },
      "execution_count": 9,
      "outputs": []
    },
    {
      "cell_type": "code",
      "source": [
        "from PIL import Image\n",
        "import copy\n",
        "import matplotlib.pyplot as plt\n",
        "import torch\n",
        "import torch.nn as nn\n",
        "from sklearn.model_selection import train_test_split\n",
        "from torchvision import models,transforms\n",
        "from torch.utils.data import DataLoader,Dataset\n",
        "import numpy as np\n",
        "import seaborn as sns"
      ],
      "metadata": {
        "id": "f0iTDZhpbXku"
      },
      "execution_count": 2,
      "outputs": []
    },
    {
      "cell_type": "code",
      "source": [
        "class customdataset(Dataset):\n",
        "    def __init__(self,x,y,transform=None):\n",
        "        self.x=x\n",
        "        self.y=y\n",
        "        self.transform=transform\n",
        "\n",
        "    def __len__(self):\n",
        "        return self.x.shape[0]\n",
        "\n",
        "    def __getitem__(self, index):\n",
        "        imgpath=self.x.iloc[index]\n",
        "        if self.transform:\n",
        "            image=Image.open(imgpath).convert(\"RGB\")\n",
        "            image=self.transform(image)\n",
        "        label_row = self.y.iloc[index, 0:2]\n",
        "        label_tensor = torch.tensor(label_row.values.astype(np.float32))\n",
        "        label_index = torch.argmax(label_tensor).item()\n",
        "\n",
        "        return image,label_index"
      ],
      "metadata": {
        "id": "vIgPzTKicuTB"
      },
      "execution_count": 11,
      "outputs": []
    },
    {
      "cell_type": "code",
      "source": [
        "preprocess = transforms.Compose([\n",
        "    transforms.Resize(256),\n",
        "    transforms.CenterCrop(224),\n",
        "    transforms.ToTensor(),\n",
        "    transforms.Normalize(mean=[0.485, 0.456, 0.406], std=[0.229, 0.224, 0.225]),\n",
        "])\n"
      ],
      "metadata": {
        "id": "A2mv-_wNbExz"
      },
      "execution_count": 12,
      "outputs": []
    },
    {
      "cell_type": "code",
      "source": [
        "l=['washer','nut']\n",
        "testdataset=customdataset(x=df['filename'],y=df[l],transform=preprocess)\n",
        "testloader = DataLoader(testdataset, batch_size=16, shuffle=True)"
      ],
      "metadata": {
        "id": "fbKY68wZcIxg"
      },
      "execution_count": 13,
      "outputs": []
    },
    {
      "cell_type": "code",
      "source": [
        "device = torch.device(\"cuda\" if torch.cuda.is_available() else \"cpu\")"
      ],
      "metadata": {
        "id": "0hkL5WSwd05s"
      },
      "execution_count": 3,
      "outputs": []
    },
    {
      "cell_type": "code",
      "source": [
        "loaded_model = torch.load(\"/content/wtfclassifier.pth\",weights_only=False,map_location=device)"
      ],
      "metadata": {
        "id": "wzAWvCU2b1ax"
      },
      "execution_count": 4,
      "outputs": []
    },
    {
      "cell_type": "code",
      "source": [
        "from sklearn.metrics import confusion_matrix\n",
        "loaded_model.eval()\n",
        "all_preds = []\n",
        "all_labels = []\n",
        "\n",
        "with torch.no_grad():\n",
        "    for inputs, labels in testloader:\n",
        "        inputs, labels = inputs.to(device), labels.to(device)\n",
        "        outputs = loaded_model(inputs)\n",
        "        _, preds = torch.max(outputs, 1)\n",
        "\n",
        "        all_preds.extend(preds.cpu().numpy())\n",
        "        all_labels.extend(labels.cpu().numpy())\n",
        "\n",
        "confmatx=confusion_matrix(all_labels, all_preds, labels=np.arange(2))"
      ],
      "metadata": {
        "id": "wfcCtEVfei6l"
      },
      "execution_count": 17,
      "outputs": []
    },
    {
      "cell_type": "code",
      "source": [
        "plt.figure(figsize=(10, 8))\n",
        "sns.heatmap(confmatx, annot=True, fmt='d')\n",
        "plt.xlabel('Predicted')\n",
        "plt.ylabel('Actual')\n",
        "plt.show()"
      ],
      "metadata": {
        "colab": {
          "base_uri": "https://localhost:8080/",
          "height": 696
        },
        "id": "iABlUBDuhqBu",
        "outputId": "18daac4e-a774-4c8a-a247-3572ed2482dd"
      },
      "execution_count": 18,
      "outputs": [
        {
          "output_type": "display_data",
          "data": {
            "text/plain": [
              "<Figure size 1000x800 with 2 Axes>"
            ],
            "image/png": "[encoded data removed]"
          },
          "metadata": {}
        }
      ]
    },
    {
      "cell_type": "code",
      "source": [
        "metrics = {\n",
        "        'precision': [],\n",
        "        'recall': [],\n",
        "        'f1': [],\n",
        "    }\n",
        "\n",
        "for i in range(confmatx.shape[0]):\n",
        "    TP = confmatx[i, i]\n",
        "    FP = np.sum(confmatx[:, i]) - TP\n",
        "    FN = np.sum(confmatx[i, :]) - TP\n",
        "\n",
        "    precision = TP / (TP + FP + 1e-10)\n",
        "    recall = TP / (TP + FN + 1e-10)\n",
        "    f1 = 2 * (precision * recall) / (precision + recall + 1e-10)\n",
        "\n",
        "    metrics['precision'].append(precision)\n",
        "    metrics['recall'].append(recall)\n",
        "    metrics['f1'].append(f1)\n",
        "\n",
        "for i in metrics:\n",
        "    print(f\"{i}:{np.mean(metrics[i])}\")\n"
      ],
      "metadata": {
        "id": "H1dH9DFBfuBC",
        "colab": {
          "base_uri": "https://localhost:8080/"
        },
        "outputId": "c63cf836-2640-47cf-d514-8ccbe7a2c27c"
      },
      "execution_count": 20,
      "outputs": [
        {
          "output_type": "stream",
          "name": "stdout",
          "text": [
            "precision:0.9999999999947862\n",
            "recall:0.9999999999947862\n",
            "f1:0.9999999999447863\n"
          ]
        }
      ]
    },
    {
      "cell_type": "code",
      "source": [
        "!unzip \"/content/irltest.zip\""
      ],
      "metadata": {
        "colab": {
          "base_uri": "https://localhost:8080/"
        },
        "id": "r6j0xzvit9XW",
        "outputId": "860d6d00-0a13-4387-d853-9e154227fd2e"
      },
      "execution_count": 21,
      "outputs": [
        {
          "output_type": "stream",
          "name": "stdout",
          "text": [
            "Archive:  /content/irltest.zip\n",
            "   creating: irltest/\n",
            "  inflating: irltest/image1.png      \n",
            "  inflating: irltest/image2.png      \n",
            "  inflating: irltest/image3.png      \n",
            "  inflating: irltest/image4.png      \n",
            "  inflating: irltest/image5.png      \n",
            "  inflating: irltest/image6.png      \n"
          ]
        }
      ]
    },
    {
      "cell_type": "code",
      "source": [
        "from PIL import Image, ImageFilter\n",
        "import numpy as np\n",
        "\n",
        "def deblur_image_pil(pil_img, iterations=5):\n",
        "    \"\"\"\n",
        "    PIL-based deblurring using inverse filtering approximation\n",
        "\n",
        "    Args:\n",
        "        pil_img: PIL.Image object\n",
        "        iterations: Number of sharpening passes (default=5)\n",
        "\n",
        "    Returns:\n",
        "        Deblurred PIL Image\n",
        "    \"\"\"\n",
        "    # Convert to numpy array\n",
        "    img_array = np.array(pil_img)\n",
        "\n",
        "    # Simulate a simple inverse filter approach\n",
        "    for _ in range(iterations):\n",
        "        # Edge-preserving sharpening\n",
        "        pil_img = pil_img.filter(ImageFilter.UnsharpMask(\n",
        "            radius=2,\n",
        "            percent=150,\n",
        "            threshold=3\n",
        "        ))\n",
        "\n",
        "        # Alternate with mild noise reduction\n",
        "        pil_img = pil_img.filter(ImageFilter.MedianFilter(size=3))\n",
        "\n",
        "    # Enhanced edge sharpening final pass\n",
        "    return pil_img.filter(ImageFilter.UnsharpMask(\n",
        "        radius=1.5,\n",
        "        percent=200,\n",
        "        threshold=2\n",
        "    ))"
      ],
      "metadata": {
        "id": "_ABxvuYdjySa"
      },
      "execution_count": 6,
      "outputs": []
    },
    {
      "cell_type": "code",
      "source": [
        "import os\n",
        "import cv2\n",
        "\n",
        "aug_transforms = transforms.Compose([\n",
        "            transforms.Resize(256),\n",
        "        transforms.CenterCrop(224),\n",
        "        transforms.ToTensor(),\n",
        "        transforms.Normalize([0.485, 0.456, 0.406], [0.229, 0.224, 0.225])\n",
        "  ])\n",
        "l=['washer','nut']\n",
        "from matplotlib import pyplot as plt\n",
        "loaded_model.eval()\n",
        "for i in os.listdir(\"/content/irltest\"):\n",
        "    with torch.no_grad():\n",
        "      iamg=Image.open(\"/content/irltest/\"+i).convert(\"RGB\")\n",
        "      iamg=deblur_image_pil(iamg, iterations=2)\n",
        "      img=aug_transforms(iamg).unsqueeze(0).to(device)\n",
        "      ouptut=loaded_model(img)\n",
        "      prob=torch.softmax(ouptut,dim=1)\n",
        "      predicted_class = torch.argmax(prob).item()\n",
        "      img=img.squeeze(0).permute(1,2,0).cpu().numpy()\n",
        "      plt.imshow(iamg)\n",
        "      plt.title(f\"Predicted Class: {l[predicted_class]},{prob}\")\n",
        "      plt.show()"
      ],
      "metadata": {
        "colab": {
          "base_uri": "https://localhost:8080/",
          "height": 1000
        },
        "id": "OsuoKUyDuQ22",
        "outputId": "3deb8b8a-652b-45ae-a08a-70e02c44bbdf",
        "collapsed": true
      },
      "execution_count": 13,
      "outputs": [
        {
          "output_type": "display_data",
          "data": {
            "text/plain": [
              "<Figure size 640x480 with 1 Axes>"
            ],
            "image/png": "[encoded data removed]"
          },
          "metadata": {}
        },
        {
          "output_type": "display_data",
          "data": {
            "text/plain": [
              "<Figure size 640x480 with 1 Axes>"
            ],
            "image/png": "[encoded data removed]"
          },
          "metadata": {}
        },
        {
          "output_type": "display_data",
          "data": {
            "text/plain": [
              "<Figure size 640x480 with 1 Axes>"
            ],
            "image/png": "[encoded data removed]"
          },
          "metadata": {}
        },
        {
          "output_type": "display_data",
          "data": {
            "text/plain": [
              "<Figure size 640x480 with 1 Axes>"
            ],
            "image/png": "[encoded data removed]"
          },
          "metadata": {}
        },
        {
          "output_type": "display_data",
          "data": {
            "text/plain": [
              "<Figure size 640x480 with 1 Axes>"
            ],
            "image/png": "[encoded data removed]"
          },
          "metadata": {}
        },
        {
          "output_type": "display_data",
          "data": {
            "text/plain": [
              "<Figure size 640x480 with 1 Axes>"
            ],
            "image/png": "[encoded data removed]"
          },
          "metadata": {}
        }
      ]
    },
    {
      "cell_type": "code",
      "source": [
        "import cv2\n",
        "l=['washer','nut']\n",
        "from matplotlib import pyplot as plt\n",
        "loaded_model.eval()\n",
        "for i in os.listdir(\"/content/irltest\"):\n",
        "    with torch.no_grad():\n",
        "      iamg=cv2.imread(\"/content/irltest/\"+i)\n",
        "      img = cv2.cvtColor(iamg, cv2.COLOR_BGR2RGB)\n",
        "      blurred = cv2.GaussianBlur(img, (0,0), 3)\n",
        "      img = cv2.addWeighted(img, 1.5, blurred, -0.5, 0)\n",
        "\n",
        "      img = cv2.bilateralFilter(img, d=9, sigmaColor=75, sigmaSpace=75)\n",
        "\n",
        "      lab = cv2.cvtColor(img, cv2.COLOR_RGB2LAB)\n",
        "      l, a, b = cv2.split(lab)\n",
        "      l_min, l_max = l.min(), l.max()\n",
        "      l = np.uint8(255 * (l - l_min) / (l_max - l_min))\n",
        "      lab = cv2.merge((l,a,b))\n",
        "      img = cv2.cvtColor(lab, cv2.COLOR_LAB2RGB)\n",
        "\n",
        "      psf = np.ones((5, 5)) / 25  # Simulate motion blur kernel\n",
        "      img = cv2.filter2D(img, -1, psf)\n",
        "      img = cv2.ximgproc.richardsonLucyDeconvolution(\n",
        "          img, psf, iterations=10)\n",
        "\n",
        "      img = Image.fromarray(img)\n",
        "    transform = transforms.Compose([\n",
        "        transforms.Resize(256),\n",
        "        transforms.CenterCrop(224),\n",
        "        transforms.RandomHorizontalFlip(),\n",
        "        transforms.ColorJitter(0.1, 0.1, 0.1),\n",
        "        transforms.ToTensor(),\n",
        "        transforms.Normalize([0.485, 0.456, 0.406], [0.229, 0.224, 0.225])\n",
        "    ])\n",
        "    img=aug_transforms(img)\n",
        "    img = img.unsqueeze(0)\n",
        "    img = img.to(device) # Move input to the same device as the model\n",
        "    ouptut=loaded_model(img)\n",
        "    prob=torch.softmax(ouptut,dim=1)\n",
        "    predicted_class = torch.argmax(prob).item()\n",
        "    plt.imshow(iamg)\n",
        "    plt.title(f\"Predicted Class: {l[predicted_class]},{prob}\")\n",
        "    plt.show()\n"
      ],
      "metadata": {
        "id": "itCbQywSAjxr",
        "outputId": "0efa51a4-6dad-4778-f327-8942726f2db8",
        "colab": {
          "base_uri": "https://localhost:8080/",
          "height": 211
        }
      },
      "execution_count": null,
      "outputs": [
        {
          "output_type": "error",
          "ename": "AttributeError",
          "evalue": "module 'cv2.ximgproc' has no attribute 'richardsonLucyDeconvolution'",
          "traceback": [
            "\u001b[0;31m---------------------------------------------------------------------------\u001b[0m",
            "\u001b[0;31mAttributeError\u001b[0m                            Traceback (most recent call last)",
            "\u001b[0;32m/tmp/ipython-input-49-3659610027.py\u001b[0m in \u001b[0;36m<cell line: 0>\u001b[0;34m()\u001b[0m\n\u001b[1;32m     21\u001b[0m       \u001b[0mpsf\u001b[0m \u001b[0;34m=\u001b[0m \u001b[0mnp\u001b[0m\u001b[0;34m.\u001b[0m\u001b[0mones\u001b[0m\u001b[0;34m(\u001b[0m\u001b[0;34m(\u001b[0m\u001b[0;36m5\u001b[0m\u001b[0;34m,\u001b[0m \u001b[0;36m5\u001b[0m\u001b[0;34m)\u001b[0m\u001b[0;34m)\u001b[0m \u001b[0;34m/\u001b[0m \u001b[0;36m25\u001b[0m  \u001b[0;31m# Simulate motion blur kernel\u001b[0m\u001b[0;34m\u001b[0m\u001b[0;34m\u001b[0m\u001b[0m\n\u001b[1;32m     22\u001b[0m       \u001b[0mimg\u001b[0m \u001b[0;34m=\u001b[0m \u001b[0mcv2\u001b[0m\u001b[0;34m.\u001b[0m\u001b[0mfilter2D\u001b[0m\u001b[0;34m(\u001b[0m\u001b[0mimg\u001b[0m\u001b[0;34m,\u001b[0m \u001b[0;34m-\u001b[0m\u001b[0;36m1\u001b[0m\u001b[0;34m,\u001b[0m \u001b[0mpsf\u001b[0m\u001b[0;34m)\u001b[0m\u001b[0;34m\u001b[0m\u001b[0;34m\u001b[0m\u001b[0m\n\u001b[0;32m---> 23\u001b[0;31m       img = cv2.ximgproc.richardsonLucyDeconvolution(\n\u001b[0m\u001b[1;32m     24\u001b[0m           img, psf, iterations=10)\n\u001b[1;32m     25\u001b[0m \u001b[0;34m\u001b[0m\u001b[0m\n",
            "\u001b[0;31mAttributeError\u001b[0m: module 'cv2.ximgproc' has no attribute 'richardsonLucyDeconvolution'"
          ]
        }
      ]
    }
  ]
}