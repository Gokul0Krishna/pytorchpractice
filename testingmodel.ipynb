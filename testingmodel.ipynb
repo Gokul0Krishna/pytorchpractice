{
  "nbformat": 4,
  "nbformat_minor": 0,
  "metadata": {
    "colab": {
      "provenance": [],
      "authorship_tag": "ABX9TyPVv1efkt1kAd9gDZ7YimeX",
      "include_colab_link": true
    },
    "kernelspec": {
      "name": "python3",
      "display_name": "Python 3"
    },
    "language_info": {
      "name": "python"
    }
  },
  "cells": [
    {
      "cell_type": "markdown",
      "metadata": {
        "id": "view-in-github",
        "colab_type": "text"
      },
      "source": [
        "<a href=\"https://colab.research.google.com/github/Gokul0Krishna/pytorchpractice/blob/master/testingmodel.ipynb\" target=\"_parent\"><img src=\"https://colab.research.google.com/assets/colab-badge.svg\" alt=\"Open In Colab\"/></a>"
      ]
    },
    {
      "cell_type": "code",
      "execution_count": 3,
      "metadata": {
        "colab": {
          "base_uri": "https://localhost:8080/"
        },
        "id": "EWhLVYLoTuM6",
        "outputId": "cd5b9c00-3981-4318-fd94-d9c388e45712"
      },
      "outputs": [
        {
          "output_type": "stream",
          "name": "stdout",
          "text": [
            "Archive:  /content/the precious.zip\n",
            "   creating: the precious/\n",
            "  inflating: the precious/classifier.pth  \n",
            "  inflating: the precious/classifier_state_dict.pth  \n"
          ]
        }
      ],
      "source": [
        "!unzip \"/content/the precious.zip\""
      ]
    },
    {
      "cell_type": "code",
      "source": [
        "!unzip \"/content/fmodeltest.zip\""
      ],
      "metadata": {
        "colab": {
          "base_uri": "https://localhost:8080/"
        },
        "id": "Opza4gBwUE6p",
        "outputId": "3fb226da-4cf4-4961-d76c-e7cbec543ae8"
      },
      "execution_count": 4,
      "outputs": [
        {
          "output_type": "stream",
          "name": "stdout",
          "text": [
            "Archive:  /content/fmodeltest.zip\n",
            "   creating: test/\n",
            "  inflating: test/P6171199_JPG.rf.5f2c7de501bbedda9884c60099ee72f0.jpg  \n",
            "  inflating: test/P6171216_JPG.rf.a064710a27823ae8f08530e8ad651350.jpg  \n",
            "  inflating: test/P6171222_JPG.rf.e6934a90f741c1c5d9c1352ebb619caf.jpg  \n",
            "  inflating: test/P6171226_JPG.rf.d20a1bb2d1e46edd89e8031e2e66bbfe.jpg  \n",
            "  inflating: test/P6171230_JPG.rf.690bf86e09c1569d8f61b1d6be04284f.jpg  \n",
            "  inflating: test/P6171239_JPG.rf.b5e48a8a6e8bcd81ded841a0d242568a.jpg  \n",
            "  inflating: test/P6171248_JPG.rf.63fc65e35fa46ed9d37b367da2feaebe.jpg  \n",
            "  inflating: test/P6171258_JPG.rf.2911f0955a7aec5fa711486c74bebab1.jpg  \n",
            "  inflating: test/P6171263_JPG.rf.d12d03d14c69d7a278f0bfac95369ea2.jpg  \n",
            "  inflating: test/P6171297_JPG.rf.cb4496e6a764fceb265d2829e94db018.jpg  \n",
            "  inflating: test/P6171301_JPG.rf.ed2eec04f64e5e3440771c80ab08f053.jpg  \n",
            "  inflating: test/P6171312_JPG.rf.650fa1ca82dc1d1669befab5860c3006.jpg  \n",
            "  inflating: test/P6171333_JPG.rf.30b10d6d932866b880f463a96cff2327.jpg  \n",
            "  inflating: test/P6171339_JPG.rf.d3a721f8bba5c44c3f9c1a210ed08fdc.jpg  \n",
            "  inflating: test/P6171344_JPG.rf.7224baff90b4d7a733c3930c9df2629f.jpg  \n",
            "  inflating: test/P6171346_JPG.rf.b85dd5f683223aaf52ece205d6a12522.jpg  \n",
            "  inflating: test/P6171353_JPG.rf.739351d214a4c8b22fa27d9cdc48a5ae.jpg  \n",
            "  inflating: test/P6171358_JPG.rf.e6d801f9881fad159fe57cda4009048d.jpg  \n",
            "  inflating: test/P6171392_JPG.rf.9dd20779b9fcd2b3289b5393ac9ba46c.jpg  \n",
            "  inflating: test/P6171397_JPG.rf.af0ad0d11bf90a2a2e196aaf64ea4da6.jpg  \n",
            "  inflating: test/P6171403_JPG.rf.3d8b97019ae5fc7738788cd6df0ebec4.jpg  \n",
            "  inflating: test/P6171407_JPG.rf.e9cf1f9ded6f1bf506e64f17f1fc12e2.jpg  \n",
            "  inflating: test/P6171412_JPG.rf.e6e3e4ff0302185be7a91f72d11946d7.jpg  \n",
            "  inflating: test/P6171425_JPG.rf.531b0eb0cf841220b7f3eccf7731c029.jpg  \n",
            "  inflating: test/P6171447_JPG.rf.1e3609edeb3666bdfcab415cd8f71cc4.jpg  \n",
            "  inflating: test/P6171462_JPG.rf.64db110f3d99d6b756f15ffdbfd030d6.jpg  \n",
            "  inflating: test/P6171464_JPG.rf.3441be149d630c094ddfebf6c9e4ea92.jpg  \n",
            "  inflating: test/P6171481_JPG.rf.5420e6037c34e35c0c07b809fee8155d.jpg  \n",
            "  inflating: test/P6171491_JPG.rf.19e938b88b3425361e23f15ec5bdba12.jpg  \n",
            "  inflating: test/P6171493_JPG.rf.4d1d0e27cf7953769296eb607ab2dba2.jpg  \n",
            "  inflating: test/P6171506_JPG.rf.7de2def1a0a436eee2024138d9626717.jpg  \n",
            "  inflating: test/P6171511_JPG.rf.531a8ab8dde522f045b7cc4af4893a77.jpg  \n",
            "  inflating: test/P6171517_JPG.rf.644bea307bf3945f208a3d7c7a6723fe.jpg  \n",
            "  inflating: test/P6171524_JPG.rf.cca6ab44dfecd6ab5d68168a8c446d00.jpg  \n",
            "  inflating: test/P6171525_JPG.rf.d8c15f4ecb3bfe5aee27ab1513f394d5.jpg  \n",
            "  inflating: test/P6171549_JPG.rf.1e8fe89f1065fe8bebd0f8d44d88d8bc.jpg  \n",
            "  inflating: test/P6171559_JPG.rf.1074bbd96eaf0c929af5dd93c8891813.jpg  \n",
            "  inflating: test/P6171572_JPG.rf.0ace34380c3b481a42cc3caaba969cd8.jpg  \n",
            "  inflating: test/P6171576_JPG.rf.d748999b396f25a03338bda87ba495c0.jpg  \n",
            "  inflating: test/P6171584_JPG.rf.42af6c5d22bc22d17698c4b5c2cf1de3.jpg  \n",
            "  inflating: test/P6171587_JPG.rf.eb88e6d040b9f6f160483911ac951e0e.jpg  \n",
            "  inflating: test/P6171591_JPG.rf.d4f32a6607504dbebe2c40b58873b4c3.jpg  \n",
            "  inflating: test/P6171618_JPG.rf.ef7049ba68826addc52d946d0fc28100.jpg  \n",
            "  inflating: test/P6171640_JPG.rf.dba50a4b7fe05aa0ca09df437a2edebc.jpg  \n",
            "  inflating: test/P6171652_JPG.rf.d370c6314449dfeb01c9953bf5c91963.jpg  \n",
            "  inflating: test/P6171655_JPG.rf.4fb52f5ea4403f2b272ffa0281a33fa1.jpg  \n",
            "  inflating: test/P6171657_JPG.rf.bcf26c6d64c9a8ae7a8e4c544e1c96cf.jpg  \n",
            "  inflating: test/P6181722_JPG.rf.f21304384e6391874098137429bbdd32.jpg  \n",
            "  inflating: test/P6181733_JPG.rf.d2f11b5868f126951118fe41631efab6.jpg  \n",
            "  inflating: test/P6181740_JPG.rf.d70c93054b02a18988840751ffe0dc77.jpg  \n",
            "  inflating: test/P6181747_JPG.rf.2a1e2c89b2ddaacaefcc4b2605f43a7c.jpg  \n",
            "  inflating: test/_classes.csv       \n"
          ]
        }
      ]
    },
    {
      "cell_type": "code",
      "source": [
        "import pandas as pd\n",
        "df=pd.read_csv(\"/content/test/_classes.csv\")"
      ],
      "metadata": {
        "id": "yn1IUNoEUYVu"
      },
      "execution_count": 98,
      "outputs": []
    },
    {
      "cell_type": "code",
      "source": [
        "df.head()\n",
        "l=[\"Ecrou NOK\"\t,\"Ecrou Ok\"\t,\"Rondelle NOK\"\t,\"Rondelle OK\"\t,\"Vis NOK\"\t,\"Vis OK\"]\n",
        "df.set_index('filename',inplace=True)\n",
        "res =  df[df==1].stack().reset_index().drop(0, axis=1)\n",
        "res.head()"
      ],
      "metadata": {
        "colab": {
          "base_uri": "https://localhost:8080/",
          "height": 206
        },
        "id": "ERmz3HYmUmxR",
        "outputId": "9fc13671-cef7-44a9-c68b-f92f74144e56"
      },
      "execution_count": 99,
      "outputs": [
        {
          "output_type": "execute_result",
          "data": {
            "text/plain": [
              "                                            filename       level_1\n",
              "0  P6171491_JPG.rf.19e938b88b3425361e23f15ec5bdba...     Ecrou NOK\n",
              "1  P6171353_JPG.rf.739351d214a4c8b22fa27d9cdc48a5...  Rondelle NOK\n",
              "2  P6171239_JPG.rf.b5e48a8a6e8bcd81ded841a0d24256...   Rondelle OK\n",
              "3  P6181722_JPG.rf.f21304384e6391874098137429bbdd...   Rondelle OK\n",
              "4  P6171517_JPG.rf.644bea307bf3945f208a3d7c7a6723...      Ecrou Ok"
            ],
            "text/html": [
              "\n",
              "  <div id=\"df-dd6282e6-a7b0-49e0-a249-4683e387b6be\" class=\"colab-df-container\">\n",
              "    <div>\n",
              "<style scoped>\n",
              "    .dataframe tbody tr th:only-of-type {\n",
              "        vertical-align: middle;\n",
              "    }\n",
              "\n",
              "    .dataframe tbody tr th {\n",
              "        vertical-align: top;\n",
              "    }\n",
              "\n",
              "    .dataframe thead th {\n",
              "        text-align: right;\n",
              "    }\n",
              "</style>\n",
              "<table border=\"1\" class=\"dataframe\">\n",
              "  <thead>\n",
              "    <tr style=\"text-align: right;\">\n",
              "      <th></th>\n",
              "      <th>filename</th>\n",
              "      <th>level_1</th>\n",
              "    </tr>\n",
              "  </thead>\n",
              "  <tbody>\n",
              "    <tr>\n",
              "      <th>0</th>\n",
              "      <td>P6171491_JPG.rf.19e938b88b3425361e23f15ec5bdba...</td>\n",
              "      <td>Ecrou NOK</td>\n",
              "    </tr>\n",
              "    <tr>\n",
              "      <th>1</th>\n",
              "      <td>P6171353_JPG.rf.739351d214a4c8b22fa27d9cdc48a5...</td>\n",
              "      <td>Rondelle NOK</td>\n",
              "    </tr>\n",
              "    <tr>\n",
              "      <th>2</th>\n",
              "      <td>P6171239_JPG.rf.b5e48a8a6e8bcd81ded841a0d24256...</td>\n",
              "      <td>Rondelle OK</td>\n",
              "    </tr>\n",
              "    <tr>\n",
              "      <th>3</th>\n",
              "      <td>P6181722_JPG.rf.f21304384e6391874098137429bbdd...</td>\n",
              "      <td>Rondelle OK</td>\n",
              "    </tr>\n",
              "    <tr>\n",
              "      <th>4</th>\n",
              "      <td>P6171517_JPG.rf.644bea307bf3945f208a3d7c7a6723...</td>\n",
              "      <td>Ecrou Ok</td>\n",
              "    </tr>\n",
              "  </tbody>\n",
              "</table>\n",
              "</div>\n",
              "    <div class=\"colab-df-buttons\">\n",
              "\n",
              "  <div class=\"colab-df-container\">\n",
              "    <button class=\"colab-df-convert\" onclick=\"convertToInteractive('df-dd6282e6-a7b0-49e0-a249-4683e387b6be')\"\n",
              "            title=\"Convert this dataframe to an interactive table.\"\n",
              "            style=\"display:none;\">\n",
              "\n",
              "  <svg xmlns=\"http://www.w3.org/2000/svg\" height=\"24px\" viewBox=\"0 -960 960 960\">\n",
              "    <path d=\"M120-120v-720h720v720H120Zm60-500h600v-160H180v160Zm220 220h160v-160H400v160Zm0 220h160v-160H400v160ZM180-400h160v-160H180v160Zm440 0h160v-160H620v160ZM180-180h160v-160H180v160Zm440 0h160v-160H620v160Z\"/>\n",
              "  </svg>\n",
              "    </button>\n",
              "\n",
              "  <style>\n",
              "    .colab-df-container {\n",
              "      display:flex;\n",
              "      gap: 12px;\n",
              "    }\n",
              "\n",
              "    .colab-df-convert {\n",
              "      background-color: #E8F0FE;\n",
              "      border: none;\n",
              "      border-radius: 50%;\n",
              "      cursor: pointer;\n",
              "      display: none;\n",
              "      fill: #1967D2;\n",
              "      height: 32px;\n",
              "      padding: 0 0 0 0;\n",
              "      width: 32px;\n",
              "    }\n",
              "\n",
              "    .colab-df-convert:hover {\n",
              "      background-color: #E2EBFA;\n",
              "      box-shadow: 0px 1px 2px rgba(60, 64, 67, 0.3), 0px 1px 3px 1px rgba(60, 64, 67, 0.15);\n",
              "      fill: #174EA6;\n",
              "    }\n",
              "\n",
              "    .colab-df-buttons div {\n",
              "      margin-bottom: 4px;\n",
              "    }\n",
              "\n",
              "    [theme=dark] .colab-df-convert {\n",
              "      background-color: #3B4455;\n",
              "      fill: #D2E3FC;\n",
              "    }\n",
              "\n",
              "    [theme=dark] .colab-df-convert:hover {\n",
              "      background-color: #434B5C;\n",
              "      box-shadow: 0px 1px 3px 1px rgba(0, 0, 0, 0.15);\n",
              "      filter: drop-shadow(0px 1px 2px rgba(0, 0, 0, 0.3));\n",
              "      fill: #FFFFFF;\n",
              "    }\n",
              "  </style>\n",
              "\n",
              "    <script>\n",
              "      const buttonEl =\n",
              "        document.querySelector('#df-dd6282e6-a7b0-49e0-a249-4683e387b6be button.colab-df-convert');\n",
              "      buttonEl.style.display =\n",
              "        google.colab.kernel.accessAllowed ? 'block' : 'none';\n",
              "\n",
              "      async function convertToInteractive(key) {\n",
              "        const element = document.querySelector('#df-dd6282e6-a7b0-49e0-a249-4683e387b6be');\n",
              "        const dataTable =\n",
              "          await google.colab.kernel.invokeFunction('convertToInteractive',\n",
              "                                                    [key], {});\n",
              "        if (!dataTable) return;\n",
              "\n",
              "        const docLinkHtml = 'Like what you see? Visit the ' +\n",
              "          '<a target=\"_blank\" href=https://colab.research.google.com/notebooks/data_table.ipynb>data table notebook</a>'\n",
              "          + ' to learn more about interactive tables.';\n",
              "        element.innerHTML = '';\n",
              "        dataTable['output_type'] = 'display_data';\n",
              "        await google.colab.output.renderOutput(dataTable, element);\n",
              "        const docLink = document.createElement('div');\n",
              "        docLink.innerHTML = docLinkHtml;\n",
              "        element.appendChild(docLink);\n",
              "      }\n",
              "    </script>\n",
              "  </div>\n",
              "\n",
              "\n",
              "    <div id=\"df-27cda0d4-454a-4b91-a023-b9a3eb6595b5\">\n",
              "      <button class=\"colab-df-quickchart\" onclick=\"quickchart('df-27cda0d4-454a-4b91-a023-b9a3eb6595b5')\"\n",
              "                title=\"Suggest charts\"\n",
              "                style=\"display:none;\">\n",
              "\n",
              "<svg xmlns=\"http://www.w3.org/2000/svg\" height=\"24px\"viewBox=\"0 0 24 24\"\n",
              "     width=\"24px\">\n",
              "    <g>\n",
              "        <path d=\"M19 3H5c-1.1 0-2 .9-2 2v14c0 1.1.9 2 2 2h14c1.1 0 2-.9 2-2V5c0-1.1-.9-2-2-2zM9 17H7v-7h2v7zm4 0h-2V7h2v10zm4 0h-2v-4h2v4z\"/>\n",
              "    </g>\n",
              "</svg>\n",
              "      </button>\n",
              "\n",
              "<style>\n",
              "  .colab-df-quickchart {\n",
              "      --bg-color: #E8F0FE;\n",
              "      --fill-color: #1967D2;\n",
              "      --hover-bg-color: #E2EBFA;\n",
              "      --hover-fill-color: #174EA6;\n",
              "      --disabled-fill-color: #AAA;\n",
              "      --disabled-bg-color: #DDD;\n",
              "  }\n",
              "\n",
              "  [theme=dark] .colab-df-quickchart {\n",
              "      --bg-color: #3B4455;\n",
              "      --fill-color: #D2E3FC;\n",
              "      --hover-bg-color: #434B5C;\n",
              "      --hover-fill-color: #FFFFFF;\n",
              "      --disabled-bg-color: #3B4455;\n",
              "      --disabled-fill-color: #666;\n",
              "  }\n",
              "\n",
              "  .colab-df-quickchart {\n",
              "    background-color: var(--bg-color);\n",
              "    border: none;\n",
              "    border-radius: 50%;\n",
              "    cursor: pointer;\n",
              "    display: none;\n",
              "    fill: var(--fill-color);\n",
              "    height: 32px;\n",
              "    padding: 0;\n",
              "    width: 32px;\n",
              "  }\n",
              "\n",
              "  .colab-df-quickchart:hover {\n",
              "    background-color: var(--hover-bg-color);\n",
              "    box-shadow: 0 1px 2px rgba(60, 64, 67, 0.3), 0 1px 3px 1px rgba(60, 64, 67, 0.15);\n",
              "    fill: var(--button-hover-fill-color);\n",
              "  }\n",
              "\n",
              "  .colab-df-quickchart-complete:disabled,\n",
              "  .colab-df-quickchart-complete:disabled:hover {\n",
              "    background-color: var(--disabled-bg-color);\n",
              "    fill: var(--disabled-fill-color);\n",
              "    box-shadow: none;\n",
              "  }\n",
              "\n",
              "  .colab-df-spinner {\n",
              "    border: 2px solid var(--fill-color);\n",
              "    border-color: transparent;\n",
              "    border-bottom-color: var(--fill-color);\n",
              "    animation:\n",
              "      spin 1s steps(1) infinite;\n",
              "  }\n",
              "\n",
              "  @keyframes spin {\n",
              "    0% {\n",
              "      border-color: transparent;\n",
              "      border-bottom-color: var(--fill-color);\n",
              "      border-left-color: var(--fill-color);\n",
              "    }\n",
              "    20% {\n",
              "      border-color: transparent;\n",
              "      border-left-color: var(--fill-color);\n",
              "      border-top-color: var(--fill-color);\n",
              "    }\n",
              "    30% {\n",
              "      border-color: transparent;\n",
              "      border-left-color: var(--fill-color);\n",
              "      border-top-color: var(--fill-color);\n",
              "      border-right-color: var(--fill-color);\n",
              "    }\n",
              "    40% {\n",
              "      border-color: transparent;\n",
              "      border-right-color: var(--fill-color);\n",
              "      border-top-color: var(--fill-color);\n",
              "    }\n",
              "    60% {\n",
              "      border-color: transparent;\n",
              "      border-right-color: var(--fill-color);\n",
              "    }\n",
              "    80% {\n",
              "      border-color: transparent;\n",
              "      border-right-color: var(--fill-color);\n",
              "      border-bottom-color: var(--fill-color);\n",
              "    }\n",
              "    90% {\n",
              "      border-color: transparent;\n",
              "      border-bottom-color: var(--fill-color);\n",
              "    }\n",
              "  }\n",
              "</style>\n",
              "\n",
              "      <script>\n",
              "        async function quickchart(key) {\n",
              "          const quickchartButtonEl =\n",
              "            document.querySelector('#' + key + ' button');\n",
              "          quickchartButtonEl.disabled = true;  // To prevent multiple clicks.\n",
              "          quickchartButtonEl.classList.add('colab-df-spinner');\n",
              "          try {\n",
              "            const charts = await google.colab.kernel.invokeFunction(\n",
              "                'suggestCharts', [key], {});\n",
              "          } catch (error) {\n",
              "            console.error('Error during call to suggestCharts:', error);\n",
              "          }\n",
              "          quickchartButtonEl.classList.remove('colab-df-spinner');\n",
              "          quickchartButtonEl.classList.add('colab-df-quickchart-complete');\n",
              "        }\n",
              "        (() => {\n",
              "          let quickchartButtonEl =\n",
              "            document.querySelector('#df-27cda0d4-454a-4b91-a023-b9a3eb6595b5 button');\n",
              "          quickchartButtonEl.style.display =\n",
              "            google.colab.kernel.accessAllowed ? 'block' : 'none';\n",
              "        })();\n",
              "      </script>\n",
              "    </div>\n",
              "\n",
              "    </div>\n",
              "  </div>\n"
            ],
            "application/vnd.google.colaboratory.intrinsic+json": {
              "type": "dataframe",
              "variable_name": "res",
              "summary": "{\n  \"name\": \"res\",\n  \"rows\": 51,\n  \"fields\": [\n    {\n      \"column\": \"filename\",\n      \"properties\": {\n        \"dtype\": \"string\",\n        \"num_unique_values\": 51,\n        \"samples\": [\n          \"P6171640_JPG.rf.dba50a4b7fe05aa0ca09df437a2edebc.jpg\",\n          \"P6171525_JPG.rf.d8c15f4ecb3bfe5aee27ab1513f394d5.jpg\",\n          \"P6171312_JPG.rf.650fa1ca82dc1d1669befab5860c3006.jpg\"\n        ],\n        \"semantic_type\": \"\",\n        \"description\": \"\"\n      }\n    },\n    {\n      \"column\": \"level_1\",\n      \"properties\": {\n        \"dtype\": \"category\",\n        \"num_unique_values\": 6,\n        \"samples\": [\n          \"Ecrou NOK\",\n          \"Rondelle NOK\",\n          \"Vis NOK\"\n        ],\n        \"semantic_type\": \"\",\n        \"description\": \"\"\n      }\n    }\n  ]\n}"
            }
          },
          "metadata": {},
          "execution_count": 99
        }
      ]
    },
    {
      "cell_type": "code",
      "source": [
        "for i in range(len(res)-1, -1, -1):\n",
        "  if res.iloc[i,1]==\"Vis NOK\" or \tres.iloc[i,1]==\"Vis OK\":\n",
        "    res.drop(i,inplace=True)"
      ],
      "metadata": {
        "id": "vun6Sg_gVvVG"
      },
      "execution_count": 100,
      "outputs": []
    },
    {
      "cell_type": "code",
      "source": [
        "res=res.replace('Ecrou NOK',\"nut\")\n",
        "res=res.replace('Ecrou Ok',\"nut\")\n",
        "\n",
        "res=res.replace('Rondelle NOK',\"washer\")\n",
        "res=res.replace('Rondelle OK',\"washer\")"
      ],
      "metadata": {
        "id": "ttwWiHTrYt78"
      },
      "execution_count": 101,
      "outputs": []
    },
    {
      "cell_type": "code",
      "source": [
        "res['level_1'].unique()"
      ],
      "metadata": {
        "colab": {
          "base_uri": "https://localhost:8080/"
        },
        "id": "iBHQv7I8Z2_e",
        "outputId": "7e21a5fd-b8eb-4ecf-e817-14e59a7b67f8"
      },
      "execution_count": 102,
      "outputs": [
        {
          "output_type": "execute_result",
          "data": {
            "text/plain": [
              "array(['nut', 'washer'], dtype=object)"
            ]
          },
          "metadata": {},
          "execution_count": 102
        }
      ]
    },
    {
      "cell_type": "code",
      "source": [
        "for i in res['filename']:\n",
        "  res=res.replace(i,\"/content/test/\"+i)"
      ],
      "metadata": {
        "id": "KMtTAfTZaj4_"
      },
      "execution_count": 103,
      "outputs": []
    },
    {
      "cell_type": "code",
      "source": [
        "res=pd.get_dummies(res,columns=['level_1'],dtype=float)\n",
        "res.columns = res.columns.str.replace(\"level_1_\", \"\")\n",
        "res.head()"
      ],
      "metadata": {
        "colab": {
          "base_uri": "https://localhost:8080/",
          "height": 206
        },
        "id": "o5xAsZnIcwMZ",
        "outputId": "175458d3-b3df-4bb9-bf89-25737222ef63"
      },
      "execution_count": 104,
      "outputs": [
        {
          "output_type": "execute_result",
          "data": {
            "text/plain": [
              "                                            filename  nut  washer\n",
              "0  /content/test/P6171491_JPG.rf.19e938b88b342536...  1.0     0.0\n",
              "1  /content/test/P6171353_JPG.rf.739351d214a4c8b2...  0.0     1.0\n",
              "2  /content/test/P6171239_JPG.rf.b5e48a8a6e8bcd81...  0.0     1.0\n",
              "3  /content/test/P6181722_JPG.rf.f21304384e639187...  0.0     1.0\n",
              "4  /content/test/P6171517_JPG.rf.644bea307bf3945f...  1.0     0.0"
            ],
            "text/html": [
              "\n",
              "  <div id=\"df-81eb4614-dc41-44dd-a666-323ad26bfdb8\" class=\"colab-df-container\">\n",
              "    <div>\n",
              "<style scoped>\n",
              "    .dataframe tbody tr th:only-of-type {\n",
              "        vertical-align: middle;\n",
              "    }\n",
              "\n",
              "    .dataframe tbody tr th {\n",
              "        vertical-align: top;\n",
              "    }\n",
              "\n",
              "    .dataframe thead th {\n",
              "        text-align: right;\n",
              "    }\n",
              "</style>\n",
              "<table border=\"1\" class=\"dataframe\">\n",
              "  <thead>\n",
              "    <tr style=\"text-align: right;\">\n",
              "      <th></th>\n",
              "      <th>filename</th>\n",
              "      <th>nut</th>\n",
              "      <th>washer</th>\n",
              "    </tr>\n",
              "  </thead>\n",
              "  <tbody>\n",
              "    <tr>\n",
              "      <th>0</th>\n",
              "      <td>/content/test/P6171491_JPG.rf.19e938b88b342536...</td>\n",
              "      <td>1.0</td>\n",
              "      <td>0.0</td>\n",
              "    </tr>\n",
              "    <tr>\n",
              "      <th>1</th>\n",
              "      <td>/content/test/P6171353_JPG.rf.739351d214a4c8b2...</td>\n",
              "      <td>0.0</td>\n",
              "      <td>1.0</td>\n",
              "    </tr>\n",
              "    <tr>\n",
              "      <th>2</th>\n",
              "      <td>/content/test/P6171239_JPG.rf.b5e48a8a6e8bcd81...</td>\n",
              "      <td>0.0</td>\n",
              "      <td>1.0</td>\n",
              "    </tr>\n",
              "    <tr>\n",
              "      <th>3</th>\n",
              "      <td>/content/test/P6181722_JPG.rf.f21304384e639187...</td>\n",
              "      <td>0.0</td>\n",
              "      <td>1.0</td>\n",
              "    </tr>\n",
              "    <tr>\n",
              "      <th>4</th>\n",
              "      <td>/content/test/P6171517_JPG.rf.644bea307bf3945f...</td>\n",
              "      <td>1.0</td>\n",
              "      <td>0.0</td>\n",
              "    </tr>\n",
              "  </tbody>\n",
              "</table>\n",
              "</div>\n",
              "    <div class=\"colab-df-buttons\">\n",
              "\n",
              "  <div class=\"colab-df-container\">\n",
              "    <button class=\"colab-df-convert\" onclick=\"convertToInteractive('df-81eb4614-dc41-44dd-a666-323ad26bfdb8')\"\n",
              "            title=\"Convert this dataframe to an interactive table.\"\n",
              "            style=\"display:none;\">\n",
              "\n",
              "  <svg xmlns=\"http://www.w3.org/2000/svg\" height=\"24px\" viewBox=\"0 -960 960 960\">\n",
              "    <path d=\"M120-120v-720h720v720H120Zm60-500h600v-160H180v160Zm220 220h160v-160H400v160Zm0 220h160v-160H400v160ZM180-400h160v-160H180v160Zm440 0h160v-160H620v160ZM180-180h160v-160H180v160Zm440 0h160v-160H620v160Z\"/>\n",
              "  </svg>\n",
              "    </button>\n",
              "\n",
              "  <style>\n",
              "    .colab-df-container {\n",
              "      display:flex;\n",
              "      gap: 12px;\n",
              "    }\n",
              "\n",
              "    .colab-df-convert {\n",
              "      background-color: #E8F0FE;\n",
              "      border: none;\n",
              "      border-radius: 50%;\n",
              "      cursor: pointer;\n",
              "      display: none;\n",
              "      fill: #1967D2;\n",
              "      height: 32px;\n",
              "      padding: 0 0 0 0;\n",
              "      width: 32px;\n",
              "    }\n",
              "\n",
              "    .colab-df-convert:hover {\n",
              "      background-color: #E2EBFA;\n",
              "      box-shadow: 0px 1px 2px rgba(60, 64, 67, 0.3), 0px 1px 3px 1px rgba(60, 64, 67, 0.15);\n",
              "      fill: #174EA6;\n",
              "    }\n",
              "\n",
              "    .colab-df-buttons div {\n",
              "      margin-bottom: 4px;\n",
              "    }\n",
              "\n",
              "    [theme=dark] .colab-df-convert {\n",
              "      background-color: #3B4455;\n",
              "      fill: #D2E3FC;\n",
              "    }\n",
              "\n",
              "    [theme=dark] .colab-df-convert:hover {\n",
              "      background-color: #434B5C;\n",
              "      box-shadow: 0px 1px 3px 1px rgba(0, 0, 0, 0.15);\n",
              "      filter: drop-shadow(0px 1px 2px rgba(0, 0, 0, 0.3));\n",
              "      fill: #FFFFFF;\n",
              "    }\n",
              "  </style>\n",
              "\n",
              "    <script>\n",
              "      const buttonEl =\n",
              "        document.querySelector('#df-81eb4614-dc41-44dd-a666-323ad26bfdb8 button.colab-df-convert');\n",
              "      buttonEl.style.display =\n",
              "        google.colab.kernel.accessAllowed ? 'block' : 'none';\n",
              "\n",
              "      async function convertToInteractive(key) {\n",
              "        const element = document.querySelector('#df-81eb4614-dc41-44dd-a666-323ad26bfdb8');\n",
              "        const dataTable =\n",
              "          await google.colab.kernel.invokeFunction('convertToInteractive',\n",
              "                                                    [key], {});\n",
              "        if (!dataTable) return;\n",
              "\n",
              "        const docLinkHtml = 'Like what you see? Visit the ' +\n",
              "          '<a target=\"_blank\" href=https://colab.research.google.com/notebooks/data_table.ipynb>data table notebook</a>'\n",
              "          + ' to learn more about interactive tables.';\n",
              "        element.innerHTML = '';\n",
              "        dataTable['output_type'] = 'display_data';\n",
              "        await google.colab.output.renderOutput(dataTable, element);\n",
              "        const docLink = document.createElement('div');\n",
              "        docLink.innerHTML = docLinkHtml;\n",
              "        element.appendChild(docLink);\n",
              "      }\n",
              "    </script>\n",
              "  </div>\n",
              "\n",
              "\n",
              "    <div id=\"df-020bde93-bba8-4c68-a514-abc8aa57b58a\">\n",
              "      <button class=\"colab-df-quickchart\" onclick=\"quickchart('df-020bde93-bba8-4c68-a514-abc8aa57b58a')\"\n",
              "                title=\"Suggest charts\"\n",
              "                style=\"display:none;\">\n",
              "\n",
              "<svg xmlns=\"http://www.w3.org/2000/svg\" height=\"24px\"viewBox=\"0 0 24 24\"\n",
              "     width=\"24px\">\n",
              "    <g>\n",
              "        <path d=\"M19 3H5c-1.1 0-2 .9-2 2v14c0 1.1.9 2 2 2h14c1.1 0 2-.9 2-2V5c0-1.1-.9-2-2-2zM9 17H7v-7h2v7zm4 0h-2V7h2v10zm4 0h-2v-4h2v4z\"/>\n",
              "    </g>\n",
              "</svg>\n",
              "      </button>\n",
              "\n",
              "<style>\n",
              "  .colab-df-quickchart {\n",
              "      --bg-color: #E8F0FE;\n",
              "      --fill-color: #1967D2;\n",
              "      --hover-bg-color: #E2EBFA;\n",
              "      --hover-fill-color: #174EA6;\n",
              "      --disabled-fill-color: #AAA;\n",
              "      --disabled-bg-color: #DDD;\n",
              "  }\n",
              "\n",
              "  [theme=dark] .colab-df-quickchart {\n",
              "      --bg-color: #3B4455;\n",
              "      --fill-color: #D2E3FC;\n",
              "      --hover-bg-color: #434B5C;\n",
              "      --hover-fill-color: #FFFFFF;\n",
              "      --disabled-bg-color: #3B4455;\n",
              "      --disabled-fill-color: #666;\n",
              "  }\n",
              "\n",
              "  .colab-df-quickchart {\n",
              "    background-color: var(--bg-color);\n",
              "    border: none;\n",
              "    border-radius: 50%;\n",
              "    cursor: pointer;\n",
              "    display: none;\n",
              "    fill: var(--fill-color);\n",
              "    height: 32px;\n",
              "    padding: 0;\n",
              "    width: 32px;\n",
              "  }\n",
              "\n",
              "  .colab-df-quickchart:hover {\n",
              "    background-color: var(--hover-bg-color);\n",
              "    box-shadow: 0 1px 2px rgba(60, 64, 67, 0.3), 0 1px 3px 1px rgba(60, 64, 67, 0.15);\n",
              "    fill: var(--button-hover-fill-color);\n",
              "  }\n",
              "\n",
              "  .colab-df-quickchart-complete:disabled,\n",
              "  .colab-df-quickchart-complete:disabled:hover {\n",
              "    background-color: var(--disabled-bg-color);\n",
              "    fill: var(--disabled-fill-color);\n",
              "    box-shadow: none;\n",
              "  }\n",
              "\n",
              "  .colab-df-spinner {\n",
              "    border: 2px solid var(--fill-color);\n",
              "    border-color: transparent;\n",
              "    border-bottom-color: var(--fill-color);\n",
              "    animation:\n",
              "      spin 1s steps(1) infinite;\n",
              "  }\n",
              "\n",
              "  @keyframes spin {\n",
              "    0% {\n",
              "      border-color: transparent;\n",
              "      border-bottom-color: var(--fill-color);\n",
              "      border-left-color: var(--fill-color);\n",
              "    }\n",
              "    20% {\n",
              "      border-color: transparent;\n",
              "      border-left-color: var(--fill-color);\n",
              "      border-top-color: var(--fill-color);\n",
              "    }\n",
              "    30% {\n",
              "      border-color: transparent;\n",
              "      border-left-color: var(--fill-color);\n",
              "      border-top-color: var(--fill-color);\n",
              "      border-right-color: var(--fill-color);\n",
              "    }\n",
              "    40% {\n",
              "      border-color: transparent;\n",
              "      border-right-color: var(--fill-color);\n",
              "      border-top-color: var(--fill-color);\n",
              "    }\n",
              "    60% {\n",
              "      border-color: transparent;\n",
              "      border-right-color: var(--fill-color);\n",
              "    }\n",
              "    80% {\n",
              "      border-color: transparent;\n",
              "      border-right-color: var(--fill-color);\n",
              "      border-bottom-color: var(--fill-color);\n",
              "    }\n",
              "    90% {\n",
              "      border-color: transparent;\n",
              "      border-bottom-color: var(--fill-color);\n",
              "    }\n",
              "  }\n",
              "</style>\n",
              "\n",
              "      <script>\n",
              "        async function quickchart(key) {\n",
              "          const quickchartButtonEl =\n",
              "            document.querySelector('#' + key + ' button');\n",
              "          quickchartButtonEl.disabled = true;  // To prevent multiple clicks.\n",
              "          quickchartButtonEl.classList.add('colab-df-spinner');\n",
              "          try {\n",
              "            const charts = await google.colab.kernel.invokeFunction(\n",
              "                'suggestCharts', [key], {});\n",
              "          } catch (error) {\n",
              "            console.error('Error during call to suggestCharts:', error);\n",
              "          }\n",
              "          quickchartButtonEl.classList.remove('colab-df-spinner');\n",
              "          quickchartButtonEl.classList.add('colab-df-quickchart-complete');\n",
              "        }\n",
              "        (() => {\n",
              "          let quickchartButtonEl =\n",
              "            document.querySelector('#df-020bde93-bba8-4c68-a514-abc8aa57b58a button');\n",
              "          quickchartButtonEl.style.display =\n",
              "            google.colab.kernel.accessAllowed ? 'block' : 'none';\n",
              "        })();\n",
              "      </script>\n",
              "    </div>\n",
              "\n",
              "    </div>\n",
              "  </div>\n"
            ],
            "application/vnd.google.colaboratory.intrinsic+json": {
              "type": "dataframe",
              "variable_name": "res",
              "summary": "{\n  \"name\": \"res\",\n  \"rows\": 39,\n  \"fields\": [\n    {\n      \"column\": \"filename\",\n      \"properties\": {\n        \"dtype\": \"string\",\n        \"num_unique_values\": 39,\n        \"samples\": [\n          \"/content/test/P6171462_JPG.rf.64db110f3d99d6b756f15ffdbfd030d6.jpg\",\n          \"/content/test/P6171346_JPG.rf.b85dd5f683223aaf52ece205d6a12522.jpg\",\n          \"/content/test/P6171517_JPG.rf.644bea307bf3945f208a3d7c7a6723fe.jpg\"\n        ],\n        \"semantic_type\": \"\",\n        \"description\": \"\"\n      }\n    },\n    {\n      \"column\": \"nut\",\n      \"properties\": {\n        \"dtype\": \"number\",\n        \"std\": 0.5023561221029409,\n        \"min\": 0.0,\n        \"max\": 1.0,\n        \"num_unique_values\": 2,\n        \"samples\": [\n          0.0,\n          1.0\n        ],\n        \"semantic_type\": \"\",\n        \"description\": \"\"\n      }\n    },\n    {\n      \"column\": \"washer\",\n      \"properties\": {\n        \"dtype\": \"number\",\n        \"std\": 0.5023561221029409,\n        \"min\": 0.0,\n        \"max\": 1.0,\n        \"num_unique_values\": 2,\n        \"samples\": [\n          1.0,\n          0.0\n        ],\n        \"semantic_type\": \"\",\n        \"description\": \"\"\n      }\n    }\n  ]\n}"
            }
          },
          "metadata": {},
          "execution_count": 104
        }
      ]
    },
    {
      "cell_type": "code",
      "source": [
        "df=res.copy()"
      ],
      "metadata": {
        "id": "jKKMwCrDayCw"
      },
      "execution_count": 105,
      "outputs": []
    },
    {
      "cell_type": "code",
      "source": [
        "from PIL import Image\n",
        "import copy\n",
        "import matplotlib.pyplot as plt\n",
        "import torch\n",
        "import torch.nn as nn\n",
        "from sklearn.model_selection import train_test_split\n",
        "from torchvision import models,transforms\n",
        "from torch.utils.data import DataLoader,Dataset\n",
        "import numpy as np\n",
        "import seaborn as sns"
      ],
      "metadata": {
        "id": "f0iTDZhpbXku"
      },
      "execution_count": 106,
      "outputs": []
    },
    {
      "cell_type": "code",
      "source": [
        "class customdataset(Dataset):\n",
        "    def __init__(self,x,y,transform=None):\n",
        "        self.x=x\n",
        "        self.y=y\n",
        "        self.transform=transform\n",
        "\n",
        "    def __len__(self):\n",
        "        return self.x.shape[0]\n",
        "\n",
        "    def __getitem__(self, index):\n",
        "        imgpath=self.x.iloc[index]\n",
        "        if self.transform:\n",
        "            image=Image.open(imgpath).convert(\"RGB\")\n",
        "            image=self.transform(image)\n",
        "        label_row = self.y.iloc[index, 0:2]\n",
        "        label_tensor = torch.tensor(label_row.values.astype(np.float32))\n",
        "        label_index = torch.argmax(label_tensor).item()\n",
        "\n",
        "        return image,label_index"
      ],
      "metadata": {
        "id": "vIgPzTKicuTB"
      },
      "execution_count": 107,
      "outputs": []
    },
    {
      "cell_type": "code",
      "source": [
        "preprocess = transforms.Compose([\n",
        "    transforms.Resize(256),\n",
        "    transforms.CenterCrop(224),\n",
        "    transforms.ToTensor(),\n",
        "    transforms.Normalize(mean=[0.485, 0.456, 0.406], std=[0.229, 0.224, 0.225]),\n",
        "])\n"
      ],
      "metadata": {
        "id": "A2mv-_wNbExz"
      },
      "execution_count": 108,
      "outputs": []
    },
    {
      "cell_type": "code",
      "source": [
        "l=['washer','nut']\n",
        "testdataset=customdataset(x=df['filename'],y=df[l],transform=preprocess)\n",
        "testloader = DataLoader(testdataset, batch_size=16, shuffle=True)"
      ],
      "metadata": {
        "id": "fbKY68wZcIxg"
      },
      "execution_count": 109,
      "outputs": []
    },
    {
      "cell_type": "code",
      "source": [
        "device = torch.device(\"cuda\" if torch.cuda.is_available() else \"cpu\")"
      ],
      "metadata": {
        "id": "0hkL5WSwd05s"
      },
      "execution_count": 110,
      "outputs": []
    },
    {
      "cell_type": "code",
      "source": [
        "loaded_model = torch.load(\"/content/the precious/classifier.pth\",weights_only=False,map_location=device)"
      ],
      "metadata": {
        "id": "wzAWvCU2b1ax"
      },
      "execution_count": 111,
      "outputs": []
    },
    {
      "cell_type": "code",
      "source": [
        "from sklearn.metrics import confusion_matrix\n",
        "loaded_model.eval()\n",
        "all_preds = []\n",
        "all_labels = []\n",
        "\n",
        "with torch.no_grad():\n",
        "    for inputs, labels in testloader:\n",
        "        inputs, labels = inputs.to(device), labels.to(device)\n",
        "        outputs = loaded_model(inputs)\n",
        "        _, preds = torch.max(outputs, 1)\n",
        "\n",
        "        all_preds.extend(preds.cpu().numpy())\n",
        "        all_labels.extend(labels.cpu().numpy())\n",
        "\n",
        "confmatx=confusion_matrix(all_labels, all_preds, labels=np.arange(2))"
      ],
      "metadata": {
        "id": "wfcCtEVfei6l"
      },
      "execution_count": 112,
      "outputs": []
    },
    {
      "cell_type": "code",
      "source": [
        "plt.figure(figsize=(10, 8))\n",
        "sns.heatmap(confmatx, annot=True, fmt='d')\n",
        "plt.xlabel('Predicted')\n",
        "plt.ylabel('Actual')\n",
        "plt.show()"
      ],
      "metadata": {
        "colab": {
          "base_uri": "https://localhost:8080/",
          "height": 696
        },
        "id": "iABlUBDuhqBu",
        "outputId": "bf86297d-7833-4aca-a9ed-0e1cf66575d5"
      },
      "execution_count": 113,
      "outputs": [
        {
          "output_type": "display_data",
          "data": {
            "text/plain": [
              "<Figure size 1000x800 with 2 Axes>"
            ],
            "image/png": "[encoded data removed]"
          },
          "metadata": {}
        }
      ]
    },
    {
      "cell_type": "code",
      "source": [
        "metrics = {\n",
        "        'precision': [],\n",
        "        'recall': [],\n",
        "        'f1': [],\n",
        "    }\n",
        "\n",
        "for i in range(confmatx.shape[0]):\n",
        "    TP = confmatx[i, i]\n",
        "    FP = np.sum(confmatx[:, i]) - TP\n",
        "    FN = np.sum(confmatx[i, :]) - TP\n",
        "\n",
        "    precision = TP / (TP + FP + 1e-10)\n",
        "    recall = TP / (TP + FN + 1e-10)\n",
        "    f1 = 2 * (precision * recall) / (precision + recall + 1e-10)\n",
        "\n",
        "    metrics['precision'].append(precision)\n",
        "    metrics['recall'].append(recall)\n",
        "    metrics['f1'].append(f1)\n"
      ],
      "metadata": {
        "id": "H1dH9DFBfuBC"
      },
      "execution_count": 122,
      "outputs": []
    },
    {
      "cell_type": "code",
      "source": [
        "for i in metrics:\n",
        "  print(f\"{i}:{np.mean(metrics[i])}\")"
      ],
      "metadata": {
        "colab": {
          "base_uri": "https://localhost:8080/"
        },
        "id": "hOHuOCIVllhW",
        "outputId": "3f3942e7-9867-48c1-8633-b61d6258527f"
      },
      "execution_count": 123,
      "outputs": [
        {
          "output_type": "stream",
          "name": "stdout",
          "text": [
            "precision:0.9999999999947862\n",
            "recall:0.9999999999947862\n",
            "f1:0.9999999999447863\n"
          ]
        }
      ]
    }
  ]
}