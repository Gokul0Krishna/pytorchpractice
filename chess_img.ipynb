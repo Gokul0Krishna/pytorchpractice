{
 "cells": [
  {
   "cell_type": "code",
   "execution_count": 13,
   "id": "40b4504a",
   "metadata": {},
   "outputs": [],
   "source": [
    "import os\n",
    "\n",
    "images=[]\n",
    "lable=[]\n",
    "\n",
    "lables=['Bishop','King','Knight','Pawn','Queen','Rook']\n",
    "a=0\n",
    "for i in os.listdir(r\"C:\\Users\\ASUS\\OneDrive\\Desktop\\code\\datasets\\Chess\"):\n",
    "    c=0\n",
    "    path=os.path.join(r\"C:\\Users\\ASUS\\OneDrive\\Desktop\\code\\datasets\\Chess\",i)\n",
    "    for j in os.listdir(path):\n",
    "        if c>=76:\n",
    "            break\n",
    "        images.append(os.path.join(path,j))\n",
    "        lable.append(lables[a])\n",
    "        c+=1\n",
    "    a+=1"
   ]
  },
  {
   "cell_type": "code",
   "execution_count": 4,
   "id": "96afd5a5",
   "metadata": {},
   "outputs": [
    {
     "data": {
      "text/plain": [
       "456"
      ]
     },
     "execution_count": 4,
     "metadata": {},
     "output_type": "execute_result"
    }
   ],
   "source": [
    "len(images)"
   ]
  },
  {
   "cell_type": "code",
   "execution_count": 5,
   "id": "6c839270",
   "metadata": {},
   "outputs": [
    {
     "data": {
      "text/plain": [
       "456"
      ]
     },
     "execution_count": 5,
     "metadata": {},
     "output_type": "execute_result"
    }
   ],
   "source": [
    "len(lable)"
   ]
  },
  {
   "cell_type": "code",
   "execution_count": 6,
   "id": "6281d61f",
   "metadata": {},
   "outputs": [
    {
     "name": "stdout",
     "output_type": "stream",
     "text": [
      "76\n",
      "76\n",
      "76\n",
      "76\n",
      "76\n",
      "76\n"
     ]
    }
   ],
   "source": [
    "for i in lables:\n",
    "    print(lable.count(i))"
   ]
  },
  {
   "cell_type": "code",
   "execution_count": 14,
   "id": "0a35ebe6",
   "metadata": {},
   "outputs": [],
   "source": [
    "import pandas as pd\n",
    "from PIL import Image\n",
    "import numpy as np"
   ]
  },
  {
   "cell_type": "code",
   "execution_count": 21,
   "id": "79a53c46",
   "metadata": {},
   "outputs": [],
   "source": [
    "dtf={\n",
    "    # \"X\":imagearray,\n",
    "    \"X\":images,\n",
    "    \"Y\":lable\n",
    "}\n",
    "df=pd.DataFrame(dtf)\n",
    "df=df.sample(frac=1)\n",
    "df=pd.get_dummies(df,columns=[\"Y\"],dtype=float)\n",
    "df.columns = df.columns.str.replace(\"Y_\", \"\")"
   ]
  },
  {
   "cell_type": "code",
   "execution_count": 22,
   "id": "89a2db71",
   "metadata": {},
   "outputs": [
    {
     "data": {
      "text/html": [
       "<div>\n",
       "<style scoped>\n",
       "    .dataframe tbody tr th:only-of-type {\n",
       "        vertical-align: middle;\n",
       "    }\n",
       "\n",
       "    .dataframe tbody tr th {\n",
       "        vertical-align: top;\n",
       "    }\n",
       "\n",
       "    .dataframe thead th {\n",
       "        text-align: right;\n",
       "    }\n",
       "</style>\n",
       "<table border=\"1\" class=\"dataframe\">\n",
       "  <thead>\n",
       "    <tr style=\"text-align: right;\">\n",
       "      <th></th>\n",
       "      <th>X</th>\n",
       "      <th>Bishop</th>\n",
       "      <th>King</th>\n",
       "      <th>Knight</th>\n",
       "      <th>Pawn</th>\n",
       "      <th>Queen</th>\n",
       "      <th>Rook</th>\n",
       "    </tr>\n",
       "  </thead>\n",
       "  <tbody>\n",
       "    <tr>\n",
       "      <th>84</th>\n",
       "      <td>C:\\Users\\ASUS\\OneDrive\\Desktop\\code\\datasets\\C...</td>\n",
       "      <td>0.0</td>\n",
       "      <td>1.0</td>\n",
       "      <td>0.0</td>\n",
       "      <td>0.0</td>\n",
       "      <td>0.0</td>\n",
       "      <td>0.0</td>\n",
       "    </tr>\n",
       "    <tr>\n",
       "      <th>444</th>\n",
       "      <td>C:\\Users\\ASUS\\OneDrive\\Desktop\\code\\datasets\\C...</td>\n",
       "      <td>0.0</td>\n",
       "      <td>0.0</td>\n",
       "      <td>0.0</td>\n",
       "      <td>0.0</td>\n",
       "      <td>0.0</td>\n",
       "      <td>1.0</td>\n",
       "    </tr>\n",
       "    <tr>\n",
       "      <th>262</th>\n",
       "      <td>C:\\Users\\ASUS\\OneDrive\\Desktop\\code\\datasets\\C...</td>\n",
       "      <td>0.0</td>\n",
       "      <td>0.0</td>\n",
       "      <td>0.0</td>\n",
       "      <td>1.0</td>\n",
       "      <td>0.0</td>\n",
       "      <td>0.0</td>\n",
       "    </tr>\n",
       "    <tr>\n",
       "      <th>452</th>\n",
       "      <td>C:\\Users\\ASUS\\OneDrive\\Desktop\\code\\datasets\\C...</td>\n",
       "      <td>0.0</td>\n",
       "      <td>0.0</td>\n",
       "      <td>0.0</td>\n",
       "      <td>0.0</td>\n",
       "      <td>0.0</td>\n",
       "      <td>1.0</td>\n",
       "    </tr>\n",
       "    <tr>\n",
       "      <th>263</th>\n",
       "      <td>C:\\Users\\ASUS\\OneDrive\\Desktop\\code\\datasets\\C...</td>\n",
       "      <td>0.0</td>\n",
       "      <td>0.0</td>\n",
       "      <td>0.0</td>\n",
       "      <td>1.0</td>\n",
       "      <td>0.0</td>\n",
       "      <td>0.0</td>\n",
       "    </tr>\n",
       "  </tbody>\n",
       "</table>\n",
       "</div>"
      ],
      "text/plain": [
       "                                                     X  Bishop  King  Knight  \\\n",
       "84   C:\\Users\\ASUS\\OneDrive\\Desktop\\code\\datasets\\C...     0.0   1.0     0.0   \n",
       "444  C:\\Users\\ASUS\\OneDrive\\Desktop\\code\\datasets\\C...     0.0   0.0     0.0   \n",
       "262  C:\\Users\\ASUS\\OneDrive\\Desktop\\code\\datasets\\C...     0.0   0.0     0.0   \n",
       "452  C:\\Users\\ASUS\\OneDrive\\Desktop\\code\\datasets\\C...     0.0   0.0     0.0   \n",
       "263  C:\\Users\\ASUS\\OneDrive\\Desktop\\code\\datasets\\C...     0.0   0.0     0.0   \n",
       "\n",
       "     Pawn  Queen  Rook  \n",
       "84    0.0    0.0   0.0  \n",
       "444   0.0    0.0   1.0  \n",
       "262   1.0    0.0   0.0  \n",
       "452   0.0    0.0   1.0  \n",
       "263   1.0    0.0   0.0  "
      ]
     },
     "execution_count": 22,
     "metadata": {},
     "output_type": "execute_result"
    }
   ],
   "source": [
    "df.head()"
   ]
  },
  {
   "cell_type": "code",
   "execution_count": 23,
   "id": "901b7601",
   "metadata": {},
   "outputs": [],
   "source": [
    "from sklearn.model_selection import train_test_split\n",
    "xtrain,xtest,ytrain,ytest=train_test_split(df['X'],df[lables],random_state=69,test_size=0.3)\n",
    "xtest,xval,ytest,yval=train_test_split(xtest,ytest,random_state=69,test_size=0.5)"
   ]
  },
  {
   "cell_type": "code",
   "execution_count": 24,
   "id": "4f100d9c",
   "metadata": {},
   "outputs": [],
   "source": [
    "import torch\n",
    "from torch.utils.data import DataLoader,Dataset\n",
    "from torchvision import transforms\n",
    "import torch.nn as nn"
   ]
  },
  {
   "cell_type": "code",
   "execution_count": 25,
   "id": "531f448c",
   "metadata": {},
   "outputs": [],
   "source": [
    "ransform=transforms.Compose([\n",
    "    transforms.Resize((128,128)),\n",
    "    transforms.Grayscale(),\n",
    "    transforms.ToTensor(),\n",
    "    transforms.ConvertImageDtype(torch.float)\n",
    "])"
   ]
  },
  {
   "cell_type": "code",
   "execution_count": 26,
   "id": "b8e60fec",
   "metadata": {},
   "outputs": [
    {
     "data": {
      "text/plain": [
       "'C:\\\\Users\\\\ASUS\\\\OneDrive\\\\Desktop\\\\code\\\\datasets\\\\Chess\\\\Bishop\\\\00000062.jpg'"
      ]
     },
     "execution_count": 26,
     "metadata": {},
     "output_type": "execute_result"
    }
   ],
   "source": [
    "label_row =xtrain.iloc[0]\n",
    "# label_tensor = torch.tensor(label_row.values.astype(np.float32))\n",
    "# label_index = torch.argmax(label_tensor).item()\n",
    "label_row"
   ]
  },
  {
   "cell_type": "code",
   "execution_count": 27,
   "id": "ec67ab87",
   "metadata": {},
   "outputs": [],
   "source": [
    "class customdataset(Dataset):\n",
    "    def __init__(self,x,y,transform=None):\n",
    "        self.x=x\n",
    "        self.y=y\n",
    "        self.transform=transform\n",
    "    \n",
    "    def __len__(self):\n",
    "        return self.x.shape[0]\n",
    "    \n",
    "    def __getitem__(self, index):\n",
    "        imgpath=self.x.iloc[index]\n",
    "        if self.transform:\n",
    "            image=Image.open(imgpath)\n",
    "            image=self.transform(image)\n",
    "        label_row = self.y.iloc[index, 1:7]\n",
    "        label_tensor = torch.tensor(label_row.values.astype(np.float32))\n",
    "        label_index = torch.argmax(label_tensor).item()\n",
    "\n",
    "        return image,label_index\n",
    "    \n",
    "      "
   ]
  },
  {
   "cell_type": "code",
   "execution_count": 28,
   "id": "ceb93768",
   "metadata": {},
   "outputs": [],
   "source": [
    "traindataset=customdataset(x=xtrain,y=ytrain,transform=ransform)\n",
    "testdataset=customdataset(x=xtest,y=ytest,transform=ransform)\n",
    "valdataset=customdataset(x=xval,y=yval,transform=ransform)"
   ]
  },
  {
   "cell_type": "code",
   "execution_count": 29,
   "id": "38e1a496",
   "metadata": {},
   "outputs": [],
   "source": [
    "LR=1e-4\n",
    "BATCH_SIZE=10\n",
    "EPOCHES=5"
   ]
  },
  {
   "cell_type": "code",
   "execution_count": 30,
   "id": "ae5ffb49",
   "metadata": {},
   "outputs": [],
   "source": [
    "trainloader=DataLoader(traindataset,batch_size=BATCH_SIZE,shuffle=True)\n",
    "testloader=DataLoader(testdataset,batch_size=BATCH_SIZE,shuffle=True)\n",
    "valloader=DataLoader(valdataset,batch_size=BATCH_SIZE,shuffle=True)"
   ]
  },
  {
   "cell_type": "code",
   "execution_count": 63,
   "id": "d26ab964",
   "metadata": {},
   "outputs": [],
   "source": [
    "class Meth(nn.Module):\n",
    "    def __init__(self):\n",
    "        super().__init__()\n",
    "\n",
    "        self.conv1=nn.Conv2d(1,32,kernel_size=3,padding=1)\n",
    "        self.conv2=nn.Conv2d(32,64,kernel_size=3,padding=1)\n",
    "        self.conv3=nn.Conv2d(64,128,kernel_size=3,padding=1)\n",
    "        self.pooling=nn.MaxPool2d(2,2)\n",
    "        self.relu= nn.ReLU()\n",
    "        self.flatten=nn.Flatten()\n",
    "        self.linear=nn.Linear((128*16*16),128)\n",
    "        self.output=nn.Linear(128,len(lables))\n",
    "    \n",
    "    def forward(self,x):\n",
    "        x=self.conv1(x)\n",
    "        x=self.pooling(x)\n",
    "        x=self.relu(x)\n",
    "\n",
    "        x=self.conv2(x) \n",
    "        x=self.pooling(x)\n",
    "        x=self.relu(x)\n",
    "\n",
    "        x=self.conv3(x) \n",
    "        x=self.pooling(x)\n",
    "        x=self.relu(x)\n",
    "        \n",
    "        x=self.flatten(x)\n",
    "        x=self.linear(x)\n",
    "        x=self.output(x)\n",
    "\n",
    "        return x"
   ]
  },
  {
   "cell_type": "code",
   "execution_count": 64,
   "id": "7837413e",
   "metadata": {},
   "outputs": [],
   "source": [
    "model=Meth()\n"
   ]
  },
  {
   "cell_type": "code",
   "execution_count": 65,
   "id": "6ccf283a",
   "metadata": {},
   "outputs": [],
   "source": [
    "import torch.optim as optim\n",
    "critetion=nn.CrossEntropyLoss()\n",
    "optimizer=optim.Adam(model.parameters(),lr=LR)"
   ]
  },
  {
   "cell_type": "code",
   "execution_count": 66,
   "id": "71db3364",
   "metadata": {},
   "outputs": [
    {
     "name": "stdout",
     "output_type": "stream",
     "text": [
      "Epoch:1\n",
      "          \n",
      "          train_loss:1.6460257989112113 ,train_accuracy24.76489028213166\n",
      "          val_loss: 1.539860967276753 ,val_accuracy: 37.68115942028986\n",
      "====================\n",
      "Epoch:2\n",
      "          \n",
      "          train_loss:1.5649598336145047 ,train_accuracy28.526645768025077\n",
      "          val_loss: 1.510054802549058 ,val_accuracy: 39.130434782608695\n",
      "====================\n",
      "Epoch:3\n",
      "          \n",
      "          train_loss:1.48674787959335 ,train_accuracy38.24451410658307\n",
      "          val_loss: 1.5513085576071255 ,val_accuracy: 34.78260869565217\n",
      "====================\n",
      "Epoch:4\n",
      "          \n",
      "          train_loss:1.402451421026152 ,train_accuracy42.94670846394985\n",
      "          val_loss: 1.5420603855796482 ,val_accuracy: 31.88405797101449\n",
      "====================\n",
      "Epoch:5\n",
      "          \n",
      "          train_loss:1.2962684481868922 ,train_accuracy48.90282131661442\n",
      "          val_loss: 1.5343757435895395 ,val_accuracy: 34.78260869565217\n",
      "====================\n"
     ]
    }
   ],
   "source": [
    "\n",
    "for i in range(EPOCHES):\n",
    "    ttloss=0\n",
    "    tacc=0\n",
    "    ttsample=0\n",
    "\n",
    "    vtloss=0\n",
    "    vacc=0\n",
    "    vtsample=0\n",
    "\n",
    "    model.train()\n",
    "\n",
    "    for value,label in trainloader:\n",
    "        optimizer.zero_grad()\n",
    "        output=model(value)\n",
    "        if label.dim() > 1:\n",
    "            label = torch.argmax(label, dim=1)\n",
    "        # loss\n",
    "        batchloss=critetion(output,label)\n",
    "        ttloss+=batchloss.item()*value.size(0)\n",
    "        # accuracy\n",
    "        _, preds = torch.max(output, 1)\n",
    "        tacc+=(preds == label).sum().item()\n",
    "        ttsample += label.size(0)\n",
    "\n",
    "        batchloss.backward()\n",
    "        optimizer.step()\n",
    "        # optimizer.zero_grad()\n",
    "\n",
    "    model.eval()\n",
    "    with torch.no_grad():\n",
    "        for value,label in valloader:\n",
    "            if label.dim() > 1:\n",
    "                label = torch.argmax(label, dim=1)\n",
    "            output=model(value)\n",
    "            # loss\n",
    "            batchloss=critetion(output,label)\n",
    "            vtloss+=batchloss.item()*value.size(0)\n",
    "            # accuracy\n",
    "           \n",
    "            _, preds = torch.max(output, 1)\n",
    "            vacc += (preds == label).sum().item()\n",
    "            vtsample += label.size(0)\n",
    "\n",
    "    tatl = ttloss / len(trainloader.dataset)\n",
    "    ta = (tacc / ttsample)*100 \n",
    "\n",
    "    vatl = vtloss / len(valloader.dataset)\n",
    "    va= (vacc / vtsample)*100\n",
    "\n",
    "    print(f\"\"\"Epoch:{i+1}\n",
    "          \n",
    "          train_loss:{tatl} ,train_accuracy{ta}\n",
    "          val_loss: {vatl} ,val_accuracy: {va}\"\"\")\n",
    "    \n",
    "    print(\"=\"*20)"
   ]
  }
 ],
 "metadata": {
  "kernelspec": {
   "display_name": "PyTorch",
   "language": "python",
   "name": "python3"
  },
  "language_info": {
   "codemirror_mode": {
    "name": "ipython",
    "version": 3
   },
   "file_extension": ".py",
   "mimetype": "text/x-python",
   "name": "python",
   "nbconvert_exporter": "python",
   "pygments_lexer": "ipython3",
   "version": "3.9.23"
  }
 },
 "nbformat": 4,
 "nbformat_minor": 5
}
