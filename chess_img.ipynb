{
 "cells": [
  {
   "cell_type": "code",
   "execution_count": 31,
   "id": "40b4504a",
   "metadata": {},
   "outputs": [],
   "source": [
    "import os\n",
    "\n",
    "images=[]\n",
    "lable=[]\n",
    "\n",
    "lables=['Bishop','King','Knight','Pawn','Queen','Rook']\n",
    "a=0\n",
    "for i in os.listdir(r\"C:\\Users\\ASUS\\OneDrive\\Desktop\\code\\datasets\\Chess\"):\n",
    "    c=0\n",
    "    path=os.path.join(r\"C:\\Users\\ASUS\\OneDrive\\Desktop\\code\\datasets\\Chess\",i)\n",
    "    for j in os.listdir(path):\n",
    "        if c>=76:\n",
    "            break\n",
    "        images.append(os.path.join(path,j))\n",
    "        lable.append(lables[a])\n",
    "        c+=1\n",
    "    a+=1"
   ]
  },
  {
   "cell_type": "code",
   "execution_count": 2,
   "id": "96afd5a5",
   "metadata": {},
   "outputs": [
    {
     "data": {
      "text/plain": [
       "456"
      ]
     },
     "execution_count": 2,
     "metadata": {},
     "output_type": "execute_result"
    }
   ],
   "source": [
    "len(images)"
   ]
  },
  {
   "cell_type": "code",
   "execution_count": 27,
   "id": "6c839270",
   "metadata": {},
   "outputs": [
    {
     "data": {
      "text/plain": [
       "456"
      ]
     },
     "execution_count": 27,
     "metadata": {},
     "output_type": "execute_result"
    }
   ],
   "source": [
    "len(lable)"
   ]
  },
  {
   "cell_type": "code",
   "execution_count": 28,
   "id": "6281d61f",
   "metadata": {},
   "outputs": [
    {
     "name": "stdout",
     "output_type": "stream",
     "text": [
      "76\n",
      "76\n",
      "76\n",
      "76\n",
      "76\n",
      "76\n"
     ]
    }
   ],
   "source": [
    "for i in lables:\n",
    "    print(lable.count(i))"
   ]
  },
  {
   "cell_type": "code",
   "execution_count": 3,
   "id": "0a35ebe6",
   "metadata": {},
   "outputs": [],
   "source": [
    "import pandas as pd\n",
    "from PIL import Image\n",
    "import numpy as np"
   ]
  },
  {
   "cell_type": "code",
   "execution_count": 4,
   "id": "8fb265ff",
   "metadata": {},
   "outputs": [],
   "source": [
    "imagearray=[]\n",
    "for i in images:\n",
    "    acimg=Image.open(i)\n",
    "    acimg=acimg.resize((224,224))\n",
    "    imgarray=np.array(acimg)\n",
    "    imgarray=imgarray/255.0\n",
    "    imagearray.append(imgarray)\n"
   ]
  },
  {
   "cell_type": "code",
   "execution_count": 12,
   "id": "d9eac18f",
   "metadata": {},
   "outputs": [
    {
     "data": {
      "text/plain": [
       "array([[[0.48627451, 0.35686275, 0.22745098],\n",
       "        [0.48627451, 0.35686275, 0.22745098],\n",
       "        [0.48235294, 0.35294118, 0.22352941],\n",
       "        ...,\n",
       "        [0.49019608, 0.36862745, 0.29019608],\n",
       "        [0.49411765, 0.37254902, 0.29411765],\n",
       "        [0.49411765, 0.37254902, 0.29411765]],\n",
       "\n",
       "       [[0.48235294, 0.35294118, 0.23137255],\n",
       "        [0.48235294, 0.35294118, 0.22745098],\n",
       "        [0.47843137, 0.34901961, 0.21960784],\n",
       "        ...,\n",
       "        [0.4627451 , 0.34117647, 0.25882353],\n",
       "        [0.46666667, 0.34509804, 0.2627451 ],\n",
       "        [0.46666667, 0.34509804, 0.2627451 ]],\n",
       "\n",
       "       [[0.47058824, 0.34901961, 0.22745098],\n",
       "        [0.47058824, 0.34901961, 0.22745098],\n",
       "        [0.4745098 , 0.34509804, 0.22352941],\n",
       "        ...,\n",
       "        [0.43529412, 0.31372549, 0.23137255],\n",
       "        [0.43921569, 0.31764706, 0.23529412],\n",
       "        [0.43921569, 0.31764706, 0.23529412]],\n",
       "\n",
       "       ...,\n",
       "\n",
       "       [[0.94901961, 0.83137255, 0.54901961],\n",
       "        [0.95294118, 0.83137255, 0.55294118],\n",
       "        [0.96470588, 0.83529412, 0.56470588],\n",
       "        ...,\n",
       "        [0.94509804, 0.79215686, 0.5372549 ],\n",
       "        [0.94117647, 0.78823529, 0.53333333],\n",
       "        [0.9372549 , 0.78431373, 0.52941176]],\n",
       "\n",
       "       [[1.        , 0.90980392, 0.62352941],\n",
       "        [1.        , 0.90980392, 0.62745098],\n",
       "        [1.        , 0.91372549, 0.63921569],\n",
       "        ...,\n",
       "        [0.92941176, 0.77254902, 0.50196078],\n",
       "        [0.91372549, 0.75686275, 0.48627451],\n",
       "        [0.90980392, 0.75294118, 0.48235294]],\n",
       "\n",
       "       [[0.98431373, 0.8745098 , 0.58823529],\n",
       "        [0.98823529, 0.87843137, 0.58823529],\n",
       "        [0.99215686, 0.88235294, 0.59607843],\n",
       "        ...,\n",
       "        [0.88627451, 0.71764706, 0.44705882],\n",
       "        [0.86666667, 0.69803922, 0.42745098],\n",
       "        [0.85490196, 0.68627451, 0.41568627]]])"
      ]
     },
     "execution_count": 12,
     "metadata": {},
     "output_type": "execute_result"
    }
   ],
   "source": [
    "imagearray[0]"
   ]
  },
  {
   "cell_type": "code",
   "execution_count": 32,
   "id": "79a53c46",
   "metadata": {},
   "outputs": [],
   "source": [
    "dtf={\n",
    "    # \"X\":imagearray,\n",
    "    \"X\":images,\n",
    "    \"Y\":lable\n",
    "}\n",
    "df=pd.DataFrame(dtf)\n",
    "df=df.sample(frac=1)\n",
    "dt=pd.get_dummies(df[\"Y\"],dtype=float,)\n",
    "df= pd.concat([df,dt], axis=1)\n",
    "df = df.drop('Y', axis=1)"
   ]
  },
  {
   "cell_type": "code",
   "execution_count": 33,
   "id": "b5cb6cc6",
   "metadata": {},
   "outputs": [
    {
     "data": {
      "text/html": [
       "<div>\n",
       "<style scoped>\n",
       "    .dataframe tbody tr th:only-of-type {\n",
       "        vertical-align: middle;\n",
       "    }\n",
       "\n",
       "    .dataframe tbody tr th {\n",
       "        vertical-align: top;\n",
       "    }\n",
       "\n",
       "    .dataframe thead th {\n",
       "        text-align: right;\n",
       "    }\n",
       "</style>\n",
       "<table border=\"1\" class=\"dataframe\">\n",
       "  <thead>\n",
       "    <tr style=\"text-align: right;\">\n",
       "      <th></th>\n",
       "      <th>X</th>\n",
       "      <th>Bishop</th>\n",
       "      <th>King</th>\n",
       "      <th>Knight</th>\n",
       "      <th>Pawn</th>\n",
       "      <th>Queen</th>\n",
       "      <th>Rook</th>\n",
       "    </tr>\n",
       "  </thead>\n",
       "  <tbody>\n",
       "    <tr>\n",
       "      <th>333</th>\n",
       "      <td>C:\\Users\\ASUS\\OneDrive\\Desktop\\code\\datasets\\C...</td>\n",
       "      <td>0.0</td>\n",
       "      <td>0.0</td>\n",
       "      <td>0.0</td>\n",
       "      <td>0.0</td>\n",
       "      <td>1.0</td>\n",
       "      <td>0.0</td>\n",
       "    </tr>\n",
       "    <tr>\n",
       "      <th>322</th>\n",
       "      <td>C:\\Users\\ASUS\\OneDrive\\Desktop\\code\\datasets\\C...</td>\n",
       "      <td>0.0</td>\n",
       "      <td>0.0</td>\n",
       "      <td>0.0</td>\n",
       "      <td>0.0</td>\n",
       "      <td>1.0</td>\n",
       "      <td>0.0</td>\n",
       "    </tr>\n",
       "    <tr>\n",
       "      <th>228</th>\n",
       "      <td>C:\\Users\\ASUS\\OneDrive\\Desktop\\code\\datasets\\C...</td>\n",
       "      <td>0.0</td>\n",
       "      <td>0.0</td>\n",
       "      <td>0.0</td>\n",
       "      <td>1.0</td>\n",
       "      <td>0.0</td>\n",
       "      <td>0.0</td>\n",
       "    </tr>\n",
       "    <tr>\n",
       "      <th>440</th>\n",
       "      <td>C:\\Users\\ASUS\\OneDrive\\Desktop\\code\\datasets\\C...</td>\n",
       "      <td>0.0</td>\n",
       "      <td>0.0</td>\n",
       "      <td>0.0</td>\n",
       "      <td>0.0</td>\n",
       "      <td>0.0</td>\n",
       "      <td>1.0</td>\n",
       "    </tr>\n",
       "    <tr>\n",
       "      <th>87</th>\n",
       "      <td>C:\\Users\\ASUS\\OneDrive\\Desktop\\code\\datasets\\C...</td>\n",
       "      <td>0.0</td>\n",
       "      <td>1.0</td>\n",
       "      <td>0.0</td>\n",
       "      <td>0.0</td>\n",
       "      <td>0.0</td>\n",
       "      <td>0.0</td>\n",
       "    </tr>\n",
       "  </tbody>\n",
       "</table>\n",
       "</div>"
      ],
      "text/plain": [
       "                                                     X  Bishop  King  Knight  \\\n",
       "333  C:\\Users\\ASUS\\OneDrive\\Desktop\\code\\datasets\\C...     0.0   0.0     0.0   \n",
       "322  C:\\Users\\ASUS\\OneDrive\\Desktop\\code\\datasets\\C...     0.0   0.0     0.0   \n",
       "228  C:\\Users\\ASUS\\OneDrive\\Desktop\\code\\datasets\\C...     0.0   0.0     0.0   \n",
       "440  C:\\Users\\ASUS\\OneDrive\\Desktop\\code\\datasets\\C...     0.0   0.0     0.0   \n",
       "87   C:\\Users\\ASUS\\OneDrive\\Desktop\\code\\datasets\\C...     0.0   1.0     0.0   \n",
       "\n",
       "     Pawn  Queen  Rook  \n",
       "333   0.0    1.0   0.0  \n",
       "322   0.0    1.0   0.0  \n",
       "228   1.0    0.0   0.0  \n",
       "440   0.0    0.0   1.0  \n",
       "87    0.0    0.0   0.0  "
      ]
     },
     "execution_count": 33,
     "metadata": {},
     "output_type": "execute_result"
    }
   ],
   "source": [
    "df.head()"
   ]
  },
  {
   "cell_type": "code",
   "execution_count": 34,
   "id": "901b7601",
   "metadata": {},
   "outputs": [],
   "source": [
    "from sklearn.model_selection import train_test_split\n",
    "xtrain,xtest,ytrain,ytest=train_test_split(df['X'],df[lables],random_state=69,test_size=0.3)\n",
    "xtest,xval,ytest,yval=train_test_split(xtest,ytest,random_state=69,test_size=0.5)"
   ]
  },
  {
   "cell_type": "code",
   "execution_count": 21,
   "id": "4f100d9c",
   "metadata": {},
   "outputs": [],
   "source": [
    "import torch\n",
    "from torch.utils.data import DataLoader,Dataset\n",
    "from torchvision import transforms"
   ]
  },
  {
   "cell_type": "code",
   "execution_count": 36,
   "id": "531f448c",
   "metadata": {},
   "outputs": [],
   "source": [
    "ransform=transforms.Compose([\n",
    "    transforms.Resize((128,128)),\n",
    "    transforms.ToTensor(),\n",
    "    transforms.ConvertImageDtype(torch.float)\n",
    "])"
   ]
  },
  {
   "cell_type": "code",
   "execution_count": 43,
   "id": "b8e60fec",
   "metadata": {},
   "outputs": [
    {
     "data": {
      "text/plain": [
       "'C:\\\\Users\\\\ASUS\\\\OneDrive\\\\Desktop\\\\code\\\\datasets\\\\Chess\\\\Queen\\\\00000044.jpg'"
      ]
     },
     "execution_count": 43,
     "metadata": {},
     "output_type": "execute_result"
    }
   ],
   "source": [
    "df.iloc[0,0]"
   ]
  },
  {
   "cell_type": "code",
   "execution_count": null,
   "id": "ec67ab87",
   "metadata": {},
   "outputs": [],
   "source": [
    "class customdataset(Dataset):\n",
    "    def __init__(self,dataset,transform=None):\n",
    "        self.df=dataset\n",
    "        self.transform=transform\n",
    "    \n",
    "    def __len__(self):\n",
    "        return self.df.shape[0]\n",
    "    \n",
    "    def __getitem__(self, index):\n",
    "        imgpath=self.df.iloc[index,0]\n",
    "        \n",
    "      "
   ]
  },
  {
   "cell_type": "code",
   "execution_count": null,
   "id": "ceb93768",
   "metadata": {},
   "outputs": [
    {
     "name": "stdout",
     "output_type": "stream",
     "text": [
      "i\n",
      "i\n",
      "      \n"
     ]
    }
   ],
   "source": [
    "print()"
   ]
  }
 ],
 "metadata": {
  "kernelspec": {
   "display_name": "PyTorch",
   "language": "python",
   "name": "python3"
  },
  "language_info": {
   "codemirror_mode": {
    "name": "ipython",
    "version": 3
   },
   "file_extension": ".py",
   "mimetype": "text/x-python",
   "name": "python",
   "nbconvert_exporter": "python",
   "pygments_lexer": "ipython3",
   "version": "3.9.23"
  }
 },
 "nbformat": 4,
 "nbformat_minor": 5
}
