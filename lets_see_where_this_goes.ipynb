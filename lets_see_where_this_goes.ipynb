{
 "cells": [
  {
   "cell_type": "code",
   "execution_count": 2,
   "id": "d5ba1ccb",
   "metadata": {},
   "outputs": [],
   "source": [
    "with open(r\"C:\\Users\\ASUS\\OneDrive\\Desktop\\code\\datasets\\little_woman.txt\",mode='r',encoding='utf-8') as file:\n",
    "    # print(file.read())\n",
    "    chars=sorted(set(file.read()))"
   ]
  },
  {
   "cell_type": "code",
   "execution_count": 3,
   "id": "141e9b69",
   "metadata": {},
   "outputs": [
    {
     "name": "stdout",
     "output_type": "stream",
     "text": [
      "['\\n', ' ', '!', '\"', '#', '$', '%', '&', \"'\", '(', ')', '*', ',', '-', '.', '/', '0', '1', '2', '3', '4', '5', '6', '7', '8', '9', ':', ';', '=', '?', 'A', 'B', 'C', 'D', 'E', 'F', 'G', 'H', 'I', 'J', 'K', 'L', 'M', 'N', 'O', 'P', 'Q', 'R', 'S', 'T', 'U', 'V', 'W', 'X', 'Y', 'Z', '[', ']', '_', 'a', 'b', 'c', 'd', 'e', 'f', 'g', 'h', 'i', 'j', 'k', 'l', 'm', 'n', 'o', 'p', 'q', 'r', 's', 't', 'u', 'v', 'w', 'x', 'y', 'z', '{', 'à', 'â', 'ä', 'æ', 'ç', 'è', 'é', 'ê', 'ë', 'ö', 'ü', 'œ', '—', '‘', '’', '“', '”', '•', '™', '\\ufeff']\n"
     ]
    }
   ],
   "source": [
    "print(chars)"
   ]
  },
  {
   "cell_type": "code",
   "execution_count": 8,
   "id": "2afb2a6a",
   "metadata": {},
   "outputs": [],
   "source": [
    "'''\n",
    "Tokenizer \n",
    "maps everyword to a int and vice wersa\n",
    "'''\n",
    "string_to_list = {ch:i for i,ch in enumerate(chars)}\n",
    "list_to_string = {i:ch for i,ch in enumerate(chars)}\n",
    "\n",
    "Encode = lambda s:[string_to_list[i] for i in s]\n",
    "Decode = lambda j:''.join([list_to_string[i] for i in j])"
   ]
  },
  {
   "cell_type": "code",
   "execution_count": 9,
   "id": "abab7c47",
   "metadata": {},
   "outputs": [
    {
     "data": {
      "text/plain": [
       "[66, 63, 70, 70, 73, 1, 81, 73, 76, 70, 62]"
      ]
     },
     "execution_count": 9,
     "metadata": {},
     "output_type": "execute_result"
    }
   ],
   "source": [
    "Encode('hello world')"
   ]
  },
  {
   "cell_type": "code",
   "execution_count": 10,
   "id": "0a5b5b3a",
   "metadata": {},
   "outputs": [
    {
     "data": {
      "text/plain": [
       "'hello world'"
      ]
     },
     "execution_count": 10,
     "metadata": {},
     "output_type": "execute_result"
    }
   ],
   "source": [
    "Decode([66, 63, 70, 70, 73, 1, 81, 73, 76, 70, 62])"
   ]
  },
  {
   "cell_type": "code",
   "execution_count": 11,
   "id": "517186d5",
   "metadata": {},
   "outputs": [],
   "source": [
    "import torch"
   ]
  }
 ],
 "metadata": {
  "kernelspec": {
   "display_name": "base",
   "language": "python",
   "name": "python3"
  },
  "language_info": {
   "codemirror_mode": {
    "name": "ipython",
    "version": 3
   },
   "file_extension": ".py",
   "mimetype": "text/x-python",
   "name": "python",
   "nbconvert_exporter": "python",
   "pygments_lexer": "ipython3",
   "version": "3.12.7"
  }
 },
 "nbformat": 4,
 "nbformat_minor": 5
}
